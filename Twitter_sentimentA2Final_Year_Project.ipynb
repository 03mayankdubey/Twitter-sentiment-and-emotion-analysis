{
  "nbformat": 4,
  "nbformat_minor": 0,
  "metadata": {
    "colab": {
      "name": "Twitter_sentimentA2Final Year Project.ipynb",
      "provenance": [],
      "toc_visible": true,
      "include_colab_link": true
    },
    "kernelspec": {
      "name": "python3",
      "display_name": "Python 3"
    },
    "accelerator": "GPU"
  },
  "cells": [
    {
      "cell_type": "markdown",
      "metadata": {
        "id": "view-in-github",
        "colab_type": "text"
      },
      "source": [
        "<a href=\"https://colab.research.google.com/github/rocoomak/Twitter-sentiment-and-emotion-analysis/blob/main/Twitter_sentimentA2Final_Year_Project.ipynb\" target=\"_parent\"><img src=\"https://colab.research.google.com/assets/colab-badge.svg\" alt=\"Open In Colab\"/></a>"
      ]
    },
    {
      "cell_type": "markdown",
      "metadata": {
        "id": "HMMIbdopWPf0"
      },
      "source": [
        "# **Basic Requirements**"
      ]
    },
    {
      "cell_type": "code",
      "metadata": {
        "id": "3JCDjUPuj2hR"
      },
      "source": [
        "import warnings\n",
        "warnings.filterwarnings('ignore')"
      ],
      "execution_count": null,
      "outputs": []
    },
    {
      "cell_type": "code",
      "metadata": {
        "id": "y1Vd0WQ5Cr4E"
      },
      "source": [
        "# DataFrame\n",
        "import pandas as pd\n",
        "\n",
        "# Matplot\n",
        "import matplotlib.pyplot as plt\n",
        "%matplotlib inline\n",
        "\n",
        "# Scikit-learn\n",
        "from sklearn.model_selection import train_test_split\n",
        "from sklearn.preprocessing import LabelEncoder\n",
        "from sklearn.metrics import confusion_matrix, classification_report, accuracy_score\n",
        "from sklearn.manifold import TSNE\n",
        "from sklearn.feature_extraction.text import TfidfVectorizer\n",
        "\n",
        "# Keras\n",
        "import keras\n",
        "from keras.preprocessing.text import Tokenizer\n",
        "from keras.preprocessing.sequence import pad_sequences\n",
        "from keras.models import Sequential\n",
        "from keras.layers import Activation, Dense, Dropout, Embedding, Flatten, Conv1D, MaxPooling1D, LSTM\n",
        "from keras import utils\n",
        "from keras.callbacks import ReduceLROnPlateau, EarlyStopping\n",
        "\n",
        "# nltk\n",
        "import nltk\n",
        "from nltk.corpus import stopwords\n",
        "from  nltk.stem import SnowballStemmer\n",
        "\n",
        "# Word2vec\n",
        "import gensim\n",
        "\n",
        "# Utility\n",
        "import re\n",
        "import numpy as np\n",
        "import os\n",
        "from collections import Counter\n",
        "import logging\n",
        "import time\n",
        "import pickle\n",
        "import itertools\n",
        "\n",
        "# Set log\n",
        "logging.basicConfig(format='%(asctime)s : %(levelname)s : %(message)s', level=logging.INFO)\n"
      ],
      "execution_count": null,
      "outputs": []
    },
    {
      "cell_type": "code",
      "metadata": {
        "id": "Vs6bIL8oC07H",
        "colab": {
          "base_uri": "https://localhost:8080/"
        },
        "outputId": "8a764528-bbd5-491c-905b-f04ef6965c33"
      },
      "source": [
        "nltk.download('stopwords')"
      ],
      "execution_count": null,
      "outputs": [
        {
          "output_type": "stream",
          "text": [
            "[nltk_data] Downloading package stopwords to /root/nltk_data...\n",
            "[nltk_data]   Unzipping corpora/stopwords.zip.\n"
          ],
          "name": "stdout"
        },
        {
          "output_type": "execute_result",
          "data": {
            "text/plain": [
              "True"
            ]
          },
          "metadata": {
            "tags": []
          },
          "execution_count": 3
        }
      ]
    },
    {
      "cell_type": "code",
      "metadata": {
        "id": "6IhW6n4-C5N9"
      },
      "source": [
        "# DATASET\n",
        "DATASET_COLUMNS = [\"target\", \"ids\", \"date\", \"flag\", \"user\", \"text\"]\n",
        "DATASET_ENCODING = \"ISO-8859-1\"\n",
        "TRAIN_SIZE = 0.8\n",
        "\n",
        "# TEXT CLENAING\n",
        "TEXT_CLEANING_RE = \"@\\S+|https?:\\S+|http?:\\S|[^A-Za-z0-9]+\"\n",
        "\n",
        "# WORD2VEC \n",
        "W2V_SIZE = 300\n",
        "W2V_WINDOW = 7\n",
        "W2V_EPOCH = 32\n",
        "W2V_MIN_COUNT = 10\n",
        "\n",
        "# KERAS\n",
        "SEQUENCE_LENGTH = 300\n",
        "EPOCHS = 12\n",
        "BATCH_SIZE = 1024\n",
        "\n",
        "# SENTIMENT\n",
        "POSITIVE = \"POSITIVE\"\n",
        "NEGATIVE = \"NEGATIVE\"\n",
        "NEUTRAL = \"NEUTRAL\"\n",
        "SENTIMENT_THRESHOLDS = (0.4, 0.7)\n",
        "\n",
        "# EXPORT\n",
        "KERAS_MODEL = \"model.h5\"\n",
        "WORD2VEC_MODEL = \"model.w2v\"\n",
        "TOKENIZER_MODEL = \"tokenizer.pkl\"\n",
        "ENCODER_MODEL = \"encoder.pkl\""
      ],
      "execution_count": null,
      "outputs": []
    },
    {
      "cell_type": "code",
      "metadata": {
        "id": "wftlSTnl_UlP",
        "colab": {
          "base_uri": "https://localhost:8080/"
        },
        "outputId": "12fa9aa2-2286-4506-d82a-c0ad328a5107"
      },
      "source": [
        "from google.colab import drive\n",
        "drive.mount('/content/drive')"
      ],
      "execution_count": null,
      "outputs": [
        {
          "output_type": "stream",
          "text": [
            "Drive already mounted at /content/drive; to attempt to forcibly remount, call drive.mount(\"/content/drive\", force_remount=True).\n"
          ],
          "name": "stdout"
        }
      ]
    },
    {
      "cell_type": "markdown",
      "metadata": {
        "id": "K_NjoFYKTXx5"
      },
      "source": [
        "## **Getting Data**"
      ]
    },
    {
      "cell_type": "code",
      "metadata": {
        "id": "vdGYx0VrDTbq"
      },
      "source": [
        "df = pd.read_csv(\"/content/drive/My Drive/Colab Notebooks/Twitter_dataset_million.csv\", encoding =DATASET_ENCODING , names=DATASET_COLUMNS)"
      ],
      "execution_count": null,
      "outputs": []
    },
    {
      "cell_type": "code",
      "metadata": {
        "id": "y2f3T1KFESuG",
        "colab": {
          "base_uri": "https://localhost:8080/",
          "height": 204
        },
        "outputId": "28b7d0e3-e309-4519-a9d4-fb5d32cae3ce"
      },
      "source": [
        "df.head(5)"
      ],
      "execution_count": null,
      "outputs": [
        {
          "output_type": "execute_result",
          "data": {
            "text/html": [
              "<div>\n",
              "<style scoped>\n",
              "    .dataframe tbody tr th:only-of-type {\n",
              "        vertical-align: middle;\n",
              "    }\n",
              "\n",
              "    .dataframe tbody tr th {\n",
              "        vertical-align: top;\n",
              "    }\n",
              "\n",
              "    .dataframe thead th {\n",
              "        text-align: right;\n",
              "    }\n",
              "</style>\n",
              "<table border=\"1\" class=\"dataframe\">\n",
              "  <thead>\n",
              "    <tr style=\"text-align: right;\">\n",
              "      <th></th>\n",
              "      <th>target</th>\n",
              "      <th>ids</th>\n",
              "      <th>date</th>\n",
              "      <th>flag</th>\n",
              "      <th>user</th>\n",
              "      <th>text</th>\n",
              "    </tr>\n",
              "  </thead>\n",
              "  <tbody>\n",
              "    <tr>\n",
              "      <th>0</th>\n",
              "      <td>0</td>\n",
              "      <td>1467810369</td>\n",
              "      <td>Mon Apr 06 22:19:45 PDT 2009</td>\n",
              "      <td>NO_QUERY</td>\n",
              "      <td>_TheSpecialOne_</td>\n",
              "      <td>@switchfoot http://twitpic.com/2y1zl - Awww, t...</td>\n",
              "    </tr>\n",
              "    <tr>\n",
              "      <th>1</th>\n",
              "      <td>0</td>\n",
              "      <td>1467810672</td>\n",
              "      <td>Mon Apr 06 22:19:49 PDT 2009</td>\n",
              "      <td>NO_QUERY</td>\n",
              "      <td>scotthamilton</td>\n",
              "      <td>is upset that he can't update his Facebook by ...</td>\n",
              "    </tr>\n",
              "    <tr>\n",
              "      <th>2</th>\n",
              "      <td>0</td>\n",
              "      <td>1467810917</td>\n",
              "      <td>Mon Apr 06 22:19:53 PDT 2009</td>\n",
              "      <td>NO_QUERY</td>\n",
              "      <td>mattycus</td>\n",
              "      <td>@Kenichan I dived many times for the ball. Man...</td>\n",
              "    </tr>\n",
              "    <tr>\n",
              "      <th>3</th>\n",
              "      <td>0</td>\n",
              "      <td>1467811184</td>\n",
              "      <td>Mon Apr 06 22:19:57 PDT 2009</td>\n",
              "      <td>NO_QUERY</td>\n",
              "      <td>ElleCTF</td>\n",
              "      <td>my whole body feels itchy and like its on fire</td>\n",
              "    </tr>\n",
              "    <tr>\n",
              "      <th>4</th>\n",
              "      <td>0</td>\n",
              "      <td>1467811193</td>\n",
              "      <td>Mon Apr 06 22:19:57 PDT 2009</td>\n",
              "      <td>NO_QUERY</td>\n",
              "      <td>Karoli</td>\n",
              "      <td>@nationwideclass no, it's not behaving at all....</td>\n",
              "    </tr>\n",
              "  </tbody>\n",
              "</table>\n",
              "</div>"
            ],
            "text/plain": [
              "   target  ...                                               text\n",
              "0       0  ...  @switchfoot http://twitpic.com/2y1zl - Awww, t...\n",
              "1       0  ...  is upset that he can't update his Facebook by ...\n",
              "2       0  ...  @Kenichan I dived many times for the ball. Man...\n",
              "3       0  ...    my whole body feels itchy and like its on fire \n",
              "4       0  ...  @nationwideclass no, it's not behaving at all....\n",
              "\n",
              "[5 rows x 6 columns]"
            ]
          },
          "metadata": {
            "tags": []
          },
          "execution_count": 8
        }
      ]
    },
    {
      "cell_type": "code",
      "metadata": {
        "id": "ZC7hKzuaFseB",
        "colab": {
          "base_uri": "https://localhost:8080/"
        },
        "outputId": "3e7de329-1c54-423c-b7de-d030f94033d2"
      },
      "source": [
        "print(\"Dataset size:\", len(df))"
      ],
      "execution_count": null,
      "outputs": [
        {
          "output_type": "stream",
          "text": [
            "Dataset size: 1600000\n"
          ],
          "name": "stdout"
        }
      ]
    },
    {
      "cell_type": "code",
      "metadata": {
        "id": "fLPjkUh2F1uO"
      },
      "source": [
        "decode_map = {0: \"NEGATIVE\", 2: \"NEUTRAL\", 4: \"POSITIVE\"}\n",
        "def decode_sentiment(label):\n",
        "    return decode_map[int(label)]"
      ],
      "execution_count": null,
      "outputs": []
    },
    {
      "cell_type": "code",
      "metadata": {
        "id": "JHyvIo6aF7mJ",
        "colab": {
          "base_uri": "https://localhost:8080/"
        },
        "outputId": "5bef2dfc-776f-4945-b2ac-6882c93bd128"
      },
      "source": [
        "%%time\n",
        "df.target = df.target.apply(lambda x: decode_sentiment(x))"
      ],
      "execution_count": null,
      "outputs": [
        {
          "output_type": "stream",
          "text": [
            "CPU times: user 470 ms, sys: 0 ns, total: 470 ms\n",
            "Wall time: 471 ms\n"
          ],
          "name": "stdout"
        }
      ]
    },
    {
      "cell_type": "code",
      "metadata": {
        "id": "FKxW70H2GBH1",
        "colab": {
          "base_uri": "https://localhost:8080/",
          "height": 516
        },
        "outputId": "963a7191-5d10-41ee-b831-0739d325dc61"
      },
      "source": [
        "target_cnt = Counter(df.target)\n",
        "\n",
        "plt.figure(figsize=(2,8))\n",
        "plt.bar(target_cnt.keys(), target_cnt.values())\n",
        "plt.title(\"Dataset labels distribuition\")"
      ],
      "execution_count": null,
      "outputs": [
        {
          "output_type": "execute_result",
          "data": {
            "text/plain": [
              "Text(0.5, 1.0, 'Dataset labels distribuition')"
            ]
          },
          "metadata": {
            "tags": []
          },
          "execution_count": 12
        },
        {
          "output_type": "display_data",
          "data": {
            "image/png": "[encoded data removed]",
            "text/plain": [
              "<Figure size 144x576 with 1 Axes>"
            ]
          },
          "metadata": {
            "tags": [],
            "needs_background": "light"
          }
        }
      ]
    },
    {
      "cell_type": "markdown",
      "metadata": {
        "id": "n0_FL5WlTkAe"
      },
      "source": [
        "#**Perprocessing and Cleaning Data**"
      ]
    },
    {
      "cell_type": "code",
      "metadata": {
        "id": "q7_Y1bvCGIt8"
      },
      "source": [
        "stop_words = stopwords.words(\"english\")\n",
        "stemmer = SnowballStemmer(\"english\")"
      ],
      "execution_count": null,
      "outputs": []
    },
    {
      "cell_type": "code",
      "metadata": {
        "id": "lj2pEA35GXId"
      },
      "source": [
        "def preprocess(text, stem=False):\n",
        "    # Remove link,user and special characters\n",
        "    text = re.sub(TEXT_CLEANING_RE, ' ', str(text).lower()).strip()\n",
        "    tokens = []\n",
        "    for token in text.split():\n",
        "        if token not in stop_words:\n",
        "            if stem:\n",
        "                tokens.append(stemmer.stem(token))\n",
        "            else:\n",
        "                tokens.append(token)\n",
        "    return \" \".join(tokens)"
      ],
      "execution_count": null,
      "outputs": []
    },
    {
      "cell_type": "code",
      "metadata": {
        "id": "QdB-WqKyGmmO",
        "colab": {
          "base_uri": "https://localhost:8080/"
        },
        "outputId": "7324e34a-8bc6-407a-a53f-071881f95fa1"
      },
      "source": [
        "%%time\n",
        "df.text = df.text.apply(lambda x: preprocess(x))"
      ],
      "execution_count": null,
      "outputs": [
        {
          "output_type": "stream",
          "text": [
            "CPU times: user 52.8 s, sys: 254 ms, total: 53.1 s\n",
            "Wall time: 53.1 s\n"
          ],
          "name": "stdout"
        }
      ]
    },
    {
      "cell_type": "code",
      "metadata": {
        "id": "8eb5vu0bGvP5",
        "colab": {
          "base_uri": "https://localhost:8080/"
        },
        "outputId": "7cb32cfb-6b4f-41a5-c6a9-1de2430e9d88"
      },
      "source": [
        "df_train, df_test = train_test_split(df, test_size=1-TRAIN_SIZE, random_state=42)\n",
        "print(\"TRAIN size:\", len(df_train))\n",
        "print(\"TEST size:\", len(df_test))"
      ],
      "execution_count": null,
      "outputs": [
        {
          "output_type": "stream",
          "text": [
            "TRAIN size: 1280000\n",
            "TEST size: 320000\n"
          ],
          "name": "stdout"
        }
      ]
    },
    {
      "cell_type": "code",
      "metadata": {
        "id": "XILhtx3BHGQO",
        "colab": {
          "base_uri": "https://localhost:8080/"
        },
        "outputId": "8cf875aa-b3bb-406f-adeb-af0d38146be8"
      },
      "source": [
        "%%time\n",
        "documents = [_text.split() for _text in df_train.text]"
      ],
      "execution_count": null,
      "outputs": [
        {
          "output_type": "stream",
          "text": [
            "CPU times: user 2.75 s, sys: 360 ms, total: 3.11 s\n",
            "Wall time: 3.11 s\n"
          ],
          "name": "stdout"
        }
      ]
    },
    {
      "cell_type": "markdown",
      "metadata": {
        "id": "LrhJ40Xas-Za"
      },
      "source": [
        "## **Word2Vector**"
      ]
    },
    {
      "cell_type": "code",
      "metadata": {
        "id": "qjORJgWoHhFE"
      },
      "source": [
        "w2v_model = gensim.models.word2vec.Word2Vec(size=W2V_SIZE, \n",
        "                                            window=W2V_WINDOW, \n",
        "                                            min_count=W2V_MIN_COUNT, \n",
        "                                            workers=8)"
      ],
      "execution_count": null,
      "outputs": []
    },
    {
      "cell_type": "code",
      "metadata": {
        "id": "mmmCNu_MHmf6",
        "colab": {
          "base_uri": "https://localhost:8080/"
        },
        "outputId": "515d0502-a084-4712-f4e3-3b9778c6b1ad"
      },
      "source": [
        "w2v_model.build_vocab(documents)"
      ],
      "execution_count": null,
      "outputs": [
        {
          "output_type": "stream",
          "text": [
            "2021-08-09 10:24:00,196 : INFO : collecting all words and their counts\n",
            "2021-08-09 10:24:00,198 : INFO : PROGRESS: at sentence #0, processed 0 words, keeping 0 word types\n",
            "2021-08-09 10:24:00,235 : INFO : PROGRESS: at sentence #10000, processed 72565 words, keeping 14005 word types\n",
            "2021-08-09 10:24:00,254 : INFO : PROGRESS: at sentence #20000, processed 144393 words, keeping 21587 word types\n",
            "2021-08-09 10:24:00,277 : INFO : PROGRESS: at sentence #30000, processed 215826 words, keeping 27541 word types\n",
            "2021-08-09 10:24:00,301 : INFO : PROGRESS: at sentence #40000, processed 288271 words, keeping 32764 word types\n",
            "2021-08-09 10:24:00,322 : INFO : PROGRESS: at sentence #50000, processed 359772 words, keeping 37587 word types\n",
            "2021-08-09 10:24:00,344 : INFO : PROGRESS: at sentence #60000, processed 431431 words, keeping 42198 word types\n",
            "2021-08-09 10:24:00,374 : INFO : PROGRESS: at sentence #70000, processed 503103 words, keeping 46458 word types\n",
            "2021-08-09 10:24:00,396 : INFO : PROGRESS: at sentence #80000, processed 575709 words, keeping 50476 word types\n",
            "2021-08-09 10:24:00,419 : INFO : PROGRESS: at sentence #90000, processed 647100 words, keeping 54140 word types\n",
            "2021-08-09 10:24:00,443 : INFO : PROGRESS: at sentence #100000, processed 718681 words, keeping 57777 word types\n",
            "2021-08-09 10:24:00,464 : INFO : PROGRESS: at sentence #110000, processed 790696 words, keeping 61207 word types\n",
            "2021-08-09 10:24:00,483 : INFO : PROGRESS: at sentence #120000, processed 863134 words, keeping 64583 word types\n",
            "2021-08-09 10:24:00,505 : INFO : PROGRESS: at sentence #130000, processed 935111 words, keeping 67865 word types\n",
            "2021-08-09 10:24:00,529 : INFO : PROGRESS: at sentence #140000, processed 1006668 words, keeping 70966 word types\n",
            "2021-08-09 10:24:00,550 : INFO : PROGRESS: at sentence #150000, processed 1078512 words, keeping 74119 word types\n",
            "2021-08-09 10:24:00,571 : INFO : PROGRESS: at sentence #160000, processed 1149914 words, keeping 77187 word types\n",
            "2021-08-09 10:24:00,590 : INFO : PROGRESS: at sentence #170000, processed 1222145 words, keeping 80267 word types\n",
            "2021-08-09 10:24:00,613 : INFO : PROGRESS: at sentence #180000, processed 1294708 words, keeping 83393 word types\n",
            "2021-08-09 10:24:00,640 : INFO : PROGRESS: at sentence #190000, processed 1367608 words, keeping 86329 word types\n",
            "2021-08-09 10:24:00,664 : INFO : PROGRESS: at sentence #200000, processed 1439469 words, keeping 89103 word types\n",
            "2021-08-09 10:24:00,684 : INFO : PROGRESS: at sentence #210000, processed 1512099 words, keeping 91840 word types\n",
            "2021-08-09 10:24:00,706 : INFO : PROGRESS: at sentence #220000, processed 1584149 words, keeping 94636 word types\n",
            "2021-08-09 10:24:00,725 : INFO : PROGRESS: at sentence #230000, processed 1656354 words, keeping 97353 word types\n",
            "2021-08-09 10:24:00,750 : INFO : PROGRESS: at sentence #240000, processed 1728573 words, keeping 99975 word types\n",
            "2021-08-09 10:24:00,773 : INFO : PROGRESS: at sentence #250000, processed 1801102 words, keeping 102594 word types\n",
            "2021-08-09 10:24:00,794 : INFO : PROGRESS: at sentence #260000, processed 1873103 words, keeping 105162 word types\n",
            "2021-08-09 10:24:00,814 : INFO : PROGRESS: at sentence #270000, processed 1945245 words, keeping 107626 word types\n",
            "2021-08-09 10:24:00,836 : INFO : PROGRESS: at sentence #280000, processed 2017163 words, keeping 110141 word types\n",
            "2021-08-09 10:24:00,859 : INFO : PROGRESS: at sentence #290000, processed 2089574 words, keeping 112539 word types\n",
            "2021-08-09 10:24:00,881 : INFO : PROGRESS: at sentence #300000, processed 2160996 words, keeping 114893 word types\n",
            "2021-08-09 10:24:00,904 : INFO : PROGRESS: at sentence #310000, processed 2232913 words, keeping 117298 word types\n",
            "2021-08-09 10:24:00,926 : INFO : PROGRESS: at sentence #320000, processed 2305039 words, keeping 119693 word types\n",
            "2021-08-09 10:24:00,954 : INFO : PROGRESS: at sentence #330000, processed 2377119 words, keeping 122131 word types\n",
            "2021-08-09 10:24:00,979 : INFO : PROGRESS: at sentence #340000, processed 2449370 words, keeping 124416 word types\n",
            "2021-08-09 10:24:01,004 : INFO : PROGRESS: at sentence #350000, processed 2521564 words, keeping 126669 word types\n",
            "2021-08-09 10:24:01,026 : INFO : PROGRESS: at sentence #360000, processed 2593681 words, keeping 128912 word types\n",
            "2021-08-09 10:24:01,049 : INFO : PROGRESS: at sentence #370000, processed 2665692 words, keeping 131135 word types\n",
            "2021-08-09 10:24:01,073 : INFO : PROGRESS: at sentence #380000, processed 2737859 words, keeping 133403 word types\n",
            "2021-08-09 10:24:01,095 : INFO : PROGRESS: at sentence #390000, processed 2809848 words, keeping 135551 word types\n",
            "2021-08-09 10:24:01,122 : INFO : PROGRESS: at sentence #400000, processed 2882438 words, keeping 137742 word types\n",
            "2021-08-09 10:24:01,144 : INFO : PROGRESS: at sentence #410000, processed 2954075 words, keeping 139909 word types\n",
            "2021-08-09 10:24:01,168 : INFO : PROGRESS: at sentence #420000, processed 3026247 words, keeping 142144 word types\n",
            "2021-08-09 10:24:01,192 : INFO : PROGRESS: at sentence #430000, processed 3098659 words, keeping 144364 word types\n",
            "2021-08-09 10:24:01,213 : INFO : PROGRESS: at sentence #440000, processed 3170663 words, keeping 146439 word types\n",
            "2021-08-09 10:24:01,235 : INFO : PROGRESS: at sentence #450000, processed 3243344 words, keeping 148526 word types\n",
            "2021-08-09 10:24:01,254 : INFO : PROGRESS: at sentence #460000, processed 3315466 words, keeping 150610 word types\n",
            "2021-08-09 10:24:01,281 : INFO : PROGRESS: at sentence #470000, processed 3388295 words, keeping 152737 word types\n",
            "2021-08-09 10:24:01,303 : INFO : PROGRESS: at sentence #480000, processed 3460120 words, keeping 154757 word types\n",
            "2021-08-09 10:24:01,326 : INFO : PROGRESS: at sentence #490000, processed 3531883 words, keeping 156825 word types\n",
            "2021-08-09 10:24:01,347 : INFO : PROGRESS: at sentence #500000, processed 3604217 words, keeping 158859 word types\n",
            "2021-08-09 10:24:01,374 : INFO : PROGRESS: at sentence #510000, processed 3676427 words, keeping 160852 word types\n",
            "2021-08-09 10:24:01,401 : INFO : PROGRESS: at sentence #520000, processed 3749045 words, keeping 162863 word types\n",
            "2021-08-09 10:24:01,423 : INFO : PROGRESS: at sentence #530000, processed 3821622 words, keeping 164929 word types\n",
            "2021-08-09 10:24:01,445 : INFO : PROGRESS: at sentence #540000, processed 3893627 words, keeping 166840 word types\n",
            "2021-08-09 10:24:01,465 : INFO : PROGRESS: at sentence #550000, processed 3965477 words, keeping 168799 word types\n",
            "2021-08-09 10:24:01,490 : INFO : PROGRESS: at sentence #560000, processed 4038050 words, keeping 170802 word types\n",
            "2021-08-09 10:24:01,514 : INFO : PROGRESS: at sentence #570000, processed 4110296 words, keeping 172760 word types\n",
            "2021-08-09 10:24:01,537 : INFO : PROGRESS: at sentence #580000, processed 4182385 words, keeping 174635 word types\n",
            "2021-08-09 10:24:01,565 : INFO : PROGRESS: at sentence #590000, processed 4254632 words, keeping 176470 word types\n",
            "2021-08-09 10:24:01,586 : INFO : PROGRESS: at sentence #600000, processed 4326859 words, keeping 178350 word types\n",
            "2021-08-09 10:24:01,612 : INFO : PROGRESS: at sentence #610000, processed 4399183 words, keeping 180290 word types\n",
            "2021-08-09 10:24:01,634 : INFO : PROGRESS: at sentence #620000, processed 4471343 words, keeping 182129 word types\n",
            "2021-08-09 10:24:01,655 : INFO : PROGRESS: at sentence #630000, processed 4543286 words, keeping 184005 word types\n",
            "2021-08-09 10:24:01,677 : INFO : PROGRESS: at sentence #640000, processed 4615780 words, keeping 185835 word types\n",
            "2021-08-09 10:24:01,698 : INFO : PROGRESS: at sentence #650000, processed 4688481 words, keeping 187705 word types\n",
            "2021-08-09 10:24:01,724 : INFO : PROGRESS: at sentence #660000, processed 4760481 words, keeping 189439 word types\n",
            "2021-08-09 10:24:01,752 : INFO : PROGRESS: at sentence #670000, processed 4833024 words, keeping 191232 word types\n",
            "2021-08-09 10:24:01,774 : INFO : PROGRESS: at sentence #680000, processed 4904516 words, keeping 193177 word types\n",
            "2021-08-09 10:24:01,797 : INFO : PROGRESS: at sentence #690000, processed 4976968 words, keeping 194960 word types\n",
            "2021-08-09 10:24:01,822 : INFO : PROGRESS: at sentence #700000, processed 5049412 words, keeping 196725 word types\n",
            "2021-08-09 10:24:01,845 : INFO : PROGRESS: at sentence #710000, processed 5121976 words, keeping 198516 word types\n",
            "2021-08-09 10:24:01,867 : INFO : PROGRESS: at sentence #720000, processed 5193881 words, keeping 200325 word types\n",
            "2021-08-09 10:24:01,891 : INFO : PROGRESS: at sentence #730000, processed 5265467 words, keeping 202133 word types\n",
            "2021-08-09 10:24:01,916 : INFO : PROGRESS: at sentence #740000, processed 5337518 words, keeping 203818 word types\n",
            "2021-08-09 10:24:01,939 : INFO : PROGRESS: at sentence #750000, processed 5409321 words, keeping 205535 word types\n",
            "2021-08-09 10:24:01,964 : INFO : PROGRESS: at sentence #760000, processed 5481512 words, keeping 207282 word types\n",
            "2021-08-09 10:24:01,987 : INFO : PROGRESS: at sentence #770000, processed 5554093 words, keeping 209076 word types\n",
            "2021-08-09 10:24:02,011 : INFO : PROGRESS: at sentence #780000, processed 5625382 words, keeping 210805 word types\n",
            "2021-08-09 10:24:02,037 : INFO : PROGRESS: at sentence #790000, processed 5698066 words, keeping 212618 word types\n",
            "2021-08-09 10:24:02,060 : INFO : PROGRESS: at sentence #800000, processed 5770880 words, keeping 214374 word types\n",
            "2021-08-09 10:24:02,081 : INFO : PROGRESS: at sentence #810000, processed 5843418 words, keeping 216009 word types\n",
            "2021-08-09 10:24:02,103 : INFO : PROGRESS: at sentence #820000, processed 5915628 words, keeping 217804 word types\n",
            "2021-08-09 10:24:02,128 : INFO : PROGRESS: at sentence #830000, processed 5987499 words, keeping 219585 word types\n",
            "2021-08-09 10:24:02,154 : INFO : PROGRESS: at sentence #840000, processed 6058973 words, keeping 221344 word types\n",
            "2021-08-09 10:24:02,182 : INFO : PROGRESS: at sentence #850000, processed 6131125 words, keeping 223002 word types\n",
            "2021-08-09 10:24:02,210 : INFO : PROGRESS: at sentence #860000, processed 6202951 words, keeping 224643 word types\n",
            "2021-08-09 10:24:02,235 : INFO : PROGRESS: at sentence #870000, processed 6275461 words, keeping 226362 word types\n",
            "2021-08-09 10:24:02,262 : INFO : PROGRESS: at sentence #880000, processed 6347661 words, keeping 227986 word types\n",
            "2021-08-09 10:24:02,283 : INFO : PROGRESS: at sentence #890000, processed 6419806 words, keeping 229634 word types\n",
            "2021-08-09 10:24:02,306 : INFO : PROGRESS: at sentence #900000, processed 6491644 words, keeping 231389 word types\n",
            "2021-08-09 10:24:02,328 : INFO : PROGRESS: at sentence #910000, processed 6564022 words, keeping 233050 word types\n",
            "2021-08-09 10:24:02,352 : INFO : PROGRESS: at sentence #920000, processed 6636228 words, keeping 234686 word types\n",
            "2021-08-09 10:24:02,378 : INFO : PROGRESS: at sentence #930000, processed 6708573 words, keeping 236393 word types\n",
            "2021-08-09 10:24:02,406 : INFO : PROGRESS: at sentence #940000, processed 6779956 words, keeping 238052 word types\n",
            "2021-08-09 10:24:02,428 : INFO : PROGRESS: at sentence #950000, processed 6852599 words, keeping 239716 word types\n",
            "2021-08-09 10:24:02,449 : INFO : PROGRESS: at sentence #960000, processed 6924717 words, keeping 241354 word types\n",
            "2021-08-09 10:24:02,477 : INFO : PROGRESS: at sentence #970000, processed 6996992 words, keeping 242980 word types\n",
            "2021-08-09 10:24:02,499 : INFO : PROGRESS: at sentence #980000, processed 7068402 words, keeping 244646 word types\n",
            "2021-08-09 10:24:02,521 : INFO : PROGRESS: at sentence #990000, processed 7140346 words, keeping 246186 word types\n",
            "2021-08-09 10:24:02,542 : INFO : PROGRESS: at sentence #1000000, processed 7211757 words, keeping 247726 word types\n",
            "2021-08-09 10:24:02,565 : INFO : PROGRESS: at sentence #1010000, processed 7283267 words, keeping 249288 word types\n",
            "2021-08-09 10:24:02,592 : INFO : PROGRESS: at sentence #1020000, processed 7355299 words, keeping 250860 word types\n",
            "2021-08-09 10:24:02,611 : INFO : PROGRESS: at sentence #1030000, processed 7426918 words, keeping 252366 word types\n",
            "2021-08-09 10:24:02,636 : INFO : PROGRESS: at sentence #1040000, processed 7498815 words, keeping 253930 word types\n",
            "2021-08-09 10:24:02,659 : INFO : PROGRESS: at sentence #1050000, processed 7570499 words, keeping 255471 word types\n",
            "2021-08-09 10:24:02,687 : INFO : PROGRESS: at sentence #1060000, processed 7643251 words, keeping 257035 word types\n",
            "2021-08-09 10:24:02,712 : INFO : PROGRESS: at sentence #1070000, processed 7714721 words, keeping 258509 word types\n",
            "2021-08-09 10:24:02,734 : INFO : PROGRESS: at sentence #1080000, processed 7787371 words, keeping 260071 word types\n",
            "2021-08-09 10:24:02,757 : INFO : PROGRESS: at sentence #1090000, processed 7859336 words, keeping 261683 word types\n",
            "2021-08-09 10:24:02,781 : INFO : PROGRESS: at sentence #1100000, processed 7932029 words, keeping 263278 word types\n",
            "2021-08-09 10:24:02,807 : INFO : PROGRESS: at sentence #1110000, processed 8004146 words, keeping 264800 word types\n",
            "2021-08-09 10:24:02,827 : INFO : PROGRESS: at sentence #1120000, processed 8075880 words, keeping 266309 word types\n",
            "2021-08-09 10:24:02,849 : INFO : PROGRESS: at sentence #1130000, processed 8148163 words, keeping 267826 word types\n",
            "2021-08-09 10:24:02,873 : INFO : PROGRESS: at sentence #1140000, processed 8220487 words, keeping 269391 word types\n",
            "2021-08-09 10:24:02,897 : INFO : PROGRESS: at sentence #1150000, processed 8292498 words, keeping 270894 word types\n",
            "2021-08-09 10:24:02,921 : INFO : PROGRESS: at sentence #1160000, processed 8363838 words, keeping 272400 word types\n",
            "2021-08-09 10:24:02,944 : INFO : PROGRESS: at sentence #1170000, processed 8435510 words, keeping 273970 word types\n",
            "2021-08-09 10:24:02,969 : INFO : PROGRESS: at sentence #1180000, processed 8507795 words, keeping 275521 word types\n",
            "2021-08-09 10:24:02,993 : INFO : PROGRESS: at sentence #1190000, processed 8579080 words, keeping 277007 word types\n",
            "2021-08-09 10:24:03,018 : INFO : PROGRESS: at sentence #1200000, processed 8650606 words, keeping 278457 word types\n",
            "2021-08-09 10:24:03,042 : INFO : PROGRESS: at sentence #1210000, processed 8721893 words, keeping 279959 word types\n",
            "2021-08-09 10:24:03,067 : INFO : PROGRESS: at sentence #1220000, processed 8793795 words, keeping 281427 word types\n",
            "2021-08-09 10:24:03,091 : INFO : PROGRESS: at sentence #1230000, processed 8865726 words, keeping 282981 word types\n",
            "2021-08-09 10:24:03,115 : INFO : PROGRESS: at sentence #1240000, processed 8938173 words, keeping 284542 word types\n",
            "2021-08-09 10:24:03,138 : INFO : PROGRESS: at sentence #1250000, processed 9010842 words, keeping 286064 word types\n",
            "2021-08-09 10:24:03,160 : INFO : PROGRESS: at sentence #1260000, processed 9083261 words, keeping 287521 word types\n",
            "2021-08-09 10:24:03,182 : INFO : PROGRESS: at sentence #1270000, processed 9155616 words, keeping 288987 word types\n",
            "2021-08-09 10:24:03,210 : INFO : collected 290418 word types from a corpus of 9227204 raw words and 1280000 sentences\n",
            "2021-08-09 10:24:03,211 : INFO : Loading a fresh vocabulary\n",
            "2021-08-09 10:24:03,386 : INFO : effective_min_count=10 retains 30369 unique words (10% of original 290418, drops 260049)\n",
            "2021-08-09 10:24:03,387 : INFO : effective_min_count=10 leaves 8780739 word corpus (95% of original 9227204, drops 446465)\n",
            "2021-08-09 10:24:03,497 : INFO : deleting the raw counts dictionary of 290418 items\n",
            "2021-08-09 10:24:03,504 : INFO : sample=0.001 downsamples 45 most-common words\n",
            "2021-08-09 10:24:03,509 : INFO : downsampling leaves estimated 8222658 word corpus (93.6% of prior 8780739)\n",
            "2021-08-09 10:24:03,585 : INFO : estimated required memory for 30369 words and 300 dimensions: 88070100 bytes\n",
            "2021-08-09 10:24:03,586 : INFO : resetting layer weights\n"
          ],
          "name": "stderr"
        }
      ]
    },
    {
      "cell_type": "code",
      "metadata": {
        "id": "DJeZeIwFHpp9",
        "colab": {
          "base_uri": "https://localhost:8080/"
        },
        "outputId": "595f269a-3e18-4283-b888-ef842c78e842"
      },
      "source": [
        "words = w2v_model.wv.vocab.keys()\n",
        "vocab_size = len(words)\n",
        "print(\"Vocab size\", vocab_size)"
      ],
      "execution_count": null,
      "outputs": [
        {
          "output_type": "stream",
          "text": [
            "Vocab size 30369\n"
          ],
          "name": "stdout"
        }
      ]
    },
    {
      "cell_type": "code",
      "metadata": {
        "id": "fzaxL72wHx8W",
        "colab": {
          "base_uri": "https://localhost:8080/"
        },
        "outputId": "89567404-590a-4d36-c0a9-1d04ef72077a"
      },
      "source": [
        "%%time\n",
        "w2v_model.train(documents, total_examples=len(documents), epochs=W2V_EPOCH)"
      ],
      "execution_count": null,
      "outputs": [
        {
          "output_type": "stream",
          "text": [
            "2021-08-09 10:24:36,361 : INFO : training model with 8 workers on 30369 vocabulary and 300 features, using sg=0 hs=0 sample=0.001 negative=5 window=7\n",
            "2021-08-09 10:24:37,419 : INFO : EPOCH 1 - PROGRESS: at 5.32% examples, 417504 words/s, in_qsize 15, out_qsize 0\n",
            "2021-08-09 10:24:38,453 : INFO : EPOCH 1 - PROGRESS: at 10.75% examples, 424222 words/s, in_qsize 13, out_qsize 2\n",
            "2021-08-09 10:24:39,458 : INFO : EPOCH 1 - PROGRESS: at 16.27% examples, 433242 words/s, in_qsize 14, out_qsize 4\n",
            "2021-08-09 10:24:40,471 : INFO : EPOCH 1 - PROGRESS: at 22.22% examples, 445663 words/s, in_qsize 15, out_qsize 0\n",
            "2021-08-09 10:24:41,511 : INFO : EPOCH 1 - PROGRESS: at 27.86% examples, 445609 words/s, in_qsize 15, out_qsize 0\n",
            "2021-08-09 10:24:42,571 : INFO : EPOCH 1 - PROGRESS: at 33.81% examples, 448464 words/s, in_qsize 15, out_qsize 0\n",
            "2021-08-09 10:24:43,596 : INFO : EPOCH 1 - PROGRESS: at 39.43% examples, 448939 words/s, in_qsize 15, out_qsize 0\n",
            "2021-08-09 10:24:44,640 : INFO : EPOCH 1 - PROGRESS: at 45.27% examples, 450444 words/s, in_qsize 15, out_qsize 0\n",
            "2021-08-09 10:24:45,642 : INFO : EPOCH 1 - PROGRESS: at 51.10% examples, 453704 words/s, in_qsize 15, out_qsize 0\n",
            "2021-08-09 10:24:46,662 : INFO : EPOCH 1 - PROGRESS: at 56.62% examples, 453110 words/s, in_qsize 15, out_qsize 1\n",
            "2021-08-09 10:24:47,677 : INFO : EPOCH 1 - PROGRESS: at 62.25% examples, 453217 words/s, in_qsize 15, out_qsize 0\n",
            "2021-08-09 10:24:48,704 : INFO : EPOCH 1 - PROGRESS: at 67.88% examples, 453039 words/s, in_qsize 13, out_qsize 2\n",
            "2021-08-09 10:24:49,724 : INFO : EPOCH 1 - PROGRESS: at 73.52% examples, 453088 words/s, in_qsize 14, out_qsize 1\n",
            "2021-08-09 10:24:50,730 : INFO : EPOCH 1 - PROGRESS: at 79.49% examples, 455464 words/s, in_qsize 16, out_qsize 1\n",
            "2021-08-09 10:24:51,787 : INFO : EPOCH 1 - PROGRESS: at 85.13% examples, 454286 words/s, in_qsize 15, out_qsize 0\n",
            "2021-08-09 10:24:52,791 : INFO : EPOCH 1 - PROGRESS: at 90.54% examples, 453610 words/s, in_qsize 16, out_qsize 0\n",
            "2021-08-09 10:24:53,806 : INFO : EPOCH 1 - PROGRESS: at 95.55% examples, 450673 words/s, in_qsize 16, out_qsize 1\n",
            "2021-08-09 10:24:54,569 : INFO : worker thread finished; awaiting finish of 7 more threads\n",
            "2021-08-09 10:24:54,581 : INFO : worker thread finished; awaiting finish of 6 more threads\n",
            "2021-08-09 10:24:54,587 : INFO : worker thread finished; awaiting finish of 5 more threads\n",
            "2021-08-09 10:24:54,588 : INFO : worker thread finished; awaiting finish of 4 more threads\n",
            "2021-08-09 10:24:54,600 : INFO : worker thread finished; awaiting finish of 3 more threads\n",
            "2021-08-09 10:24:54,607 : INFO : worker thread finished; awaiting finish of 2 more threads\n",
            "2021-08-09 10:24:54,612 : INFO : worker thread finished; awaiting finish of 1 more threads\n",
            "2021-08-09 10:24:54,630 : INFO : worker thread finished; awaiting finish of 0 more threads\n",
            "2021-08-09 10:24:54,631 : INFO : EPOCH - 1 : training on 9227204 raw words (8222571 effective words) took 18.3s, 450394 effective words/s\n",
            "2021-08-09 10:24:55,667 : INFO : EPOCH 2 - PROGRESS: at 4.34% examples, 347764 words/s, in_qsize 15, out_qsize 0\n",
            "2021-08-09 10:24:56,781 : INFO : EPOCH 2 - PROGRESS: at 9.88% examples, 379331 words/s, in_qsize 15, out_qsize 0\n",
            "2021-08-09 10:24:57,787 : INFO : EPOCH 2 - PROGRESS: at 15.19% examples, 396595 words/s, in_qsize 15, out_qsize 0\n",
            "2021-08-09 10:24:58,795 : INFO : EPOCH 2 - PROGRESS: at 20.16% examples, 399058 words/s, in_qsize 15, out_qsize 1\n",
            "2021-08-09 10:24:59,816 : INFO : EPOCH 2 - PROGRESS: at 24.94% examples, 396100 words/s, in_qsize 15, out_qsize 0\n",
            "2021-08-09 10:25:00,872 : INFO : EPOCH 2 - PROGRESS: at 30.13% examples, 397891 words/s, in_qsize 15, out_qsize 1\n",
            "2021-08-09 10:25:01,874 : INFO : EPOCH 2 - PROGRESS: at 35.43% examples, 402835 words/s, in_qsize 16, out_qsize 2\n",
            "2021-08-09 10:25:02,892 : INFO : EPOCH 2 - PROGRESS: at 40.72% examples, 406041 words/s, in_qsize 15, out_qsize 0\n",
            "2021-08-09 10:25:03,993 : INFO : EPOCH 2 - PROGRESS: at 46.13% examples, 405858 words/s, in_qsize 15, out_qsize 0\n",
            "2021-08-09 10:25:04,995 : INFO : EPOCH 2 - PROGRESS: at 51.32% examples, 407903 words/s, in_qsize 16, out_qsize 2\n",
            "2021-08-09 10:25:06,003 : INFO : EPOCH 2 - PROGRESS: at 56.29% examples, 407818 words/s, in_qsize 15, out_qsize 0\n",
            "2021-08-09 10:25:07,020 : INFO : EPOCH 2 - PROGRESS: at 61.60% examples, 409610 words/s, in_qsize 14, out_qsize 1\n",
            "2021-08-09 10:25:08,063 : INFO : EPOCH 2 - PROGRESS: at 66.69% examples, 408955 words/s, in_qsize 13, out_qsize 2\n",
            "2021-08-09 10:25:09,099 : INFO : EPOCH 2 - PROGRESS: at 71.67% examples, 408889 words/s, in_qsize 15, out_qsize 3\n",
            "2021-08-09 10:25:10,115 : INFO : EPOCH 2 - PROGRESS: at 76.98% examples, 409432 words/s, in_qsize 11, out_qsize 4\n",
            "2021-08-09 10:25:11,130 : INFO : EPOCH 2 - PROGRESS: at 82.10% examples, 409634 words/s, in_qsize 14, out_qsize 1\n",
            "2021-08-09 10:25:12,153 : INFO : EPOCH 2 - PROGRESS: at 87.51% examples, 411136 words/s, in_qsize 14, out_qsize 1\n",
            "2021-08-09 10:25:13,174 : INFO : EPOCH 2 - PROGRESS: at 92.72% examples, 411533 words/s, in_qsize 16, out_qsize 1\n",
            "2021-08-09 10:25:14,210 : INFO : EPOCH 2 - PROGRESS: at 98.04% examples, 412029 words/s, in_qsize 16, out_qsize 0\n",
            "2021-08-09 10:25:14,412 : INFO : worker thread finished; awaiting finish of 7 more threads\n",
            "2021-08-09 10:25:14,414 : INFO : worker thread finished; awaiting finish of 6 more threads\n",
            "2021-08-09 10:25:14,418 : INFO : worker thread finished; awaiting finish of 5 more threads\n",
            "2021-08-09 10:25:14,425 : INFO : worker thread finished; awaiting finish of 4 more threads\n",
            "2021-08-09 10:25:14,441 : INFO : worker thread finished; awaiting finish of 3 more threads\n",
            "2021-08-09 10:25:14,443 : INFO : worker thread finished; awaiting finish of 2 more threads\n",
            "2021-08-09 10:25:14,470 : INFO : worker thread finished; awaiting finish of 1 more threads\n",
            "2021-08-09 10:25:14,472 : INFO : worker thread finished; awaiting finish of 0 more threads\n",
            "2021-08-09 10:25:14,473 : INFO : EPOCH - 2 : training on 9227204 raw words (8223799 effective words) took 19.8s, 414703 effective words/s\n",
            "2021-08-09 10:25:15,499 : INFO : EPOCH 3 - PROGRESS: at 4.45% examples, 360180 words/s, in_qsize 14, out_qsize 1\n",
            "2021-08-09 10:25:16,509 : INFO : EPOCH 3 - PROGRESS: at 9.77% examples, 396383 words/s, in_qsize 15, out_qsize 0\n",
            "2021-08-09 10:25:17,512 : INFO : EPOCH 3 - PROGRESS: at 15.30% examples, 415016 words/s, in_qsize 15, out_qsize 0\n",
            "2021-08-09 10:25:18,561 : INFO : EPOCH 3 - PROGRESS: at 20.70% examples, 417368 words/s, in_qsize 14, out_qsize 1\n",
            "2021-08-09 10:25:19,589 : INFO : EPOCH 3 - PROGRESS: at 26.34% examples, 424096 words/s, in_qsize 14, out_qsize 1\n",
            "2021-08-09 10:25:20,598 : INFO : EPOCH 3 - PROGRESS: at 31.86% examples, 428486 words/s, in_qsize 16, out_qsize 6\n",
            "2021-08-09 10:25:21,617 : INFO : EPOCH 3 - PROGRESS: at 37.81% examples, 435895 words/s, in_qsize 16, out_qsize 1\n",
            "2021-08-09 10:25:22,646 : INFO : EPOCH 3 - PROGRESS: at 43.43% examples, 437741 words/s, in_qsize 15, out_qsize 0\n",
            "2021-08-09 10:25:23,668 : INFO : EPOCH 3 - PROGRESS: at 49.16% examples, 440442 words/s, in_qsize 15, out_qsize 0\n",
            "2021-08-09 10:25:24,780 : INFO : EPOCH 3 - PROGRESS: at 55.21% examples, 441344 words/s, in_qsize 16, out_qsize 2\n",
            "2021-08-09 10:25:25,806 : INFO : EPOCH 3 - PROGRESS: at 61.07% examples, 443855 words/s, in_qsize 16, out_qsize 1\n",
            "2021-08-09 10:25:26,868 : INFO : EPOCH 3 - PROGRESS: at 66.91% examples, 444627 words/s, in_qsize 12, out_qsize 3\n",
            "2021-08-09 10:25:27,922 : INFO : EPOCH 3 - PROGRESS: at 72.64% examples, 445656 words/s, in_qsize 16, out_qsize 3\n",
            "2021-08-09 10:25:28,952 : INFO : EPOCH 3 - PROGRESS: at 78.62% examples, 447531 words/s, in_qsize 14, out_qsize 3\n",
            "2021-08-09 10:25:30,020 : INFO : EPOCH 3 - PROGRESS: at 84.69% examples, 449175 words/s, in_qsize 15, out_qsize 0\n",
            "2021-08-09 10:25:31,042 : INFO : EPOCH 3 - PROGRESS: at 90.22% examples, 448171 words/s, in_qsize 15, out_qsize 0\n",
            "2021-08-09 10:25:32,047 : INFO : EPOCH 3 - PROGRESS: at 95.66% examples, 447873 words/s, in_qsize 11, out_qsize 4\n",
            "2021-08-09 10:25:32,619 : INFO : worker thread finished; awaiting finish of 7 more threads\n",
            "2021-08-09 10:25:32,652 : INFO : worker thread finished; awaiting finish of 6 more threads\n",
            "2021-08-09 10:25:32,655 : INFO : worker thread finished; awaiting finish of 5 more threads\n",
            "2021-08-09 10:25:32,656 : INFO : worker thread finished; awaiting finish of 4 more threads\n",
            "2021-08-09 10:25:32,657 : INFO : worker thread finished; awaiting finish of 3 more threads\n",
            "2021-08-09 10:25:32,663 : INFO : worker thread finished; awaiting finish of 2 more threads\n",
            "2021-08-09 10:25:32,676 : INFO : worker thread finished; awaiting finish of 1 more threads\n",
            "2021-08-09 10:25:32,685 : INFO : worker thread finished; awaiting finish of 0 more threads\n",
            "2021-08-09 10:25:32,685 : INFO : EPOCH - 3 : training on 9227204 raw words (8222399 effective words) took 18.2s, 451788 effective words/s\n",
            "2021-08-09 10:25:33,719 : INFO : EPOCH 4 - PROGRESS: at 4.67% examples, 376905 words/s, in_qsize 15, out_qsize 0\n",
            "2021-08-09 10:25:34,735 : INFO : EPOCH 4 - PROGRESS: at 10.10% examples, 407710 words/s, in_qsize 15, out_qsize 1\n",
            "2021-08-09 10:25:35,772 : INFO : EPOCH 4 - PROGRESS: at 15.73% examples, 420915 words/s, in_qsize 14, out_qsize 0\n",
            "2021-08-09 10:25:36,831 : INFO : EPOCH 4 - PROGRESS: at 21.90% examples, 435984 words/s, in_qsize 15, out_qsize 0\n",
            "2021-08-09 10:25:37,838 : INFO : EPOCH 4 - PROGRESS: at 27.64% examples, 442444 words/s, in_qsize 12, out_qsize 3\n",
            "2021-08-09 10:25:38,872 : INFO : EPOCH 4 - PROGRESS: at 33.38% examples, 444788 words/s, in_qsize 15, out_qsize 0\n",
            "2021-08-09 10:25:39,884 : INFO : EPOCH 4 - PROGRESS: at 39.22% examples, 449107 words/s, in_qsize 15, out_qsize 0\n",
            "2021-08-09 10:25:40,893 : INFO : EPOCH 4 - PROGRESS: at 44.73% examples, 449237 words/s, in_qsize 12, out_qsize 3\n",
            "2021-08-09 10:25:41,902 : INFO : EPOCH 4 - PROGRESS: at 50.57% examples, 452300 words/s, in_qsize 14, out_qsize 1\n",
            "2021-08-09 10:25:42,903 : INFO : EPOCH 4 - PROGRESS: at 56.07% examples, 452493 words/s, in_qsize 15, out_qsize 1\n",
            "2021-08-09 10:25:43,997 : INFO : EPOCH 4 - PROGRESS: at 62.03% examples, 452042 words/s, in_qsize 15, out_qsize 0\n",
            "2021-08-09 10:25:44,999 : INFO : EPOCH 4 - PROGRESS: at 67.45% examples, 451413 words/s, in_qsize 15, out_qsize 6\n",
            "2021-08-09 10:25:46,027 : INFO : EPOCH 4 - PROGRESS: at 73.62% examples, 454682 words/s, in_qsize 14, out_qsize 1\n",
            "2021-08-09 10:25:47,032 : INFO : EPOCH 4 - PROGRESS: at 79.27% examples, 455118 words/s, in_qsize 15, out_qsize 0\n",
            "2021-08-09 10:25:48,056 : INFO : EPOCH 4 - PROGRESS: at 84.59% examples, 453205 words/s, in_qsize 15, out_qsize 4\n",
            "2021-08-09 10:25:49,075 : INFO : EPOCH 4 - PROGRESS: at 90.76% examples, 455993 words/s, in_qsize 15, out_qsize 1\n",
            "2021-08-09 10:25:50,096 : INFO : EPOCH 4 - PROGRESS: at 96.31% examples, 455335 words/s, in_qsize 15, out_qsize 0\n",
            "2021-08-09 10:25:50,586 : INFO : worker thread finished; awaiting finish of 7 more threads\n",
            "2021-08-09 10:25:50,596 : INFO : worker thread finished; awaiting finish of 6 more threads\n",
            "2021-08-09 10:25:50,610 : INFO : worker thread finished; awaiting finish of 5 more threads\n",
            "2021-08-09 10:25:50,615 : INFO : worker thread finished; awaiting finish of 4 more threads\n",
            "2021-08-09 10:25:50,624 : INFO : worker thread finished; awaiting finish of 3 more threads\n",
            "2021-08-09 10:25:50,632 : INFO : worker thread finished; awaiting finish of 2 more threads\n",
            "2021-08-09 10:25:50,637 : INFO : worker thread finished; awaiting finish of 1 more threads\n",
            "2021-08-09 10:25:50,650 : INFO : worker thread finished; awaiting finish of 0 more threads\n",
            "2021-08-09 10:25:50,650 : INFO : EPOCH - 4 : training on 9227204 raw words (8223329 effective words) took 17.9s, 458186 effective words/s\n",
            "2021-08-09 10:25:51,692 : INFO : EPOCH 5 - PROGRESS: at 5.21% examples, 414916 words/s, in_qsize 15, out_qsize 0\n",
            "2021-08-09 10:25:52,694 : INFO : EPOCH 5 - PROGRESS: at 10.42% examples, 420919 words/s, in_qsize 15, out_qsize 3\n",
            "2021-08-09 10:25:53,697 : INFO : EPOCH 5 - PROGRESS: at 16.38% examples, 443162 words/s, in_qsize 15, out_qsize 0\n",
            "2021-08-09 10:25:54,699 : INFO : EPOCH 5 - PROGRESS: at 22.01% examples, 447944 words/s, in_qsize 15, out_qsize 0\n",
            "2021-08-09 10:25:55,778 : INFO : EPOCH 5 - PROGRESS: at 27.75% examples, 445797 words/s, in_qsize 14, out_qsize 1\n",
            "2021-08-09 10:25:56,787 : INFO : EPOCH 5 - PROGRESS: at 33.59% examples, 450882 words/s, in_qsize 15, out_qsize 0\n",
            "2021-08-09 10:25:57,821 : INFO : EPOCH 5 - PROGRESS: at 39.33% examples, 451727 words/s, in_qsize 16, out_qsize 0\n",
            "2021-08-09 10:25:58,899 : INFO : EPOCH 5 - PROGRESS: at 44.83% examples, 447740 words/s, in_qsize 13, out_qsize 2\n",
            "2021-08-09 10:25:59,932 : INFO : EPOCH 5 - PROGRESS: at 49.81% examples, 442097 words/s, in_qsize 13, out_qsize 2\n",
            "2021-08-09 10:26:00,947 : INFO : EPOCH 5 - PROGRESS: at 55.00% examples, 440022 words/s, in_qsize 15, out_qsize 0\n",
            "2021-08-09 10:26:01,990 : INFO : EPOCH 5 - PROGRESS: at 60.19% examples, 437293 words/s, in_qsize 15, out_qsize 0\n",
            "2021-08-09 10:26:02,998 : INFO : EPOCH 5 - PROGRESS: at 65.39% examples, 436195 words/s, in_qsize 15, out_qsize 0\n",
            "2021-08-09 10:26:04,001 : INFO : EPOCH 5 - PROGRESS: at 70.16% examples, 432796 words/s, in_qsize 15, out_qsize 1\n",
            "2021-08-09 10:26:05,002 : INFO : EPOCH 5 - PROGRESS: at 75.35% examples, 432383 words/s, in_qsize 15, out_qsize 0\n",
            "2021-08-09 10:26:06,027 : INFO : EPOCH 5 - PROGRESS: at 80.58% examples, 431385 words/s, in_qsize 14, out_qsize 1\n",
            "2021-08-09 10:26:07,034 : INFO : EPOCH 5 - PROGRESS: at 85.77% examples, 430927 words/s, in_qsize 13, out_qsize 2\n",
            "2021-08-09 10:26:08,103 : INFO : EPOCH 5 - PROGRESS: at 91.09% examples, 429911 words/s, in_qsize 15, out_qsize 1\n",
            "2021-08-09 10:26:09,135 : INFO : EPOCH 5 - PROGRESS: at 96.20% examples, 428167 words/s, in_qsize 16, out_qsize 2\n",
            "2021-08-09 10:26:09,680 : INFO : worker thread finished; awaiting finish of 7 more threads\n",
            "2021-08-09 10:26:09,691 : INFO : worker thread finished; awaiting finish of 6 more threads\n",
            "2021-08-09 10:26:09,713 : INFO : worker thread finished; awaiting finish of 5 more threads\n",
            "2021-08-09 10:26:09,717 : INFO : worker thread finished; awaiting finish of 4 more threads\n",
            "2021-08-09 10:26:09,719 : INFO : worker thread finished; awaiting finish of 3 more threads\n",
            "2021-08-09 10:26:09,731 : INFO : worker thread finished; awaiting finish of 2 more threads\n",
            "2021-08-09 10:26:09,749 : INFO : worker thread finished; awaiting finish of 1 more threads\n",
            "2021-08-09 10:26:09,756 : INFO : worker thread finished; awaiting finish of 0 more threads\n",
            "2021-08-09 10:26:09,757 : INFO : EPOCH - 5 : training on 9227204 raw words (8222141 effective words) took 19.1s, 430596 effective words/s\n",
            "2021-08-09 10:26:10,806 : INFO : EPOCH 6 - PROGRESS: at 4.45% examples, 352237 words/s, in_qsize 16, out_qsize 0\n",
            "2021-08-09 10:26:11,831 : INFO : EPOCH 6 - PROGRESS: at 9.66% examples, 384810 words/s, in_qsize 16, out_qsize 2\n",
            "2021-08-09 10:26:12,840 : INFO : EPOCH 6 - PROGRESS: at 14.87% examples, 397445 words/s, in_qsize 14, out_qsize 0\n",
            "2021-08-09 10:26:13,906 : INFO : EPOCH 6 - PROGRESS: at 20.16% examples, 400576 words/s, in_qsize 15, out_qsize 0\n",
            "2021-08-09 10:26:14,925 : INFO : EPOCH 6 - PROGRESS: at 25.48% examples, 406002 words/s, in_qsize 15, out_qsize 0\n",
            "2021-08-09 10:26:15,989 : INFO : EPOCH 6 - PROGRESS: at 30.45% examples, 402517 words/s, in_qsize 16, out_qsize 1\n",
            "2021-08-09 10:26:17,007 : INFO : EPOCH 6 - PROGRESS: at 35.64% examples, 404934 words/s, in_qsize 14, out_qsize 1\n",
            "2021-08-09 10:26:18,048 : INFO : EPOCH 6 - PROGRESS: at 40.94% examples, 406724 words/s, in_qsize 15, out_qsize 0\n",
            "2021-08-09 10:26:19,077 : INFO : EPOCH 6 - PROGRESS: at 46.13% examples, 408592 words/s, in_qsize 15, out_qsize 0\n",
            "2021-08-09 10:26:20,067 : INFO : EPOCH 6 - PROGRESS: at 51.32% examples, 410070 words/s, in_qsize 15, out_qsize 0\n",
            "2021-08-09 10:26:21,088 : INFO : EPOCH 6 - PROGRESS: at 56.40% examples, 410083 words/s, in_qsize 14, out_qsize 0\n",
            "2021-08-09 10:26:22,099 : INFO : EPOCH 6 - PROGRESS: at 61.39% examples, 409703 words/s, in_qsize 15, out_qsize 0\n",
            "2021-08-09 10:26:23,173 : INFO : EPOCH 6 - PROGRESS: at 66.69% examples, 410316 words/s, in_qsize 15, out_qsize 0\n",
            "2021-08-09 10:26:24,155 : INFO : EPOCH 6 - PROGRESS: at 71.99% examples, 411826 words/s, in_qsize 16, out_qsize 2\n",
            "2021-08-09 10:26:25,178 : INFO : EPOCH 6 - PROGRESS: at 77.85% examples, 415696 words/s, in_qsize 15, out_qsize 0\n",
            "2021-08-09 10:26:26,178 : INFO : EPOCH 6 - PROGRESS: at 83.51% examples, 418574 words/s, in_qsize 15, out_qsize 0\n",
            "2021-08-09 10:26:27,207 : INFO : EPOCH 6 - PROGRESS: at 88.91% examples, 419420 words/s, in_qsize 15, out_qsize 0\n",
            "2021-08-09 10:26:28,212 : INFO : EPOCH 6 - PROGRESS: at 95.12% examples, 424066 words/s, in_qsize 15, out_qsize 0\n",
            "2021-08-09 10:26:28,922 : INFO : worker thread finished; awaiting finish of 7 more threads\n",
            "2021-08-09 10:26:28,940 : INFO : worker thread finished; awaiting finish of 6 more threads\n",
            "2021-08-09 10:26:28,968 : INFO : worker thread finished; awaiting finish of 5 more threads\n",
            "2021-08-09 10:26:28,991 : INFO : worker thread finished; awaiting finish of 4 more threads\n",
            "2021-08-09 10:26:29,016 : INFO : worker thread finished; awaiting finish of 3 more threads\n",
            "2021-08-09 10:26:29,033 : INFO : worker thread finished; awaiting finish of 2 more threads\n",
            "2021-08-09 10:26:29,036 : INFO : worker thread finished; awaiting finish of 1 more threads\n",
            "2021-08-09 10:26:29,039 : INFO : worker thread finished; awaiting finish of 0 more threads\n",
            "2021-08-09 10:26:29,042 : INFO : EPOCH - 6 : training on 9227204 raw words (8223020 effective words) took 19.3s, 426680 effective words/s\n",
            "2021-08-09 10:26:30,059 : INFO : EPOCH 7 - PROGRESS: at 5.00% examples, 407553 words/s, in_qsize 15, out_qsize 0\n",
            "2021-08-09 10:26:31,068 : INFO : EPOCH 7 - PROGRESS: at 10.42% examples, 424691 words/s, in_qsize 13, out_qsize 2\n",
            "2021-08-09 10:26:32,083 : INFO : EPOCH 7 - PROGRESS: at 15.94% examples, 432261 words/s, in_qsize 15, out_qsize 0\n",
            "2021-08-09 10:26:33,091 : INFO : EPOCH 7 - PROGRESS: at 21.68% examples, 441378 words/s, in_qsize 16, out_qsize 0\n",
            "2021-08-09 10:26:34,094 : INFO : EPOCH 7 - PROGRESS: at 26.89% examples, 438439 words/s, in_qsize 15, out_qsize 0\n",
            "2021-08-09 10:26:35,096 : INFO : EPOCH 7 - PROGRESS: at 32.62% examples, 443884 words/s, in_qsize 15, out_qsize 0\n",
            "2021-08-09 10:26:36,134 : INFO : EPOCH 7 - PROGRESS: at 37.92% examples, 440453 words/s, in_qsize 15, out_qsize 3\n",
            "2021-08-09 10:26:37,168 : INFO : EPOCH 7 - PROGRESS: at 43.32% examples, 439226 words/s, in_qsize 14, out_qsize 1\n",
            "2021-08-09 10:26:38,233 : INFO : EPOCH 7 - PROGRESS: at 49.38% examples, 442608 words/s, in_qsize 15, out_qsize 0\n",
            "2021-08-09 10:26:39,258 : INFO : EPOCH 7 - PROGRESS: at 55.21% examples, 445321 words/s, in_qsize 15, out_qsize 0\n",
            "2021-08-09 10:26:40,280 : INFO : EPOCH 7 - PROGRESS: at 60.85% examples, 446764 words/s, in_qsize 14, out_qsize 6\n",
            "2021-08-09 10:26:41,287 : INFO : EPOCH 7 - PROGRESS: at 66.80% examples, 449356 words/s, in_qsize 15, out_qsize 0\n",
            "2021-08-09 10:26:42,313 : INFO : EPOCH 7 - PROGRESS: at 72.65% examples, 450831 words/s, in_qsize 14, out_qsize 1\n",
            "2021-08-09 10:26:43,364 : INFO : EPOCH 7 - PROGRESS: at 78.73% examples, 452556 words/s, in_qsize 15, out_qsize 0\n",
            "2021-08-09 10:26:44,365 : INFO : EPOCH 7 - PROGRESS: at 84.69% examples, 454988 words/s, in_qsize 14, out_qsize 0\n",
            "2021-08-09 10:26:45,387 : INFO : EPOCH 7 - PROGRESS: at 90.65% examples, 456483 words/s, in_qsize 15, out_qsize 0\n",
            "2021-08-09 10:26:46,391 : INFO : EPOCH 7 - PROGRESS: at 95.88% examples, 454690 words/s, in_qsize 16, out_qsize 0\n",
            "2021-08-09 10:26:46,948 : INFO : worker thread finished; awaiting finish of 7 more threads\n",
            "2021-08-09 10:26:46,951 : INFO : worker thread finished; awaiting finish of 6 more threads\n",
            "2021-08-09 10:26:46,964 : INFO : worker thread finished; awaiting finish of 5 more threads\n",
            "2021-08-09 10:26:46,965 : INFO : worker thread finished; awaiting finish of 4 more threads\n",
            "2021-08-09 10:26:46,967 : INFO : worker thread finished; awaiting finish of 3 more threads\n",
            "2021-08-09 10:26:46,974 : INFO : worker thread finished; awaiting finish of 2 more threads\n",
            "2021-08-09 10:26:46,990 : INFO : worker thread finished; awaiting finish of 1 more threads\n",
            "2021-08-09 10:26:47,009 : INFO : worker thread finished; awaiting finish of 0 more threads\n",
            "2021-08-09 10:26:47,011 : INFO : EPOCH - 7 : training on 9227204 raw words (8222832 effective words) took 18.0s, 457900 effective words/s\n",
            "2021-08-09 10:26:48,088 : INFO : EPOCH 8 - PROGRESS: at 5.43% examples, 419372 words/s, in_qsize 14, out_qsize 1\n",
            "2021-08-09 10:26:49,124 : INFO : EPOCH 8 - PROGRESS: at 11.51% examples, 450416 words/s, in_qsize 16, out_qsize 0\n",
            "2021-08-09 10:26:50,126 : INFO : EPOCH 8 - PROGRESS: at 17.03% examples, 451225 words/s, in_qsize 14, out_qsize 1\n",
            "2021-08-09 10:26:51,195 : INFO : EPOCH 8 - PROGRESS: at 22.98% examples, 453111 words/s, in_qsize 16, out_qsize 1\n",
            "2021-08-09 10:26:52,200 : INFO : EPOCH 8 - PROGRESS: at 28.61% examples, 454570 words/s, in_qsize 14, out_qsize 1\n",
            "2021-08-09 10:26:53,236 : INFO : EPOCH 8 - PROGRESS: at 34.24% examples, 454584 words/s, in_qsize 15, out_qsize 7\n",
            "2021-08-09 10:26:54,227 : INFO : EPOCH 8 - PROGRESS: at 40.83% examples, 466393 words/s, in_qsize 15, out_qsize 0\n",
            "2021-08-09 10:26:55,242 : INFO : EPOCH 8 - PROGRESS: at 46.13% examples, 461893 words/s, in_qsize 12, out_qsize 3\n",
            "2021-08-09 10:26:56,263 : INFO : EPOCH 8 - PROGRESS: at 51.43% examples, 458984 words/s, in_qsize 15, out_qsize 5\n",
            "2021-08-09 10:26:57,275 : INFO : EPOCH 8 - PROGRESS: at 57.05% examples, 458828 words/s, in_qsize 14, out_qsize 6\n",
            "2021-08-09 10:26:58,310 : INFO : EPOCH 8 - PROGRESS: at 62.89% examples, 458687 words/s, in_qsize 13, out_qsize 2\n",
            "2021-08-09 10:26:59,317 : INFO : EPOCH 8 - PROGRESS: at 69.07% examples, 462405 words/s, in_qsize 15, out_qsize 0\n",
            "2021-08-09 10:27:00,339 : INFO : EPOCH 8 - PROGRESS: at 74.70% examples, 461702 words/s, in_qsize 15, out_qsize 0\n",
            "2021-08-09 10:27:01,388 : INFO : EPOCH 8 - PROGRESS: at 80.57% examples, 461449 words/s, in_qsize 15, out_qsize 0\n",
            "2021-08-09 10:27:02,470 : INFO : EPOCH 8 - PROGRESS: at 86.42% examples, 460238 words/s, in_qsize 15, out_qsize 4\n",
            "2021-08-09 10:27:03,529 : INFO : EPOCH 8 - PROGRESS: at 92.61% examples, 461465 words/s, in_qsize 15, out_qsize 0\n",
            "2021-08-09 10:27:04,562 : INFO : EPOCH 8 - PROGRESS: at 97.72% examples, 458144 words/s, in_qsize 15, out_qsize 3\n",
            "2021-08-09 10:27:04,745 : INFO : worker thread finished; awaiting finish of 7 more threads\n",
            "2021-08-09 10:27:04,763 : INFO : worker thread finished; awaiting finish of 6 more threads\n",
            "2021-08-09 10:27:04,780 : INFO : worker thread finished; awaiting finish of 5 more threads\n",
            "2021-08-09 10:27:04,844 : INFO : worker thread finished; awaiting finish of 4 more threads\n",
            "2021-08-09 10:27:04,850 : INFO : worker thread finished; awaiting finish of 3 more threads\n",
            "2021-08-09 10:27:04,852 : INFO : worker thread finished; awaiting finish of 2 more threads\n",
            "2021-08-09 10:27:04,860 : INFO : worker thread finished; awaiting finish of 1 more threads\n",
            "2021-08-09 10:27:04,864 : INFO : worker thread finished; awaiting finish of 0 more threads\n",
            "2021-08-09 10:27:04,865 : INFO : EPOCH - 8 : training on 9227204 raw words (8221690 effective words) took 17.8s, 460906 effective words/s\n",
            "2021-08-09 10:27:05,892 : INFO : EPOCH 9 - PROGRESS: at 4.56% examples, 368608 words/s, in_qsize 16, out_qsize 0\n",
            "2021-08-09 10:27:06,940 : INFO : EPOCH 9 - PROGRESS: at 9.45% examples, 375729 words/s, in_qsize 16, out_qsize 0\n",
            "2021-08-09 10:27:07,969 : INFO : EPOCH 9 - PROGRESS: at 14.76% examples, 391840 words/s, in_qsize 15, out_qsize 0\n",
            "2021-08-09 10:27:08,987 : INFO : EPOCH 9 - PROGRESS: at 19.73% examples, 394404 words/s, in_qsize 12, out_qsize 1\n",
            "2021-08-09 10:27:09,987 : INFO : EPOCH 9 - PROGRESS: at 24.61% examples, 395698 words/s, in_qsize 14, out_qsize 0\n",
            "2021-08-09 10:27:11,038 : INFO : EPOCH 9 - PROGRESS: at 29.80% examples, 397625 words/s, in_qsize 14, out_qsize 1\n",
            "2021-08-09 10:27:12,131 : INFO : EPOCH 9 - PROGRESS: at 35.32% examples, 400396 words/s, in_qsize 15, out_qsize 0\n",
            "2021-08-09 10:27:13,182 : INFO : EPOCH 9 - PROGRESS: at 40.62% examples, 402210 words/s, in_qsize 14, out_qsize 1\n",
            "2021-08-09 10:27:14,185 : INFO : EPOCH 9 - PROGRESS: at 45.70% examples, 403872 words/s, in_qsize 10, out_qsize 5\n",
            "2021-08-09 10:27:15,224 : INFO : EPOCH 9 - PROGRESS: at 51.43% examples, 408978 words/s, in_qsize 15, out_qsize 0\n",
            "2021-08-09 10:27:16,240 : INFO : EPOCH 9 - PROGRESS: at 56.51% examples, 409285 words/s, in_qsize 16, out_qsize 0\n",
            "2021-08-09 10:27:17,318 : INFO : EPOCH 9 - PROGRESS: at 61.39% examples, 406039 words/s, in_qsize 14, out_qsize 1\n",
            "2021-08-09 10:27:18,339 : INFO : EPOCH 9 - PROGRESS: at 66.58% examples, 407242 words/s, in_qsize 15, out_qsize 4\n",
            "2021-08-09 10:27:19,342 : INFO : EPOCH 9 - PROGRESS: at 71.78% examples, 408325 words/s, in_qsize 13, out_qsize 4\n",
            "2021-08-09 10:27:20,345 : INFO : EPOCH 9 - PROGRESS: at 76.77% examples, 408325 words/s, in_qsize 15, out_qsize 0\n",
            "2021-08-09 10:27:21,365 : INFO : EPOCH 9 - PROGRESS: at 81.88% examples, 408442 words/s, in_qsize 16, out_qsize 0\n",
            "2021-08-09 10:27:22,419 : INFO : EPOCH 9 - PROGRESS: at 87.18% examples, 408780 words/s, in_qsize 11, out_qsize 4\n",
            "2021-08-09 10:27:23,434 : INFO : EPOCH 9 - PROGRESS: at 92.50% examples, 409929 words/s, in_qsize 15, out_qsize 1\n",
            "2021-08-09 10:27:24,494 : INFO : EPOCH 9 - PROGRESS: at 98.04% examples, 410943 words/s, in_qsize 16, out_qsize 0\n",
            "2021-08-09 10:27:24,683 : INFO : worker thread finished; awaiting finish of 7 more threads\n",
            "2021-08-09 10:27:24,709 : INFO : worker thread finished; awaiting finish of 6 more threads\n",
            "2021-08-09 10:27:24,711 : INFO : worker thread finished; awaiting finish of 5 more threads\n",
            "2021-08-09 10:27:24,741 : INFO : worker thread finished; awaiting finish of 4 more threads\n",
            "2021-08-09 10:27:24,754 : INFO : worker thread finished; awaiting finish of 3 more threads\n",
            "2021-08-09 10:27:24,760 : INFO : worker thread finished; awaiting finish of 2 more threads\n",
            "2021-08-09 10:27:24,773 : INFO : worker thread finished; awaiting finish of 1 more threads\n",
            "2021-08-09 10:27:24,775 : INFO : worker thread finished; awaiting finish of 0 more threads\n",
            "2021-08-09 10:27:24,777 : INFO : EPOCH - 9 : training on 9227204 raw words (8222348 effective words) took 19.9s, 413209 effective words/s\n",
            "2021-08-09 10:27:25,821 : INFO : EPOCH 10 - PROGRESS: at 4.67% examples, 372289 words/s, in_qsize 14, out_qsize 1\n",
            "2021-08-09 10:27:26,874 : INFO : EPOCH 10 - PROGRESS: at 10.20% examples, 402189 words/s, in_qsize 15, out_qsize 0\n",
            "2021-08-09 10:27:27,891 : INFO : EPOCH 10 - PROGRESS: at 15.08% examples, 399453 words/s, in_qsize 14, out_qsize 1\n",
            "2021-08-09 10:27:28,892 : INFO : EPOCH 10 - PROGRESS: at 20.27% examples, 406259 words/s, in_qsize 15, out_qsize 2\n",
            "2021-08-09 10:27:29,920 : INFO : EPOCH 10 - PROGRESS: at 26.02% examples, 416885 words/s, in_qsize 15, out_qsize 0\n",
            "2021-08-09 10:27:30,959 : INFO : EPOCH 10 - PROGRESS: at 31.54% examples, 420400 words/s, in_qsize 15, out_qsize 0\n",
            "2021-08-09 10:27:31,975 : INFO : EPOCH 10 - PROGRESS: at 37.48% examples, 429128 words/s, in_qsize 15, out_qsize 0\n",
            "2021-08-09 10:27:32,985 : INFO : EPOCH 10 - PROGRESS: at 42.67% examples, 428400 words/s, in_qsize 15, out_qsize 0\n",
            "2021-08-09 10:27:33,998 : INFO : EPOCH 10 - PROGRESS: at 48.19% examples, 430592 words/s, in_qsize 16, out_qsize 2\n",
            "2021-08-09 10:27:35,007 : INFO : EPOCH 10 - PROGRESS: at 53.92% examples, 434329 words/s, in_qsize 15, out_qsize 0\n",
            "2021-08-09 10:27:36,028 : INFO : EPOCH 10 - PROGRESS: at 59.44% examples, 435315 words/s, in_qsize 14, out_qsize 5\n",
            "2021-08-09 10:27:37,128 : INFO : EPOCH 10 - PROGRESS: at 65.50% examples, 436912 words/s, in_qsize 11, out_qsize 4\n",
            "2021-08-09 10:27:38,164 : INFO : EPOCH 10 - PROGRESS: at 71.67% examples, 441058 words/s, in_qsize 15, out_qsize 0\n",
            "2021-08-09 10:27:39,282 : INFO : EPOCH 10 - PROGRESS: at 77.63% examples, 440835 words/s, in_qsize 15, out_qsize 0\n",
            "2021-08-09 10:27:40,283 : INFO : EPOCH 10 - PROGRESS: at 83.40% examples, 442828 words/s, in_qsize 15, out_qsize 0\n",
            "2021-08-09 10:27:41,288 : INFO : EPOCH 10 - PROGRESS: at 88.80% examples, 442813 words/s, in_qsize 14, out_qsize 1\n",
            "2021-08-09 10:27:42,303 : INFO : EPOCH 10 - PROGRESS: at 94.47% examples, 443597 words/s, in_qsize 14, out_qsize 1\n",
            "2021-08-09 10:27:43,195 : INFO : worker thread finished; awaiting finish of 7 more threads\n",
            "2021-08-09 10:27:43,197 : INFO : worker thread finished; awaiting finish of 6 more threads\n",
            "2021-08-09 10:27:43,198 : INFO : worker thread finished; awaiting finish of 5 more threads\n",
            "2021-08-09 10:27:43,200 : INFO : worker thread finished; awaiting finish of 4 more threads\n",
            "2021-08-09 10:27:43,229 : INFO : worker thread finished; awaiting finish of 3 more threads\n",
            "2021-08-09 10:27:43,263 : INFO : worker thread finished; awaiting finish of 2 more threads\n",
            "2021-08-09 10:27:43,273 : INFO : worker thread finished; awaiting finish of 1 more threads\n",
            "2021-08-09 10:27:43,274 : INFO : worker thread finished; awaiting finish of 0 more threads\n",
            "2021-08-09 10:27:43,275 : INFO : EPOCH - 10 : training on 9227204 raw words (8222916 effective words) took 18.5s, 444891 effective words/s\n",
            "2021-08-09 10:27:44,316 : INFO : EPOCH 11 - PROGRESS: at 5.32% examples, 425186 words/s, in_qsize 15, out_qsize 0\n",
            "2021-08-09 10:27:45,346 : INFO : EPOCH 11 - PROGRESS: at 10.75% examples, 429075 words/s, in_qsize 15, out_qsize 0\n",
            "2021-08-09 10:27:46,348 : INFO : EPOCH 11 - PROGRESS: at 16.81% examples, 451365 words/s, in_qsize 15, out_qsize 0\n",
            "2021-08-09 10:27:47,408 : INFO : EPOCH 11 - PROGRESS: at 22.22% examples, 443369 words/s, in_qsize 9, out_qsize 6\n",
            "2021-08-09 10:27:48,465 : INFO : EPOCH 11 - PROGRESS: at 28.50% examples, 452700 words/s, in_qsize 15, out_qsize 0\n",
            "2021-08-09 10:27:49,493 : INFO : EPOCH 11 - PROGRESS: at 33.81% examples, 448051 words/s, in_qsize 15, out_qsize 0\n",
            "2021-08-09 10:27:50,495 : INFO : EPOCH 11 - PROGRESS: at 39.75% examples, 453748 words/s, in_qsize 13, out_qsize 2\n",
            "2021-08-09 10:27:51,649 : INFO : EPOCH 11 - PROGRESS: at 45.59% examples, 448670 words/s, in_qsize 13, out_qsize 6\n",
            "2021-08-09 10:27:52,650 : INFO : EPOCH 11 - PROGRESS: at 51.86% examples, 455919 words/s, in_qsize 15, out_qsize 0\n",
            "2021-08-09 10:27:53,659 : INFO : EPOCH 11 - PROGRESS: at 57.60% examples, 457092 words/s, in_qsize 16, out_qsize 0\n",
            "2021-08-09 10:27:54,664 : INFO : EPOCH 11 - PROGRESS: at 63.22% examples, 457420 words/s, in_qsize 15, out_qsize 0\n",
            "2021-08-09 10:27:55,723 : INFO : EPOCH 11 - PROGRESS: at 68.96% examples, 457207 words/s, in_qsize 15, out_qsize 2\n",
            "2021-08-09 10:27:56,766 : INFO : EPOCH 11 - PROGRESS: at 74.92% examples, 457450 words/s, in_qsize 16, out_qsize 0\n",
            "2021-08-09 10:27:57,808 : INFO : EPOCH 11 - PROGRESS: at 80.79% examples, 457752 words/s, in_qsize 15, out_qsize 0\n",
            "2021-08-09 10:27:58,819 : INFO : EPOCH 11 - PROGRESS: at 86.53% examples, 458321 words/s, in_qsize 15, out_qsize 2\n",
            "2021-08-09 10:27:59,830 : INFO : EPOCH 11 - PROGRESS: at 92.07% examples, 457742 words/s, in_qsize 13, out_qsize 2\n",
            "2021-08-09 10:28:00,899 : INFO : EPOCH 11 - PROGRESS: at 98.36% examples, 459289 words/s, in_qsize 15, out_qsize 0\n",
            "2021-08-09 10:28:01,030 : INFO : worker thread finished; awaiting finish of 7 more threads\n",
            "2021-08-09 10:28:01,037 : INFO : worker thread finished; awaiting finish of 6 more threads\n",
            "2021-08-09 10:28:01,086 : INFO : worker thread finished; awaiting finish of 5 more threads\n",
            "2021-08-09 10:28:01,092 : INFO : worker thread finished; awaiting finish of 4 more threads\n",
            "2021-08-09 10:28:01,094 : INFO : worker thread finished; awaiting finish of 3 more threads\n",
            "2021-08-09 10:28:01,096 : INFO : worker thread finished; awaiting finish of 2 more threads\n",
            "2021-08-09 10:28:01,098 : INFO : worker thread finished; awaiting finish of 1 more threads\n",
            "2021-08-09 10:28:01,101 : INFO : worker thread finished; awaiting finish of 0 more threads\n",
            "2021-08-09 10:28:01,103 : INFO : EPOCH - 11 : training on 9227204 raw words (8222507 effective words) took 17.8s, 461602 effective words/s\n",
            "2021-08-09 10:28:02,124 : INFO : EPOCH 12 - PROGRESS: at 5.32% examples, 433085 words/s, in_qsize 15, out_qsize 0\n",
            "2021-08-09 10:28:03,171 : INFO : EPOCH 12 - PROGRESS: at 11.08% examples, 442274 words/s, in_qsize 15, out_qsize 0\n",
            "2021-08-09 10:28:04,179 : INFO : EPOCH 12 - PROGRESS: at 17.02% examples, 456668 words/s, in_qsize 15, out_qsize 0\n",
            "2021-08-09 10:28:05,197 : INFO : EPOCH 12 - PROGRESS: at 23.20% examples, 467223 words/s, in_qsize 16, out_qsize 0\n",
            "2021-08-09 10:28:06,256 : INFO : EPOCH 12 - PROGRESS: at 28.72% examples, 460356 words/s, in_qsize 15, out_qsize 1\n",
            "2021-08-09 10:28:07,303 : INFO : EPOCH 12 - PROGRESS: at 34.68% examples, 460794 words/s, in_qsize 15, out_qsize 0\n",
            "2021-08-09 10:28:08,309 : INFO : EPOCH 12 - PROGRESS: at 40.62% examples, 464451 words/s, in_qsize 16, out_qsize 0\n",
            "2021-08-09 10:28:09,321 : INFO : EPOCH 12 - PROGRESS: at 46.13% examples, 462509 words/s, in_qsize 15, out_qsize 0\n",
            "2021-08-09 10:28:10,332 : INFO : EPOCH 12 - PROGRESS: at 51.32% examples, 458238 words/s, in_qsize 16, out_qsize 4\n",
            "2021-08-09 10:28:11,354 : INFO : EPOCH 12 - PROGRESS: at 56.62% examples, 455130 words/s, in_qsize 16, out_qsize 0\n",
            "2021-08-09 10:28:12,364 : INFO : EPOCH 12 - PROGRESS: at 62.03% examples, 453896 words/s, in_qsize 15, out_qsize 0\n",
            "2021-08-09 10:28:13,380 : INFO : EPOCH 12 - PROGRESS: at 66.91% examples, 448968 words/s, in_qsize 15, out_qsize 3\n",
            "2021-08-09 10:28:14,380 : INFO : EPOCH 12 - PROGRESS: at 72.21% examples, 448010 words/s, in_qsize 15, out_qsize 2\n",
            "2021-08-09 10:28:15,475 : INFO : EPOCH 12 - PROGRESS: at 77.63% examples, 444843 words/s, in_qsize 16, out_qsize 0\n",
            "2021-08-09 10:28:16,481 : INFO : EPOCH 12 - PROGRESS: at 82.53% examples, 441843 words/s, in_qsize 16, out_qsize 1\n",
            "2021-08-09 10:28:17,485 : INFO : EPOCH 12 - PROGRESS: at 87.51% examples, 439756 words/s, in_qsize 16, out_qsize 2\n",
            "2021-08-09 10:28:18,489 : INFO : EPOCH 12 - PROGRESS: at 92.94% examples, 439948 words/s, in_qsize 15, out_qsize 0\n",
            "2021-08-09 10:28:19,531 : INFO : EPOCH 12 - PROGRESS: at 98.04% examples, 437786 words/s, in_qsize 15, out_qsize 0\n",
            "2021-08-09 10:28:19,729 : INFO : worker thread finished; awaiting finish of 7 more threads\n",
            "2021-08-09 10:28:19,751 : INFO : worker thread finished; awaiting finish of 6 more threads\n",
            "2021-08-09 10:28:19,752 : INFO : worker thread finished; awaiting finish of 5 more threads\n",
            "2021-08-09 10:28:19,761 : INFO : worker thread finished; awaiting finish of 4 more threads\n",
            "2021-08-09 10:28:19,777 : INFO : worker thread finished; awaiting finish of 3 more threads\n",
            "2021-08-09 10:28:19,796 : INFO : worker thread finished; awaiting finish of 2 more threads\n",
            "2021-08-09 10:28:19,823 : INFO : worker thread finished; awaiting finish of 1 more threads\n",
            "2021-08-09 10:28:19,827 : INFO : worker thread finished; awaiting finish of 0 more threads\n",
            "2021-08-09 10:28:19,829 : INFO : EPOCH - 12 : training on 9227204 raw words (8222815 effective words) took 18.7s, 439443 effective words/s\n",
            "2021-08-09 10:28:20,884 : INFO : EPOCH 13 - PROGRESS: at 4.56% examples, 358044 words/s, in_qsize 15, out_qsize 0\n",
            "2021-08-09 10:28:21,902 : INFO : EPOCH 13 - PROGRESS: at 9.55% examples, 380078 words/s, in_qsize 12, out_qsize 4\n",
            "2021-08-09 10:28:22,932 : INFO : EPOCH 13 - PROGRESS: at 14.97% examples, 397278 words/s, in_qsize 15, out_qsize 0\n",
            "2021-08-09 10:28:23,973 : INFO : EPOCH 13 - PROGRESS: at 20.05% examples, 398480 words/s, in_qsize 15, out_qsize 0\n",
            "2021-08-09 10:28:24,977 : INFO : EPOCH 13 - PROGRESS: at 25.15% examples, 402148 words/s, in_qsize 15, out_qsize 0\n",
            "2021-08-09 10:28:25,991 : INFO : EPOCH 13 - PROGRESS: at 30.46% examples, 406903 words/s, in_qsize 15, out_qsize 0\n",
            "2021-08-09 10:28:26,998 : INFO : EPOCH 13 - PROGRESS: at 35.00% examples, 401932 words/s, in_qsize 9, out_qsize 6\n",
            "2021-08-09 10:28:28,018 : INFO : EPOCH 13 - PROGRESS: at 40.40% examples, 406214 words/s, in_qsize 16, out_qsize 0\n",
            "2021-08-09 10:28:29,037 : INFO : EPOCH 13 - PROGRESS: at 45.59% examples, 407685 words/s, in_qsize 15, out_qsize 0\n",
            "2021-08-09 10:28:30,043 : INFO : EPOCH 13 - PROGRESS: at 50.78% examples, 409558 words/s, in_qsize 11, out_qsize 1\n",
            "2021-08-09 10:28:31,041 : INFO : EPOCH 13 - PROGRESS: at 55.32% examples, 406343 words/s, in_qsize 13, out_qsize 2\n",
            "2021-08-09 10:28:32,069 : INFO : EPOCH 13 - PROGRESS: at 60.52% examples, 407141 words/s, in_qsize 16, out_qsize 0\n",
            "2021-08-09 10:28:33,070 : INFO : EPOCH 13 - PROGRESS: at 65.39% examples, 406641 words/s, in_qsize 15, out_qsize 1\n",
            "2021-08-09 10:28:34,082 : INFO : EPOCH 13 - PROGRESS: at 70.69% examples, 408424 words/s, in_qsize 15, out_qsize 0\n",
            "2021-08-09 10:28:35,100 : INFO : EPOCH 13 - PROGRESS: at 75.78% examples, 408574 words/s, in_qsize 15, out_qsize 1\n",
            "2021-08-09 10:28:36,109 : INFO : EPOCH 13 - PROGRESS: at 81.12% examples, 410066 words/s, in_qsize 15, out_qsize 0\n",
            "2021-08-09 10:28:37,146 : INFO : EPOCH 13 - PROGRESS: at 86.53% examples, 411231 words/s, in_qsize 15, out_qsize 0\n",
            "2021-08-09 10:28:38,212 : INFO : EPOCH 13 - PROGRESS: at 92.39% examples, 413531 words/s, in_qsize 15, out_qsize 0\n",
            "2021-08-09 10:28:39,215 : INFO : EPOCH 13 - PROGRESS: at 97.93% examples, 415569 words/s, in_qsize 15, out_qsize 0\n",
            "2021-08-09 10:28:39,428 : INFO : worker thread finished; awaiting finish of 7 more threads\n",
            "2021-08-09 10:28:39,440 : INFO : worker thread finished; awaiting finish of 6 more threads\n",
            "2021-08-09 10:28:39,441 : INFO : worker thread finished; awaiting finish of 5 more threads\n",
            "2021-08-09 10:28:39,442 : INFO : worker thread finished; awaiting finish of 4 more threads\n",
            "2021-08-09 10:28:39,464 : INFO : worker thread finished; awaiting finish of 3 more threads\n",
            "2021-08-09 10:28:39,486 : INFO : worker thread finished; awaiting finish of 2 more threads\n",
            "2021-08-09 10:28:39,499 : INFO : worker thread finished; awaiting finish of 1 more threads\n",
            "2021-08-09 10:28:39,503 : INFO : worker thread finished; awaiting finish of 0 more threads\n",
            "2021-08-09 10:28:39,504 : INFO : EPOCH - 13 : training on 9227204 raw words (8222182 effective words) took 19.7s, 418111 effective words/s\n",
            "2021-08-09 10:28:40,518 : INFO : EPOCH 14 - PROGRESS: at 5.00% examples, 408691 words/s, in_qsize 15, out_qsize 0\n",
            "2021-08-09 10:28:41,533 : INFO : EPOCH 14 - PROGRESS: at 10.42% examples, 424106 words/s, in_qsize 15, out_qsize 2\n",
            "2021-08-09 10:28:42,572 : INFO : EPOCH 14 - PROGRESS: at 16.27% examples, 440069 words/s, in_qsize 15, out_qsize 2\n",
            "2021-08-09 10:28:43,594 : INFO : EPOCH 14 - PROGRESS: at 21.68% examples, 436820 words/s, in_qsize 15, out_qsize 4\n",
            "2021-08-09 10:28:44,633 : INFO : EPOCH 14 - PROGRESS: at 27.10% examples, 437233 words/s, in_qsize 15, out_qsize 3\n",
            "2021-08-09 10:28:45,634 : INFO : EPOCH 14 - PROGRESS: at 32.08% examples, 430966 words/s, in_qsize 16, out_qsize 5\n",
            "2021-08-09 10:28:46,669 : INFO : EPOCH 14 - PROGRESS: at 37.59% examples, 432039 words/s, in_qsize 15, out_qsize 0\n",
            "2021-08-09 10:28:47,677 : INFO : EPOCH 14 - PROGRESS: at 43.00% examples, 433262 words/s, in_qsize 16, out_qsize 0\n",
            "2021-08-09 10:28:48,690 : INFO : EPOCH 14 - PROGRESS: at 47.97% examples, 430106 words/s, in_qsize 15, out_qsize 0\n",
            "2021-08-09 10:28:49,694 : INFO : EPOCH 14 - PROGRESS: at 52.62% examples, 425328 words/s, in_qsize 12, out_qsize 3\n",
            "2021-08-09 10:28:50,739 : INFO : EPOCH 14 - PROGRESS: at 58.36% examples, 427824 words/s, in_qsize 15, out_qsize 0\n",
            "2021-08-09 10:28:51,834 : INFO : EPOCH 14 - PROGRESS: at 63.65% examples, 425222 words/s, in_qsize 14, out_qsize 1\n",
            "2021-08-09 10:28:52,872 : INFO : EPOCH 14 - PROGRESS: at 68.86% examples, 424184 words/s, in_qsize 13, out_qsize 2\n",
            "2021-08-09 10:28:53,908 : INFO : EPOCH 14 - PROGRESS: at 74.37% examples, 425194 words/s, in_qsize 14, out_qsize 1\n",
            "2021-08-09 10:28:54,990 : INFO : EPOCH 14 - PROGRESS: at 80.03% examples, 425403 words/s, in_qsize 15, out_qsize 0\n",
            "2021-08-09 10:28:56,073 : INFO : EPOCH 14 - PROGRESS: at 85.66% examples, 425546 words/s, in_qsize 14, out_qsize 1\n",
            "2021-08-09 10:28:57,082 : INFO : EPOCH 14 - PROGRESS: at 90.87% examples, 425424 words/s, in_qsize 16, out_qsize 0\n",
            "2021-08-09 10:28:58,097 : INFO : EPOCH 14 - PROGRESS: at 96.09% examples, 425205 words/s, in_qsize 16, out_qsize 0\n",
            "2021-08-09 10:28:58,668 : INFO : worker thread finished; awaiting finish of 7 more threads\n",
            "2021-08-09 10:28:58,674 : INFO : worker thread finished; awaiting finish of 6 more threads\n",
            "2021-08-09 10:28:58,675 : INFO : worker thread finished; awaiting finish of 5 more threads\n",
            "2021-08-09 10:28:58,690 : INFO : worker thread finished; awaiting finish of 4 more threads\n",
            "2021-08-09 10:28:58,715 : INFO : worker thread finished; awaiting finish of 3 more threads\n",
            "2021-08-09 10:28:58,718 : INFO : worker thread finished; awaiting finish of 2 more threads\n",
            "2021-08-09 10:28:58,733 : INFO : worker thread finished; awaiting finish of 1 more threads\n",
            "2021-08-09 10:28:58,743 : INFO : worker thread finished; awaiting finish of 0 more threads\n",
            "2021-08-09 10:28:58,744 : INFO : EPOCH - 14 : training on 9227204 raw words (8222441 effective words) took 19.2s, 427628 effective words/s\n",
            "2021-08-09 10:28:59,762 : INFO : EPOCH 15 - PROGRESS: at 4.56% examples, 372393 words/s, in_qsize 15, out_qsize 0\n",
            "2021-08-09 10:29:00,771 : INFO : EPOCH 15 - PROGRESS: at 9.88% examples, 402608 words/s, in_qsize 15, out_qsize 0\n",
            "2021-08-09 10:29:01,801 : INFO : EPOCH 15 - PROGRESS: at 15.19% examples, 409551 words/s, in_qsize 15, out_qsize 0\n",
            "2021-08-09 10:29:02,804 : INFO : EPOCH 15 - PROGRESS: at 20.27% examples, 411594 words/s, in_qsize 16, out_qsize 1\n",
            "2021-08-09 10:29:03,836 : INFO : EPOCH 15 - PROGRESS: at 25.37% examples, 410403 words/s, in_qsize 15, out_qsize 0\n",
            "2021-08-09 10:29:04,841 : INFO : EPOCH 15 - PROGRESS: at 30.56% examples, 413107 words/s, in_qsize 15, out_qsize 2\n",
            "2021-08-09 10:29:05,895 : INFO : EPOCH 15 - PROGRESS: at 35.97% examples, 414329 words/s, in_qsize 15, out_qsize 0\n",
            "2021-08-09 10:29:06,900 : INFO : EPOCH 15 - PROGRESS: at 41.26% examples, 416788 words/s, in_qsize 15, out_qsize 2\n",
            "2021-08-09 10:29:07,926 : INFO : EPOCH 15 - PROGRESS: at 46.35% examples, 415819 words/s, in_qsize 15, out_qsize 0\n",
            "2021-08-09 10:29:08,938 : INFO : EPOCH 15 - PROGRESS: at 51.53% examples, 416497 words/s, in_qsize 15, out_qsize 0\n",
            "2021-08-09 10:29:09,940 : INFO : EPOCH 15 - PROGRESS: at 57.05% examples, 419817 words/s, in_qsize 16, out_qsize 0\n",
            "2021-08-09 10:29:11,030 : INFO : EPOCH 15 - PROGRESS: at 62.79% examples, 421024 words/s, in_qsize 15, out_qsize 0\n",
            "2021-08-09 10:29:12,052 : INFO : EPOCH 15 - PROGRESS: at 68.21% examples, 422148 words/s, in_qsize 14, out_qsize 4\n",
            "2021-08-09 10:29:13,060 : INFO : EPOCH 15 - PROGRESS: at 74.05% examples, 426039 words/s, in_qsize 16, out_qsize 1\n",
            "2021-08-09 10:29:14,084 : INFO : EPOCH 15 - PROGRESS: at 79.92% examples, 428957 words/s, in_qsize 16, out_qsize 0\n",
            "2021-08-09 10:29:15,103 : INFO : EPOCH 15 - PROGRESS: at 85.55% examples, 430545 words/s, in_qsize 14, out_qsize 1\n",
            "2021-08-09 10:29:16,155 : INFO : EPOCH 15 - PROGRESS: at 91.74% examples, 433667 words/s, in_qsize 15, out_qsize 0\n",
            "2021-08-09 10:29:17,165 : INFO : EPOCH 15 - PROGRESS: at 97.39% examples, 435030 words/s, in_qsize 11, out_qsize 4\n",
            "2021-08-09 10:29:17,434 : INFO : worker thread finished; awaiting finish of 7 more threads\n",
            "2021-08-09 10:29:17,466 : INFO : worker thread finished; awaiting finish of 6 more threads\n",
            "2021-08-09 10:29:17,491 : INFO : worker thread finished; awaiting finish of 5 more threads\n",
            "2021-08-09 10:29:17,496 : INFO : worker thread finished; awaiting finish of 4 more threads\n",
            "2021-08-09 10:29:17,497 : INFO : worker thread finished; awaiting finish of 3 more threads\n",
            "2021-08-09 10:29:17,501 : INFO : worker thread finished; awaiting finish of 2 more threads\n",
            "2021-08-09 10:29:17,512 : INFO : worker thread finished; awaiting finish of 1 more threads\n",
            "2021-08-09 10:29:17,514 : INFO : worker thread finished; awaiting finish of 0 more threads\n",
            "2021-08-09 10:29:17,515 : INFO : EPOCH - 15 : training on 9227204 raw words (8222562 effective words) took 18.8s, 438362 effective words/s\n",
            "2021-08-09 10:29:18,554 : INFO : EPOCH 16 - PROGRESS: at 5.21% examples, 416602 words/s, in_qsize 15, out_qsize 0\n",
            "2021-08-09 10:29:19,664 : INFO : EPOCH 16 - PROGRESS: at 11.40% examples, 438108 words/s, in_qsize 15, out_qsize 0\n",
            "2021-08-09 10:29:20,677 : INFO : EPOCH 16 - PROGRESS: at 17.14% examples, 446888 words/s, in_qsize 12, out_qsize 4\n",
            "2021-08-09 10:29:21,694 : INFO : EPOCH 16 - PROGRESS: at 23.09% examples, 455571 words/s, in_qsize 15, out_qsize 0\n",
            "2021-08-09 10:29:22,708 : INFO : EPOCH 16 - PROGRESS: at 28.40% examples, 450606 words/s, in_qsize 15, out_qsize 0\n",
            "2021-08-09 10:29:23,764 : INFO : EPOCH 16 - PROGRESS: at 34.24% examples, 451413 words/s, in_qsize 13, out_qsize 2\n",
            "2021-08-09 10:29:24,770 : INFO : EPOCH 16 - PROGRESS: at 40.19% examples, 456355 words/s, in_qsize 16, out_qsize 0\n",
            "2021-08-09 10:29:25,773 : INFO : EPOCH 16 - PROGRESS: at 45.59% examples, 454837 words/s, in_qsize 15, out_qsize 0\n",
            "2021-08-09 10:29:26,778 : INFO : EPOCH 16 - PROGRESS: at 51.43% examples, 457451 words/s, in_qsize 14, out_qsize 1\n",
            "2021-08-09 10:29:27,812 : INFO : EPOCH 16 - PROGRESS: at 57.27% examples, 458273 words/s, in_qsize 15, out_qsize 0\n",
            "2021-08-09 10:29:28,851 : INFO : EPOCH 16 - PROGRESS: at 63.33% examples, 460289 words/s, in_qsize 15, out_qsize 0\n",
            "2021-08-09 10:29:29,875 : INFO : EPOCH 16 - PROGRESS: at 68.75% examples, 458181 words/s, in_qsize 15, out_qsize 0\n",
            "2021-08-09 10:29:30,912 : INFO : EPOCH 16 - PROGRESS: at 74.70% examples, 459270 words/s, in_qsize 15, out_qsize 0\n",
            "2021-08-09 10:29:31,949 : INFO : EPOCH 16 - PROGRESS: at 80.47% examples, 458965 words/s, in_qsize 14, out_qsize 1\n",
            "2021-08-09 10:29:32,964 : INFO : EPOCH 16 - PROGRESS: at 86.31% examples, 459951 words/s, in_qsize 15, out_qsize 2\n",
            "2021-08-09 10:29:33,989 : INFO : EPOCH 16 - PROGRESS: at 91.63% examples, 457801 words/s, in_qsize 15, out_qsize 0\n",
            "2021-08-09 10:29:35,040 : INFO : EPOCH 16 - PROGRESS: at 97.39% examples, 457265 words/s, in_qsize 15, out_qsize 0\n",
            "2021-08-09 10:29:35,339 : INFO : worker thread finished; awaiting finish of 7 more threads\n",
            "2021-08-09 10:29:35,350 : INFO : worker thread finished; awaiting finish of 6 more threads\n",
            "2021-08-09 10:29:35,411 : INFO : worker thread finished; awaiting finish of 5 more threads\n",
            "2021-08-09 10:29:35,421 : INFO : worker thread finished; awaiting finish of 4 more threads\n",
            "2021-08-09 10:29:35,423 : INFO : worker thread finished; awaiting finish of 3 more threads\n",
            "2021-08-09 10:29:35,436 : INFO : worker thread finished; awaiting finish of 2 more threads\n",
            "2021-08-09 10:29:35,438 : INFO : worker thread finished; awaiting finish of 1 more threads\n",
            "2021-08-09 10:29:35,443 : INFO : worker thread finished; awaiting finish of 0 more threads\n",
            "2021-08-09 10:29:35,445 : INFO : EPOCH - 16 : training on 9227204 raw words (8222585 effective words) took 17.9s, 458937 effective words/s\n",
            "2021-08-09 10:29:36,475 : INFO : EPOCH 17 - PROGRESS: at 5.00% examples, 403443 words/s, in_qsize 15, out_qsize 0\n",
            "2021-08-09 10:29:37,519 : INFO : EPOCH 17 - PROGRESS: at 10.86% examples, 432653 words/s, in_qsize 14, out_qsize 1\n",
            "2021-08-09 10:29:38,545 : INFO : EPOCH 17 - PROGRESS: at 16.16% examples, 431302 words/s, in_qsize 15, out_qsize 4\n",
            "2021-08-09 10:29:39,597 : INFO : EPOCH 17 - PROGRESS: at 22.11% examples, 439262 words/s, in_qsize 14, out_qsize 2\n",
            "2021-08-09 10:29:40,599 : INFO : EPOCH 17 - PROGRESS: at 28.07% examples, 448998 words/s, in_qsize 14, out_qsize 0\n",
            "2021-08-09 10:29:41,616 : INFO : EPOCH 17 - PROGRESS: at 34.02% examples, 454402 words/s, in_qsize 15, out_qsize 0\n",
            "2021-08-09 10:29:42,643 : INFO : EPOCH 17 - PROGRESS: at 39.43% examples, 451433 words/s, in_qsize 11, out_qsize 4\n",
            "2021-08-09 10:29:43,646 : INFO : EPOCH 17 - PROGRESS: at 44.94% examples, 451622 words/s, in_qsize 12, out_qsize 3\n",
            "2021-08-09 10:29:44,670 : INFO : EPOCH 17 - PROGRESS: at 50.35% examples, 449791 words/s, in_qsize 15, out_qsize 0\n",
            "2021-08-09 10:29:45,672 : INFO : EPOCH 17 - PROGRESS: at 56.08% examples, 451938 words/s, in_qsize 15, out_qsize 0\n",
            "2021-08-09 10:29:46,745 : INFO : EPOCH 17 - PROGRESS: at 61.93% examples, 451561 words/s, in_qsize 16, out_qsize 0\n",
            "2021-08-09 10:29:47,756 : INFO : EPOCH 17 - PROGRESS: at 67.67% examples, 452825 words/s, in_qsize 15, out_qsize 1\n",
            "2021-08-09 10:29:48,789 : INFO : EPOCH 17 - PROGRESS: at 73.51% examples, 453825 words/s, in_qsize 15, out_qsize 0\n",
            "2021-08-09 10:29:49,812 : INFO : EPOCH 17 - PROGRESS: at 78.62% examples, 450648 words/s, in_qsize 16, out_qsize 0\n",
            "2021-08-09 10:29:50,813 : INFO : EPOCH 17 - PROGRESS: at 84.04% examples, 450278 words/s, in_qsize 16, out_qsize 0\n",
            "2021-08-09 10:29:51,850 : INFO : EPOCH 17 - PROGRESS: at 88.91% examples, 446230 words/s, in_qsize 14, out_qsize 1\n",
            "2021-08-09 10:29:52,866 : INFO : EPOCH 17 - PROGRESS: at 94.03% examples, 444199 words/s, in_qsize 16, out_qsize 0\n",
            "2021-08-09 10:29:53,842 : INFO : worker thread finished; awaiting finish of 7 more threads\n",
            "2021-08-09 10:29:53,847 : INFO : worker thread finished; awaiting finish of 6 more threads\n",
            "2021-08-09 10:29:53,848 : INFO : worker thread finished; awaiting finish of 5 more threads\n",
            "2021-08-09 10:29:53,869 : INFO : EPOCH 17 - PROGRESS: at 99.56% examples, 444710 words/s, in_qsize 4, out_qsize 1\n",
            "2021-08-09 10:29:53,872 : INFO : worker thread finished; awaiting finish of 4 more threads\n",
            "2021-08-09 10:29:53,876 : INFO : worker thread finished; awaiting finish of 3 more threads\n",
            "2021-08-09 10:29:53,881 : INFO : worker thread finished; awaiting finish of 2 more threads\n",
            "2021-08-09 10:29:53,882 : INFO : worker thread finished; awaiting finish of 1 more threads\n",
            "2021-08-09 10:29:53,897 : INFO : worker thread finished; awaiting finish of 0 more threads\n",
            "2021-08-09 10:29:53,899 : INFO : EPOCH - 17 : training on 9227204 raw words (8222485 effective words) took 18.4s, 445920 effective words/s\n",
            "2021-08-09 10:29:54,981 : INFO : EPOCH 18 - PROGRESS: at 4.56% examples, 349989 words/s, in_qsize 14, out_qsize 1\n",
            "2021-08-09 10:29:56,034 : INFO : EPOCH 18 - PROGRESS: at 10.21% examples, 394866 words/s, in_qsize 16, out_qsize 0\n",
            "2021-08-09 10:29:57,045 : INFO : EPOCH 18 - PROGRESS: at 15.30% examples, 401030 words/s, in_qsize 15, out_qsize 0\n",
            "2021-08-09 10:29:58,049 : INFO : EPOCH 18 - PROGRESS: at 20.38% examples, 404872 words/s, in_qsize 16, out_qsize 1\n",
            "2021-08-09 10:29:59,097 : INFO : EPOCH 18 - PROGRESS: at 25.59% examples, 405558 words/s, in_qsize 15, out_qsize 0\n",
            "2021-08-09 10:30:00,122 : INFO : EPOCH 18 - PROGRESS: at 30.99% examples, 410348 words/s, in_qsize 15, out_qsize 0\n",
            "2021-08-09 10:30:01,126 : INFO : EPOCH 18 - PROGRESS: at 35.86% examples, 408817 words/s, in_qsize 12, out_qsize 4\n",
            "2021-08-09 10:30:02,152 : INFO : EPOCH 18 - PROGRESS: at 41.16% examples, 410838 words/s, in_qsize 16, out_qsize 1\n",
            "2021-08-09 10:30:03,181 : INFO : EPOCH 18 - PROGRESS: at 46.35% examples, 411341 words/s, in_qsize 15, out_qsize 0\n",
            "2021-08-09 10:30:04,200 : INFO : EPOCH 18 - PROGRESS: at 51.43% examples, 411328 words/s, in_qsize 16, out_qsize 3\n",
            "2021-08-09 10:30:05,235 : INFO : EPOCH 18 - PROGRESS: at 56.83% examples, 413384 words/s, in_qsize 15, out_qsize 4\n",
            "2021-08-09 10:30:06,286 : INFO : EPOCH 18 - PROGRESS: at 62.14% examples, 413298 words/s, in_qsize 14, out_qsize 4\n",
            "2021-08-09 10:30:07,317 : INFO : EPOCH 18 - PROGRESS: at 67.56% examples, 414698 words/s, in_qsize 15, out_qsize 0\n",
            "2021-08-09 10:30:08,366 : INFO : EPOCH 18 - PROGRESS: at 72.75% examples, 414173 words/s, in_qsize 11, out_qsize 4\n",
            "2021-08-09 10:30:09,379 : INFO : EPOCH 18 - PROGRESS: at 78.07% examples, 415249 words/s, in_qsize 15, out_qsize 0\n",
            "2021-08-09 10:30:10,405 : INFO : EPOCH 18 - PROGRESS: at 83.29% examples, 415365 words/s, in_qsize 15, out_qsize 0\n",
            "2021-08-09 10:30:11,433 : INFO : EPOCH 18 - PROGRESS: at 88.59% examples, 415888 words/s, in_qsize 15, out_qsize 0\n",
            "2021-08-09 10:30:12,489 : INFO : EPOCH 18 - PROGRESS: at 94.03% examples, 416209 words/s, in_qsize 16, out_qsize 0\n",
            "2021-08-09 10:30:13,505 : INFO : EPOCH 18 - PROGRESS: at 99.22% examples, 416454 words/s, in_qsize 8, out_qsize 0\n",
            "2021-08-09 10:30:13,517 : INFO : worker thread finished; awaiting finish of 7 more threads\n",
            "2021-08-09 10:30:13,518 : INFO : worker thread finished; awaiting finish of 6 more threads\n",
            "2021-08-09 10:30:13,520 : INFO : worker thread finished; awaiting finish of 5 more threads\n",
            "2021-08-09 10:30:13,529 : INFO : worker thread finished; awaiting finish of 4 more threads\n",
            "2021-08-09 10:30:13,552 : INFO : worker thread finished; awaiting finish of 3 more threads\n",
            "2021-08-09 10:30:13,562 : INFO : worker thread finished; awaiting finish of 2 more threads\n",
            "2021-08-09 10:30:13,568 : INFO : worker thread finished; awaiting finish of 1 more threads\n",
            "2021-08-09 10:30:13,576 : INFO : worker thread finished; awaiting finish of 0 more threads\n",
            "2021-08-09 10:30:13,579 : INFO : EPOCH - 18 : training on 9227204 raw words (8222660 effective words) took 19.7s, 418095 effective words/s\n",
            "2021-08-09 10:30:14,694 : INFO : EPOCH 19 - PROGRESS: at 5.00% examples, 371155 words/s, in_qsize 14, out_qsize 1\n",
            "2021-08-09 10:30:15,731 : INFO : EPOCH 19 - PROGRESS: at 10.97% examples, 420323 words/s, in_qsize 15, out_qsize 0\n",
            "2021-08-09 10:30:16,801 : INFO : EPOCH 19 - PROGRESS: at 16.70% examples, 427228 words/s, in_qsize 15, out_qsize 0\n",
            "2021-08-09 10:30:17,808 : INFO : EPOCH 19 - PROGRESS: at 22.54% examples, 439252 words/s, in_qsize 13, out_qsize 2\n",
            "2021-08-09 10:30:18,905 : INFO : EPOCH 19 - PROGRESS: at 28.40% examples, 439129 words/s, in_qsize 15, out_qsize 3\n",
            "2021-08-09 10:30:19,909 : INFO : EPOCH 19 - PROGRESS: at 34.46% examples, 448315 words/s, in_qsize 14, out_qsize 0\n",
            "2021-08-09 10:30:20,923 : INFO : EPOCH 19 - PROGRESS: at 40.08% examples, 449418 words/s, in_qsize 16, out_qsize 1\n",
            "2021-08-09 10:30:22,008 : INFO : EPOCH 19 - PROGRESS: at 46.24% examples, 451818 words/s, in_qsize 15, out_qsize 0\n",
            "2021-08-09 10:30:23,085 : INFO : EPOCH 19 - PROGRESS: at 51.96% examples, 450331 words/s, in_qsize 16, out_qsize 5\n",
            "2021-08-09 10:30:24,146 : INFO : EPOCH 19 - PROGRESS: at 58.03% examples, 452312 words/s, in_qsize 15, out_qsize 0\n",
            "2021-08-09 10:30:25,153 : INFO : EPOCH 19 - PROGRESS: at 63.97% examples, 455262 words/s, in_qsize 15, out_qsize 0\n",
            "2021-08-09 10:30:26,160 : INFO : EPOCH 19 - PROGRESS: at 69.50% examples, 454961 words/s, in_qsize 15, out_qsize 0\n",
            "2021-08-09 10:30:27,211 : INFO : EPOCH 19 - PROGRESS: at 75.46% examples, 456012 words/s, in_qsize 15, out_qsize 1\n",
            "2021-08-09 10:30:28,237 : INFO : EPOCH 19 - PROGRESS: at 81.45% examples, 457318 words/s, in_qsize 15, out_qsize 0\n",
            "2021-08-09 10:30:29,245 : INFO : EPOCH 19 - PROGRESS: at 86.74% examples, 455761 words/s, in_qsize 16, out_qsize 2\n",
            "2021-08-09 10:30:30,315 : INFO : EPOCH 19 - PROGRESS: at 92.50% examples, 454815 words/s, in_qsize 12, out_qsize 3\n",
            "2021-08-09 10:30:31,351 : INFO : EPOCH 19 - PROGRESS: at 98.79% examples, 457354 words/s, in_qsize 12, out_qsize 0\n",
            "2021-08-09 10:30:31,429 : INFO : worker thread finished; awaiting finish of 7 more threads\n",
            "2021-08-09 10:30:31,436 : INFO : worker thread finished; awaiting finish of 6 more threads\n",
            "2021-08-09 10:30:31,445 : INFO : worker thread finished; awaiting finish of 5 more threads\n",
            "2021-08-09 10:30:31,447 : INFO : worker thread finished; awaiting finish of 4 more threads\n",
            "2021-08-09 10:30:31,451 : INFO : worker thread finished; awaiting finish of 3 more threads\n",
            "2021-08-09 10:30:31,482 : INFO : worker thread finished; awaiting finish of 2 more threads\n",
            "2021-08-09 10:30:31,504 : INFO : worker thread finished; awaiting finish of 1 more threads\n",
            "2021-08-09 10:30:31,504 : INFO : worker thread finished; awaiting finish of 0 more threads\n",
            "2021-08-09 10:30:31,505 : INFO : EPOCH - 19 : training on 9227204 raw words (8221903 effective words) took 17.9s, 458941 effective words/s\n",
            "2021-08-09 10:30:32,640 : INFO : EPOCH 20 - PROGRESS: at 5.54% examples, 405392 words/s, in_qsize 12, out_qsize 3\n",
            "2021-08-09 10:30:33,666 : INFO : EPOCH 20 - PROGRESS: at 11.19% examples, 427636 words/s, in_qsize 14, out_qsize 4\n",
            "2021-08-09 10:30:34,673 : INFO : EPOCH 20 - PROGRESS: at 17.13% examples, 446369 words/s, in_qsize 16, out_qsize 0\n",
            "2021-08-09 10:30:35,699 : INFO : EPOCH 20 - PROGRESS: at 22.76% examples, 447676 words/s, in_qsize 15, out_qsize 0\n",
            "2021-08-09 10:30:36,771 : INFO : EPOCH 20 - PROGRESS: at 28.50% examples, 446266 words/s, in_qsize 14, out_qsize 1\n",
            "2021-08-09 10:30:37,787 : INFO : EPOCH 20 - PROGRESS: at 34.46% examples, 452024 words/s, in_qsize 15, out_qsize 0\n",
            "2021-08-09 10:30:38,792 : INFO : EPOCH 20 - PROGRESS: at 40.19% examples, 454458 words/s, in_qsize 14, out_qsize 1\n",
            "2021-08-09 10:30:39,803 : INFO : EPOCH 20 - PROGRESS: at 46.13% examples, 458114 words/s, in_qsize 15, out_qsize 0\n",
            "2021-08-09 10:30:40,835 : INFO : EPOCH 20 - PROGRESS: at 51.43% examples, 454282 words/s, in_qsize 13, out_qsize 2\n",
            "2021-08-09 10:30:41,836 : INFO : EPOCH 20 - PROGRESS: at 56.95% examples, 454240 words/s, in_qsize 15, out_qsize 0\n",
            "2021-08-09 10:30:42,849 : INFO : EPOCH 20 - PROGRESS: at 62.57% examples, 454540 words/s, in_qsize 15, out_qsize 3\n",
            "2021-08-09 10:30:43,859 : INFO : EPOCH 20 - PROGRESS: at 68.85% examples, 459233 words/s, in_qsize 15, out_qsize 0\n",
            "2021-08-09 10:30:44,869 : INFO : EPOCH 20 - PROGRESS: at 74.16% examples, 457160 words/s, in_qsize 16, out_qsize 3\n",
            "2021-08-09 10:30:45,872 : INFO : EPOCH 20 - PROGRESS: at 80.14% examples, 459302 words/s, in_qsize 13, out_qsize 2\n",
            "2021-08-09 10:30:46,929 : INFO : EPOCH 20 - PROGRESS: at 86.31% examples, 460764 words/s, in_qsize 15, out_qsize 0\n",
            "2021-08-09 10:30:47,971 : INFO : EPOCH 20 - PROGRESS: at 92.07% examples, 460271 words/s, in_qsize 14, out_qsize 1\n",
            "2021-08-09 10:30:48,991 : INFO : EPOCH 20 - PROGRESS: at 98.04% examples, 461424 words/s, in_qsize 15, out_qsize 0\n",
            "2021-08-09 10:30:49,160 : INFO : worker thread finished; awaiting finish of 7 more threads\n",
            "2021-08-09 10:30:49,168 : INFO : worker thread finished; awaiting finish of 6 more threads\n",
            "2021-08-09 10:30:49,178 : INFO : worker thread finished; awaiting finish of 5 more threads\n",
            "2021-08-09 10:30:49,204 : INFO : worker thread finished; awaiting finish of 4 more threads\n",
            "2021-08-09 10:30:49,212 : INFO : worker thread finished; awaiting finish of 3 more threads\n",
            "2021-08-09 10:30:49,231 : INFO : worker thread finished; awaiting finish of 2 more threads\n",
            "2021-08-09 10:30:49,237 : INFO : worker thread finished; awaiting finish of 1 more threads\n",
            "2021-08-09 10:30:49,239 : INFO : worker thread finished; awaiting finish of 0 more threads\n",
            "2021-08-09 10:30:49,241 : INFO : EPOCH - 20 : training on 9227204 raw words (8223022 effective words) took 17.7s, 464018 effective words/s\n",
            "2021-08-09 10:30:50,259 : INFO : EPOCH 21 - PROGRESS: at 5.11% examples, 416126 words/s, in_qsize 16, out_qsize 0\n",
            "2021-08-09 10:30:51,285 : INFO : EPOCH 21 - PROGRESS: at 10.75% examples, 434256 words/s, in_qsize 15, out_qsize 0\n",
            "2021-08-09 10:30:52,295 : INFO : EPOCH 21 - PROGRESS: at 16.48% examples, 445125 words/s, in_qsize 15, out_qsize 0\n",
            "2021-08-09 10:30:53,310 : INFO : EPOCH 21 - PROGRESS: at 22.33% examples, 452326 words/s, in_qsize 13, out_qsize 2\n",
            "2021-08-09 10:30:54,328 : INFO : EPOCH 21 - PROGRESS: at 28.40% examples, 459960 words/s, in_qsize 15, out_qsize 0\n",
            "2021-08-09 10:30:55,359 : INFO : EPOCH 21 - PROGRESS: at 33.81% examples, 455210 words/s, in_qsize 16, out_qsize 0\n",
            "2021-08-09 10:30:56,367 : INFO : EPOCH 21 - PROGRESS: at 39.33% examples, 454564 words/s, in_qsize 15, out_qsize 0\n",
            "2021-08-09 10:30:57,390 : INFO : EPOCH 21 - PROGRESS: at 43.86% examples, 443386 words/s, in_qsize 15, out_qsize 0\n",
            "2021-08-09 10:30:58,403 : INFO : EPOCH 21 - PROGRESS: at 49.49% examples, 444949 words/s, in_qsize 15, out_qsize 0\n",
            "2021-08-09 10:30:59,416 : INFO : EPOCH 21 - PROGRESS: at 54.02% examples, 437413 words/s, in_qsize 16, out_qsize 0\n",
            "2021-08-09 10:31:00,419 : INFO : EPOCH 21 - PROGRESS: at 59.55% examples, 438849 words/s, in_qsize 15, out_qsize 0\n",
            "2021-08-09 10:31:01,466 : INFO : EPOCH 21 - PROGRESS: at 64.30% examples, 433859 words/s, in_qsize 15, out_qsize 2\n",
            "2021-08-09 10:31:02,473 : INFO : EPOCH 21 - PROGRESS: at 69.40% examples, 431999 words/s, in_qsize 14, out_qsize 1\n",
            "2021-08-09 10:31:03,495 : INFO : EPOCH 21 - PROGRESS: at 74.69% examples, 431626 words/s, in_qsize 15, out_qsize 0\n",
            "2021-08-09 10:31:04,524 : INFO : EPOCH 21 - PROGRESS: at 80.14% examples, 431967 words/s, in_qsize 16, out_qsize 3\n",
            "2021-08-09 10:31:05,525 : INFO : EPOCH 21 - PROGRESS: at 85.23% examples, 430871 words/s, in_qsize 16, out_qsize 1\n",
            "2021-08-09 10:31:06,550 : INFO : EPOCH 21 - PROGRESS: at 90.44% examples, 430016 words/s, in_qsize 15, out_qsize 0\n",
            "2021-08-09 10:31:07,589 : INFO : EPOCH 21 - PROGRESS: at 95.99% examples, 430413 words/s, in_qsize 15, out_qsize 0\n",
            "2021-08-09 10:31:08,227 : INFO : worker thread finished; awaiting finish of 7 more threads\n",
            "2021-08-09 10:31:08,240 : INFO : worker thread finished; awaiting finish of 6 more threads\n",
            "2021-08-09 10:31:08,253 : INFO : worker thread finished; awaiting finish of 5 more threads\n",
            "2021-08-09 10:31:08,263 : INFO : worker thread finished; awaiting finish of 4 more threads\n",
            "2021-08-09 10:31:08,267 : INFO : worker thread finished; awaiting finish of 3 more threads\n",
            "2021-08-09 10:31:08,277 : INFO : worker thread finished; awaiting finish of 2 more threads\n",
            "2021-08-09 10:31:08,283 : INFO : worker thread finished; awaiting finish of 1 more threads\n",
            "2021-08-09 10:31:08,294 : INFO : worker thread finished; awaiting finish of 0 more threads\n",
            "2021-08-09 10:31:08,295 : INFO : EPOCH - 21 : training on 9227204 raw words (8222785 effective words) took 19.0s, 431838 effective words/s\n",
            "2021-08-09 10:31:09,316 : INFO : EPOCH 22 - PROGRESS: at 4.34% examples, 352956 words/s, in_qsize 13, out_qsize 2\n",
            "2021-08-09 10:31:10,323 : INFO : EPOCH 22 - PROGRESS: at 9.55% examples, 388998 words/s, in_qsize 15, out_qsize 0\n",
            "2021-08-09 10:31:11,362 : INFO : EPOCH 22 - PROGRESS: at 14.65% examples, 393596 words/s, in_qsize 15, out_qsize 0\n",
            "2021-08-09 10:31:12,367 : INFO : EPOCH 22 - PROGRESS: at 19.94% examples, 403702 words/s, in_qsize 15, out_qsize 0\n",
            "2021-08-09 10:31:13,371 : INFO : EPOCH 22 - PROGRESS: at 25.04% examples, 406337 words/s, in_qsize 15, out_qsize 0\n",
            "2021-08-09 10:31:14,380 : INFO : EPOCH 22 - PROGRESS: at 29.70% examples, 401982 words/s, in_qsize 15, out_qsize 0\n",
            "2021-08-09 10:31:15,382 : INFO : EPOCH 22 - PROGRESS: at 35.00% examples, 406743 words/s, in_qsize 16, out_qsize 0\n",
            "2021-08-09 10:31:16,456 : INFO : EPOCH 22 - PROGRESS: at 39.86% examples, 402303 words/s, in_qsize 14, out_qsize 1\n",
            "2021-08-09 10:31:17,557 : INFO : EPOCH 22 - PROGRESS: at 45.37% examples, 404507 words/s, in_qsize 16, out_qsize 1\n",
            "2021-08-09 10:31:18,535 : INFO : EPOCH 22 - PROGRESS: at 50.78% examples, 408462 words/s, in_qsize 15, out_qsize 0\n",
            "2021-08-09 10:31:19,609 : INFO : EPOCH 22 - PROGRESS: at 56.19% examples, 409107 words/s, in_qsize 15, out_qsize 0\n",
            "2021-08-09 10:31:20,620 : INFO : EPOCH 22 - PROGRESS: at 62.03% examples, 414575 words/s, in_qsize 14, out_qsize 0\n",
            "2021-08-09 10:31:21,697 : INFO : EPOCH 22 - PROGRESS: at 67.45% examples, 414501 words/s, in_qsize 11, out_qsize 4\n",
            "2021-08-09 10:31:22,705 : INFO : EPOCH 22 - PROGRESS: at 73.41% examples, 419508 words/s, in_qsize 15, out_qsize 0\n",
            "2021-08-09 10:31:23,706 : INFO : EPOCH 22 - PROGRESS: at 78.95% examples, 421724 words/s, in_qsize 14, out_qsize 1\n",
            "2021-08-09 10:31:24,727 : INFO : EPOCH 22 - PROGRESS: at 84.70% examples, 424275 words/s, in_qsize 15, out_qsize 0\n",
            "2021-08-09 10:31:25,744 : INFO : EPOCH 22 - PROGRESS: at 90.98% examples, 429115 words/s, in_qsize 15, out_qsize 0\n",
            "2021-08-09 10:31:26,777 : INFO : EPOCH 22 - PROGRESS: at 96.32% examples, 428730 words/s, in_qsize 15, out_qsize 0\n",
            "2021-08-09 10:31:27,187 : INFO : worker thread finished; awaiting finish of 7 more threads\n",
            "2021-08-09 10:31:27,218 : INFO : worker thread finished; awaiting finish of 6 more threads\n",
            "2021-08-09 10:31:27,279 : INFO : worker thread finished; awaiting finish of 5 more threads\n",
            "2021-08-09 10:31:27,285 : INFO : worker thread finished; awaiting finish of 4 more threads\n",
            "2021-08-09 10:31:27,288 : INFO : worker thread finished; awaiting finish of 3 more threads\n",
            "2021-08-09 10:31:27,299 : INFO : worker thread finished; awaiting finish of 2 more threads\n",
            "2021-08-09 10:31:27,304 : INFO : worker thread finished; awaiting finish of 1 more threads\n",
            "2021-08-09 10:31:27,310 : INFO : worker thread finished; awaiting finish of 0 more threads\n",
            "2021-08-09 10:31:27,310 : INFO : EPOCH - 22 : training on 9227204 raw words (8222754 effective words) took 19.0s, 432693 effective words/s\n",
            "2021-08-09 10:31:28,329 : INFO : EPOCH 23 - PROGRESS: at 5.32% examples, 433655 words/s, in_qsize 15, out_qsize 0\n",
            "2021-08-09 10:31:29,345 : INFO : EPOCH 23 - PROGRESS: at 10.97% examples, 444953 words/s, in_qsize 15, out_qsize 0\n",
            "2021-08-09 10:31:30,376 : INFO : EPOCH 23 - PROGRESS: at 16.92% examples, 455142 words/s, in_qsize 15, out_qsize 0\n",
            "2021-08-09 10:31:31,387 : INFO : EPOCH 23 - PROGRESS: at 22.98% examples, 464688 words/s, in_qsize 15, out_qsize 0\n",
            "2021-08-09 10:31:32,391 : INFO : EPOCH 23 - PROGRESS: at 28.29% examples, 458747 words/s, in_qsize 16, out_qsize 1\n",
            "2021-08-09 10:31:33,456 : INFO : EPOCH 23 - PROGRESS: at 34.46% examples, 461911 words/s, in_qsize 14, out_qsize 1\n",
            "2021-08-09 10:31:34,465 : INFO : EPOCH 23 - PROGRESS: at 39.65% examples, 456533 words/s, in_qsize 15, out_qsize 2\n",
            "2021-08-09 10:31:35,543 : INFO : EPOCH 23 - PROGRESS: at 45.27% examples, 452961 words/s, in_qsize 15, out_qsize 0\n",
            "2021-08-09 10:31:36,556 : INFO : EPOCH 23 - PROGRESS: at 51.10% examples, 455361 words/s, in_qsize 15, out_qsize 0\n",
            "2021-08-09 10:31:37,578 : INFO : EPOCH 23 - PROGRESS: at 57.06% examples, 457797 words/s, in_qsize 15, out_qsize 0\n",
            "2021-08-09 10:31:38,587 : INFO : EPOCH 23 - PROGRESS: at 62.57% examples, 457129 words/s, in_qsize 12, out_qsize 3\n",
            "2021-08-09 10:31:39,588 : INFO : EPOCH 23 - PROGRESS: at 68.21% examples, 457563 words/s, in_qsize 15, out_qsize 7\n",
            "2021-08-09 10:31:40,591 : INFO : EPOCH 23 - PROGRESS: at 73.94% examples, 458576 words/s, in_qsize 13, out_qsize 2\n",
            "2021-08-09 10:31:41,647 : INFO : EPOCH 23 - PROGRESS: at 80.36% examples, 461461 words/s, in_qsize 15, out_qsize 0\n",
            "2021-08-09 10:31:42,684 : INFO : EPOCH 23 - PROGRESS: at 85.99% examples, 460448 words/s, in_qsize 15, out_qsize 0\n",
            "2021-08-09 10:31:43,726 : INFO : EPOCH 23 - PROGRESS: at 91.95% examples, 461640 words/s, in_qsize 15, out_qsize 0\n",
            "2021-08-09 10:31:44,713 : INFO : EPOCH 23 - PROGRESS: at 97.50% examples, 460999 words/s, in_qsize 13, out_qsize 2\n",
            "2021-08-09 10:31:44,978 : INFO : worker thread finished; awaiting finish of 7 more threads\n",
            "2021-08-09 10:31:44,987 : INFO : worker thread finished; awaiting finish of 6 more threads\n",
            "2021-08-09 10:31:44,996 : INFO : worker thread finished; awaiting finish of 5 more threads\n",
            "2021-08-09 10:31:44,998 : INFO : worker thread finished; awaiting finish of 4 more threads\n",
            "2021-08-09 10:31:45,008 : INFO : worker thread finished; awaiting finish of 3 more threads\n",
            "2021-08-09 10:31:45,019 : INFO : worker thread finished; awaiting finish of 2 more threads\n",
            "2021-08-09 10:31:45,027 : INFO : worker thread finished; awaiting finish of 1 more threads\n",
            "2021-08-09 10:31:45,032 : INFO : worker thread finished; awaiting finish of 0 more threads\n",
            "2021-08-09 10:31:45,034 : INFO : EPOCH - 23 : training on 9227204 raw words (8222690 effective words) took 17.7s, 464279 effective words/s\n",
            "2021-08-09 10:31:46,054 : INFO : EPOCH 24 - PROGRESS: at 5.11% examples, 414919 words/s, in_qsize 16, out_qsize 1\n",
            "2021-08-09 10:31:47,059 : INFO : EPOCH 24 - PROGRESS: at 10.64% examples, 433622 words/s, in_qsize 14, out_qsize 1\n",
            "2021-08-09 10:31:48,068 : INFO : EPOCH 24 - PROGRESS: at 16.59% examples, 450808 words/s, in_qsize 16, out_qsize 0\n",
            "2021-08-09 10:31:49,106 : INFO : EPOCH 24 - PROGRESS: at 22.44% examples, 454104 words/s, in_qsize 15, out_qsize 0\n",
            "2021-08-09 10:31:50,146 : INFO : EPOCH 24 - PROGRESS: at 28.50% examples, 459380 words/s, in_qsize 15, out_qsize 0\n",
            "2021-08-09 10:31:51,153 : INFO : EPOCH 24 - PROGRESS: at 34.02% examples, 458028 words/s, in_qsize 10, out_qsize 5\n",
            "2021-08-09 10:31:52,155 : INFO : EPOCH 24 - PROGRESS: at 39.97% examples, 462396 words/s, in_qsize 16, out_qsize 1\n",
            "2021-08-09 10:31:53,163 : INFO : EPOCH 24 - PROGRESS: at 45.59% examples, 462058 words/s, in_qsize 15, out_qsize 0\n",
            "2021-08-09 10:31:54,172 : INFO : EPOCH 24 - PROGRESS: at 51.21% examples, 461702 words/s, in_qsize 16, out_qsize 0\n",
            "2021-08-09 10:31:55,175 : INFO : EPOCH 24 - PROGRESS: at 56.84% examples, 461745 words/s, in_qsize 15, out_qsize 2\n",
            "2021-08-09 10:31:56,208 : INFO : EPOCH 24 - PROGRESS: at 62.47% examples, 460530 words/s, in_qsize 15, out_qsize 0\n",
            "2021-08-09 10:31:57,209 : INFO : EPOCH 24 - PROGRESS: at 68.21% examples, 461453 words/s, in_qsize 15, out_qsize 0\n",
            "2021-08-09 10:31:58,215 : INFO : EPOCH 24 - PROGRESS: at 74.27% examples, 464059 words/s, in_qsize 13, out_qsize 0\n",
            "2021-08-09 10:31:59,230 : INFO : EPOCH 24 - PROGRESS: at 79.92% examples, 463514 words/s, in_qsize 15, out_qsize 0\n",
            "2021-08-09 10:32:00,236 : INFO : EPOCH 24 - PROGRESS: at 85.99% examples, 465627 words/s, in_qsize 15, out_qsize 0\n",
            "2021-08-09 10:32:01,284 : INFO : EPOCH 24 - PROGRESS: at 91.31% examples, 462441 words/s, in_qsize 14, out_qsize 1\n",
            "2021-08-09 10:32:02,306 : INFO : EPOCH 24 - PROGRESS: at 96.85% examples, 461380 words/s, in_qsize 16, out_qsize 1\n",
            "2021-08-09 10:32:02,808 : INFO : worker thread finished; awaiting finish of 7 more threads\n",
            "2021-08-09 10:32:02,817 : INFO : worker thread finished; awaiting finish of 6 more threads\n",
            "2021-08-09 10:32:02,821 : INFO : worker thread finished; awaiting finish of 5 more threads\n",
            "2021-08-09 10:32:02,830 : INFO : worker thread finished; awaiting finish of 4 more threads\n",
            "2021-08-09 10:32:02,848 : INFO : worker thread finished; awaiting finish of 3 more threads\n",
            "2021-08-09 10:32:02,852 : INFO : worker thread finished; awaiting finish of 2 more threads\n",
            "2021-08-09 10:32:02,857 : INFO : worker thread finished; awaiting finish of 1 more threads\n",
            "2021-08-09 10:32:02,877 : INFO : worker thread finished; awaiting finish of 0 more threads\n",
            "2021-08-09 10:32:02,878 : INFO : EPOCH - 24 : training on 9227204 raw words (8223146 effective words) took 17.8s, 461132 effective words/s\n",
            "2021-08-09 10:32:03,921 : INFO : EPOCH 25 - PROGRESS: at 4.34% examples, 346469 words/s, in_qsize 11, out_qsize 4\n",
            "2021-08-09 10:32:04,925 : INFO : EPOCH 25 - PROGRESS: at 9.55% examples, 385591 words/s, in_qsize 16, out_qsize 0\n",
            "2021-08-09 10:32:05,940 : INFO : EPOCH 25 - PROGRESS: at 14.76% examples, 397397 words/s, in_qsize 15, out_qsize 0\n",
            "2021-08-09 10:32:06,979 : INFO : EPOCH 25 - PROGRESS: at 20.05% examples, 403186 words/s, in_qsize 11, out_qsize 4\n",
            "2021-08-09 10:32:07,988 : INFO : EPOCH 25 - PROGRESS: at 25.26% examples, 407268 words/s, in_qsize 15, out_qsize 0\n",
            "2021-08-09 10:32:08,992 : INFO : EPOCH 25 - PROGRESS: at 30.67% examples, 413278 words/s, in_qsize 15, out_qsize 0\n",
            "2021-08-09 10:32:10,000 : INFO : EPOCH 25 - PROGRESS: at 35.75% examples, 413517 words/s, in_qsize 16, out_qsize 0\n",
            "2021-08-09 10:32:11,016 : INFO : EPOCH 25 - PROGRESS: at 40.94% examples, 414446 words/s, in_qsize 14, out_qsize 1\n",
            "2021-08-09 10:32:12,035 : INFO : EPOCH 25 - PROGRESS: at 46.46% examples, 417975 words/s, in_qsize 16, out_qsize 0\n",
            "2021-08-09 10:32:13,055 : INFO : EPOCH 25 - PROGRESS: at 51.10% examples, 413713 words/s, in_qsize 14, out_qsize 1\n",
            "2021-08-09 10:32:14,061 : INFO : EPOCH 25 - PROGRESS: at 56.40% examples, 415564 words/s, in_qsize 15, out_qsize 0\n",
            "2021-08-09 10:32:15,079 : INFO : EPOCH 25 - PROGRESS: at 61.71% examples, 416662 words/s, in_qsize 15, out_qsize 0\n",
            "2021-08-09 10:32:16,087 : INFO : EPOCH 25 - PROGRESS: at 66.58% examples, 415207 words/s, in_qsize 15, out_qsize 3\n",
            "2021-08-09 10:32:17,091 : INFO : EPOCH 25 - PROGRESS: at 71.67% examples, 415337 words/s, in_qsize 15, out_qsize 0\n",
            "2021-08-09 10:32:18,204 : INFO : EPOCH 25 - PROGRESS: at 77.20% examples, 415269 words/s, in_qsize 14, out_qsize 1\n",
            "2021-08-09 10:32:19,213 : INFO : EPOCH 25 - PROGRESS: at 82.20% examples, 414237 words/s, in_qsize 13, out_qsize 2\n",
            "2021-08-09 10:32:20,270 : INFO : EPOCH 25 - PROGRESS: at 87.51% examples, 414160 words/s, in_qsize 14, out_qsize 1\n",
            "2021-08-09 10:32:21,292 : INFO : EPOCH 25 - PROGRESS: at 92.72% examples, 414374 words/s, in_qsize 14, out_qsize 1\n",
            "2021-08-09 10:32:22,294 : INFO : EPOCH 25 - PROGRESS: at 97.71% examples, 414078 words/s, in_qsize 15, out_qsize 2\n",
            "2021-08-09 10:32:22,496 : INFO : worker thread finished; awaiting finish of 7 more threads\n",
            "2021-08-09 10:32:22,535 : INFO : worker thread finished; awaiting finish of 6 more threads\n",
            "2021-08-09 10:32:22,547 : INFO : worker thread finished; awaiting finish of 5 more threads\n",
            "2021-08-09 10:32:22,576 : INFO : worker thread finished; awaiting finish of 4 more threads\n",
            "2021-08-09 10:32:22,591 : INFO : worker thread finished; awaiting finish of 3 more threads\n",
            "2021-08-09 10:32:22,598 : INFO : worker thread finished; awaiting finish of 2 more threads\n",
            "2021-08-09 10:32:22,605 : INFO : worker thread finished; awaiting finish of 1 more threads\n",
            "2021-08-09 10:32:22,607 : INFO : worker thread finished; awaiting finish of 0 more threads\n",
            "2021-08-09 10:32:22,608 : INFO : EPOCH - 25 : training on 9227204 raw words (8221808 effective words) took 19.7s, 417029 effective words/s\n",
            "2021-08-09 10:32:23,659 : INFO : EPOCH 26 - PROGRESS: at 4.56% examples, 360093 words/s, in_qsize 15, out_qsize 0\n",
            "2021-08-09 10:32:24,728 : INFO : EPOCH 26 - PROGRESS: at 9.77% examples, 380543 words/s, in_qsize 16, out_qsize 5\n",
            "2021-08-09 10:32:25,732 : INFO : EPOCH 26 - PROGRESS: at 15.30% examples, 403705 words/s, in_qsize 15, out_qsize 0\n",
            "2021-08-09 10:32:26,738 : INFO : EPOCH 26 - PROGRESS: at 20.27% examples, 404660 words/s, in_qsize 15, out_qsize 0\n",
            "2021-08-09 10:32:27,756 : INFO : EPOCH 26 - PROGRESS: at 25.80% examples, 412939 words/s, in_qsize 16, out_qsize 1\n",
            "2021-08-09 10:32:28,770 : INFO : EPOCH 26 - PROGRESS: at 31.21% examples, 417317 words/s, in_qsize 14, out_qsize 1\n",
            "2021-08-09 10:32:29,814 : INFO : EPOCH 26 - PROGRESS: at 37.05% examples, 423624 words/s, in_qsize 14, out_qsize 1\n",
            "2021-08-09 10:32:30,843 : INFO : EPOCH 26 - PROGRESS: at 42.78% examples, 427999 words/s, in_qsize 14, out_qsize 1\n",
            "2021-08-09 10:32:31,863 : INFO : EPOCH 26 - PROGRESS: at 48.73% examples, 433769 words/s, in_qsize 15, out_qsize 0\n",
            "2021-08-09 10:32:32,886 : INFO : EPOCH 26 - PROGRESS: at 54.35% examples, 435698 words/s, in_qsize 15, out_qsize 0\n",
            "2021-08-09 10:32:33,890 : INFO : EPOCH 26 - PROGRESS: at 60.20% examples, 439595 words/s, in_qsize 15, out_qsize 0\n",
            "2021-08-09 10:32:34,909 : INFO : EPOCH 26 - PROGRESS: at 65.50% examples, 438627 words/s, in_qsize 14, out_qsize 1\n",
            "2021-08-09 10:32:35,911 : INFO : EPOCH 26 - PROGRESS: at 71.24% examples, 441106 words/s, in_qsize 16, out_qsize 0\n",
            "2021-08-09 10:32:36,922 : INFO : EPOCH 26 - PROGRESS: at 76.99% examples, 442899 words/s, in_qsize 15, out_qsize 0\n",
            "2021-08-09 10:32:37,932 : INFO : EPOCH 26 - PROGRESS: at 82.42% examples, 442775 words/s, in_qsize 15, out_qsize 0\n",
            "2021-08-09 10:32:38,936 : INFO : EPOCH 26 - PROGRESS: at 87.94% examples, 443368 words/s, in_qsize 15, out_qsize 0\n",
            "2021-08-09 10:32:39,950 : INFO : EPOCH 26 - PROGRESS: at 94.03% examples, 446183 words/s, in_qsize 15, out_qsize 0\n",
            "2021-08-09 10:32:40,900 : INFO : worker thread finished; awaiting finish of 7 more threads\n",
            "2021-08-09 10:32:40,934 : INFO : worker thread finished; awaiting finish of 6 more threads\n",
            "2021-08-09 10:32:40,940 : INFO : worker thread finished; awaiting finish of 5 more threads\n",
            "2021-08-09 10:32:40,950 : INFO : EPOCH 26 - PROGRESS: at 99.56% examples, 446687 words/s, in_qsize 4, out_qsize 1\n",
            "2021-08-09 10:32:40,951 : INFO : worker thread finished; awaiting finish of 4 more threads\n",
            "2021-08-09 10:32:40,987 : INFO : worker thread finished; awaiting finish of 3 more threads\n",
            "2021-08-09 10:32:40,993 : INFO : worker thread finished; awaiting finish of 2 more threads\n",
            "2021-08-09 10:32:40,998 : INFO : worker thread finished; awaiting finish of 1 more threads\n",
            "2021-08-09 10:32:41,007 : INFO : worker thread finished; awaiting finish of 0 more threads\n",
            "2021-08-09 10:32:41,010 : INFO : EPOCH - 26 : training on 9227204 raw words (8222767 effective words) took 18.4s, 447179 effective words/s\n",
            "2021-08-09 10:32:42,051 : INFO : EPOCH 27 - PROGRESS: at 5.54% examples, 440404 words/s, in_qsize 15, out_qsize 0\n",
            "2021-08-09 10:32:43,064 : INFO : EPOCH 27 - PROGRESS: at 10.97% examples, 440318 words/s, in_qsize 15, out_qsize 0\n",
            "2021-08-09 10:32:44,064 : INFO : EPOCH 27 - PROGRESS: at 17.03% examples, 459442 words/s, in_qsize 16, out_qsize 0\n",
            "2021-08-09 10:32:45,091 : INFO : EPOCH 27 - PROGRESS: at 22.43% examples, 452994 words/s, in_qsize 15, out_qsize 0\n",
            "2021-08-09 10:32:46,126 : INFO : EPOCH 27 - PROGRESS: at 28.40% examples, 457143 words/s, in_qsize 15, out_qsize 0\n",
            "2021-08-09 10:32:47,143 : INFO : EPOCH 27 - PROGRESS: at 33.92% examples, 455417 words/s, in_qsize 10, out_qsize 5\n",
            "2021-08-09 10:32:48,202 : INFO : EPOCH 27 - PROGRESS: at 40.08% examples, 460367 words/s, in_qsize 14, out_qsize 1\n",
            "2021-08-09 10:32:49,202 : INFO : EPOCH 27 - PROGRESS: at 45.70% examples, 459496 words/s, in_qsize 15, out_qsize 0\n",
            "2021-08-09 10:32:50,217 : INFO : EPOCH 27 - PROGRESS: at 51.64% examples, 462076 words/s, in_qsize 15, out_qsize 0\n",
            "2021-08-09 10:32:51,229 : INFO : EPOCH 27 - PROGRESS: at 56.95% examples, 459068 words/s, in_qsize 13, out_qsize 2\n",
            "2021-08-09 10:32:52,229 : INFO : EPOCH 27 - PROGRESS: at 62.89% examples, 461819 words/s, in_qsize 15, out_qsize 0\n",
            "2021-08-09 10:32:53,235 : INFO : EPOCH 27 - PROGRESS: at 68.10% examples, 458804 words/s, in_qsize 14, out_qsize 1\n",
            "2021-08-09 10:32:54,258 : INFO : EPOCH 27 - PROGRESS: at 73.84% examples, 459051 words/s, in_qsize 15, out_qsize 5\n",
            "2021-08-09 10:32:55,286 : INFO : EPOCH 27 - PROGRESS: at 79.70% examples, 459596 words/s, in_qsize 14, out_qsize 1\n",
            "2021-08-09 10:32:56,313 : INFO : EPOCH 27 - PROGRESS: at 85.66% examples, 460755 words/s, in_qsize 15, out_qsize 0\n",
            "2021-08-09 10:32:57,341 : INFO : EPOCH 27 - PROGRESS: at 91.20% examples, 459583 words/s, in_qsize 15, out_qsize 0\n",
            "2021-08-09 10:32:58,432 : INFO : EPOCH 27 - PROGRESS: at 97.07% examples, 458536 words/s, in_qsize 15, out_qsize 2\n",
            "2021-08-09 10:32:58,812 : INFO : worker thread finished; awaiting finish of 7 more threads\n",
            "2021-08-09 10:32:58,818 : INFO : worker thread finished; awaiting finish of 6 more threads\n",
            "2021-08-09 10:32:58,819 : INFO : worker thread finished; awaiting finish of 5 more threads\n",
            "2021-08-09 10:32:58,822 : INFO : worker thread finished; awaiting finish of 4 more threads\n",
            "2021-08-09 10:32:58,824 : INFO : worker thread finished; awaiting finish of 3 more threads\n",
            "2021-08-09 10:32:58,838 : INFO : worker thread finished; awaiting finish of 2 more threads\n",
            "2021-08-09 10:32:58,845 : INFO : worker thread finished; awaiting finish of 1 more threads\n",
            "2021-08-09 10:32:58,860 : INFO : worker thread finished; awaiting finish of 0 more threads\n",
            "2021-08-09 10:32:58,861 : INFO : EPOCH - 27 : training on 9227204 raw words (8223140 effective words) took 17.8s, 460897 effective words/s\n",
            "2021-08-09 10:32:59,895 : INFO : EPOCH 28 - PROGRESS: at 4.67% examples, 376474 words/s, in_qsize 15, out_qsize 0\n",
            "2021-08-09 10:33:00,989 : INFO : EPOCH 28 - PROGRESS: at 10.75% examples, 417785 words/s, in_qsize 15, out_qsize 0\n",
            "2021-08-09 10:33:02,055 : INFO : EPOCH 28 - PROGRESS: at 16.92% examples, 437385 words/s, in_qsize 15, out_qsize 0\n",
            "2021-08-09 10:33:03,077 : INFO : EPOCH 28 - PROGRESS: at 22.54% examples, 441173 words/s, in_qsize 16, out_qsize 0\n",
            "2021-08-09 10:33:04,163 : INFO : EPOCH 28 - PROGRESS: at 28.61% examples, 444907 words/s, in_qsize 14, out_qsize 1\n",
            "2021-08-09 10:33:05,201 : INFO : EPOCH 28 - PROGRESS: at 34.68% examples, 450713 words/s, in_qsize 14, out_qsize 1\n",
            "2021-08-09 10:33:06,307 : INFO : EPOCH 28 - PROGRESS: at 41.05% examples, 454402 words/s, in_qsize 14, out_qsize 3\n",
            "2021-08-09 10:33:07,336 : INFO : EPOCH 28 - PROGRESS: at 46.89% examples, 455998 words/s, in_qsize 15, out_qsize 0\n",
            "2021-08-09 10:33:08,381 : INFO : EPOCH 28 - PROGRESS: at 52.18% examples, 453057 words/s, in_qsize 15, out_qsize 0\n",
            "2021-08-09 10:33:09,365 : INFO : EPOCH 28 - PROGRESS: at 57.38% examples, 450186 words/s, in_qsize 15, out_qsize 0\n",
            "2021-08-09 10:33:10,435 : INFO : EPOCH 28 - PROGRESS: at 62.36% examples, 443998 words/s, in_qsize 15, out_qsize 0\n",
            "2021-08-09 10:33:11,480 : INFO : EPOCH 28 - PROGRESS: at 67.67% examples, 442316 words/s, in_qsize 16, out_qsize 0\n",
            "2021-08-09 10:33:12,508 : INFO : EPOCH 28 - PROGRESS: at 72.86% examples, 439841 words/s, in_qsize 15, out_qsize 0\n",
            "2021-08-09 10:33:13,511 : INFO : EPOCH 28 - PROGRESS: at 77.85% examples, 437692 words/s, in_qsize 15, out_qsize 0\n",
            "2021-08-09 10:33:14,618 : INFO : EPOCH 28 - PROGRESS: at 83.51% examples, 436337 words/s, in_qsize 15, out_qsize 0\n",
            "2021-08-09 10:33:15,624 : INFO : EPOCH 28 - PROGRESS: at 88.59% examples, 435107 words/s, in_qsize 15, out_qsize 0\n",
            "2021-08-09 10:33:16,632 : INFO : EPOCH 28 - PROGRESS: at 93.59% examples, 433449 words/s, in_qsize 16, out_qsize 2\n",
            "2021-08-09 10:33:17,635 : INFO : EPOCH 28 - PROGRESS: at 98.90% examples, 433544 words/s, in_qsize 10, out_qsize 1\n",
            "2021-08-09 10:33:17,709 : INFO : worker thread finished; awaiting finish of 7 more threads\n",
            "2021-08-09 10:33:17,717 : INFO : worker thread finished; awaiting finish of 6 more threads\n",
            "2021-08-09 10:33:17,740 : INFO : worker thread finished; awaiting finish of 5 more threads\n",
            "2021-08-09 10:33:17,748 : INFO : worker thread finished; awaiting finish of 4 more threads\n",
            "2021-08-09 10:33:17,761 : INFO : worker thread finished; awaiting finish of 3 more threads\n",
            "2021-08-09 10:33:17,769 : INFO : worker thread finished; awaiting finish of 2 more threads\n",
            "2021-08-09 10:33:17,778 : INFO : worker thread finished; awaiting finish of 1 more threads\n",
            "2021-08-09 10:33:17,789 : INFO : worker thread finished; awaiting finish of 0 more threads\n",
            "2021-08-09 10:33:17,790 : INFO : EPOCH - 28 : training on 9227204 raw words (8222569 effective words) took 18.9s, 434771 effective words/s\n",
            "2021-08-09 10:33:18,827 : INFO : EPOCH 29 - PROGRESS: at 4.78% examples, 382159 words/s, in_qsize 16, out_qsize 0\n",
            "2021-08-09 10:33:19,832 : INFO : EPOCH 29 - PROGRESS: at 10.10% examples, 408042 words/s, in_qsize 12, out_qsize 0\n",
            "2021-08-09 10:33:20,840 : INFO : EPOCH 29 - PROGRESS: at 14.97% examples, 404610 words/s, in_qsize 15, out_qsize 0\n",
            "2021-08-09 10:33:21,901 : INFO : EPOCH 29 - PROGRESS: at 20.16% examples, 404201 words/s, in_qsize 16, out_qsize 0\n",
            "2021-08-09 10:33:22,960 : INFO : EPOCH 29 - PROGRESS: at 25.48% examples, 405820 words/s, in_qsize 15, out_qsize 0\n",
            "2021-08-09 10:33:23,978 : INFO : EPOCH 29 - PROGRESS: at 30.56% examples, 406727 words/s, in_qsize 13, out_qsize 2\n",
            "2021-08-09 10:33:24,991 : INFO : EPOCH 29 - PROGRESS: at 35.97% examples, 411386 words/s, in_qsize 16, out_qsize 0\n",
            "2021-08-09 10:33:26,026 : INFO : EPOCH 29 - PROGRESS: at 41.16% examples, 412817 words/s, in_qsize 15, out_qsize 0\n",
            "2021-08-09 10:33:27,060 : INFO : EPOCH 29 - PROGRESS: at 46.56% examples, 413699 words/s, in_qsize 15, out_qsize 0\n",
            "2021-08-09 10:33:28,069 : INFO : EPOCH 29 - PROGRESS: at 51.75% examples, 414746 words/s, in_qsize 15, out_qsize 0\n",
            "2021-08-09 10:33:29,125 : INFO : EPOCH 29 - PROGRESS: at 56.84% examples, 413061 words/s, in_qsize 14, out_qsize 1\n",
            "2021-08-09 10:33:30,257 : INFO : EPOCH 29 - PROGRESS: at 62.47% examples, 412693 words/s, in_qsize 15, out_qsize 0\n",
            "2021-08-09 10:33:31,292 : INFO : EPOCH 29 - PROGRESS: at 67.77% examples, 413381 words/s, in_qsize 14, out_qsize 1\n",
            "2021-08-09 10:33:32,327 : INFO : EPOCH 29 - PROGRESS: at 72.86% examples, 412757 words/s, in_qsize 12, out_qsize 3\n",
            "2021-08-09 10:33:33,337 : INFO : EPOCH 29 - PROGRESS: at 78.07% examples, 413539 words/s, in_qsize 16, out_qsize 4\n",
            "2021-08-09 10:33:34,339 : INFO : EPOCH 29 - PROGRESS: at 83.51% examples, 415288 words/s, in_qsize 15, out_qsize 0\n",
            "2021-08-09 10:33:35,370 : INFO : EPOCH 29 - PROGRESS: at 88.91% examples, 416285 words/s, in_qsize 15, out_qsize 0\n",
            "2021-08-09 10:33:36,386 : INFO : EPOCH 29 - PROGRESS: at 94.68% examples, 418900 words/s, in_qsize 15, out_qsize 2\n",
            "2021-08-09 10:33:37,154 : INFO : worker thread finished; awaiting finish of 7 more threads\n",
            "2021-08-09 10:33:37,155 : INFO : worker thread finished; awaiting finish of 6 more threads\n",
            "2021-08-09 10:33:37,157 : INFO : worker thread finished; awaiting finish of 5 more threads\n",
            "2021-08-09 10:33:37,175 : INFO : worker thread finished; awaiting finish of 4 more threads\n",
            "2021-08-09 10:33:37,189 : INFO : worker thread finished; awaiting finish of 3 more threads\n",
            "2021-08-09 10:33:37,205 : INFO : worker thread finished; awaiting finish of 2 more threads\n",
            "2021-08-09 10:33:37,216 : INFO : worker thread finished; awaiting finish of 1 more threads\n",
            "2021-08-09 10:33:37,226 : INFO : worker thread finished; awaiting finish of 0 more threads\n",
            "2021-08-09 10:33:37,227 : INFO : EPOCH - 29 : training on 9227204 raw words (8222053 effective words) took 19.4s, 423278 effective words/s\n",
            "2021-08-09 10:33:38,241 : INFO : EPOCH 30 - PROGRESS: at 5.10% examples, 418199 words/s, in_qsize 15, out_qsize 1\n",
            "2021-08-09 10:33:39,299 : INFO : EPOCH 30 - PROGRESS: at 11.30% examples, 450002 words/s, in_qsize 16, out_qsize 0\n",
            "2021-08-09 10:33:40,307 : INFO : EPOCH 30 - PROGRESS: at 16.92% examples, 453212 words/s, in_qsize 15, out_qsize 1\n",
            "2021-08-09 10:33:41,395 : INFO : EPOCH 30 - PROGRESS: at 22.54% examples, 446062 words/s, in_qsize 15, out_qsize 0\n",
            "2021-08-09 10:33:42,421 : INFO : EPOCH 30 - PROGRESS: at 27.97% examples, 443624 words/s, in_qsize 16, out_qsize 0\n",
            "2021-08-09 10:33:43,452 : INFO : EPOCH 30 - PROGRESS: at 33.60% examples, 445723 words/s, in_qsize 15, out_qsize 5\n",
            "2021-08-09 10:33:44,444 : INFO : EPOCH 30 - PROGRESS: at 39.65% examples, 452621 words/s, in_qsize 15, out_qsize 0\n",
            "2021-08-09 10:33:45,482 : INFO : EPOCH 30 - PROGRESS: at 45.16% examples, 450767 words/s, in_qsize 16, out_qsize 0\n",
            "2021-08-09 10:33:46,517 : INFO : EPOCH 30 - PROGRESS: at 50.56% examples, 448501 words/s, in_qsize 15, out_qsize 0\n",
            "2021-08-09 10:33:47,570 : INFO : EPOCH 30 - PROGRESS: at 56.62% examples, 451144 words/s, in_qsize 15, out_qsize 0\n",
            "2021-08-09 10:33:48,588 : INFO : EPOCH 30 - PROGRESS: at 62.68% examples, 454643 words/s, in_qsize 14, out_qsize 1\n",
            "2021-08-09 10:33:49,611 : INFO : EPOCH 30 - PROGRESS: at 68.64% examples, 457045 words/s, in_qsize 10, out_qsize 0\n",
            "2021-08-09 10:33:50,602 : INFO : EPOCH 30 - PROGRESS: at 73.84% examples, 454745 words/s, in_qsize 15, out_qsize 0\n",
            "2021-08-09 10:33:51,633 : INFO : EPOCH 30 - PROGRESS: at 79.81% examples, 456170 words/s, in_qsize 15, out_qsize 0\n",
            "2021-08-09 10:33:52,691 : INFO : EPOCH 30 - PROGRESS: at 85.45% examples, 455209 words/s, in_qsize 16, out_qsize 5\n",
            "2021-08-09 10:33:53,742 : INFO : EPOCH 30 - PROGRESS: at 91.53% examples, 456166 words/s, in_qsize 13, out_qsize 2\n",
            "2021-08-09 10:33:54,833 : INFO : EPOCH 30 - PROGRESS: at 97.82% examples, 457242 words/s, in_qsize 12, out_qsize 3\n",
            "2021-08-09 10:33:55,003 : INFO : worker thread finished; awaiting finish of 7 more threads\n",
            "2021-08-09 10:33:55,005 : INFO : worker thread finished; awaiting finish of 6 more threads\n",
            "2021-08-09 10:33:55,038 : INFO : worker thread finished; awaiting finish of 5 more threads\n",
            "2021-08-09 10:33:55,085 : INFO : worker thread finished; awaiting finish of 4 more threads\n",
            "2021-08-09 10:33:55,093 : INFO : worker thread finished; awaiting finish of 3 more threads\n",
            "2021-08-09 10:33:55,106 : INFO : worker thread finished; awaiting finish of 2 more threads\n",
            "2021-08-09 10:33:55,115 : INFO : worker thread finished; awaiting finish of 1 more threads\n",
            "2021-08-09 10:33:55,117 : INFO : worker thread finished; awaiting finish of 0 more threads\n",
            "2021-08-09 10:33:55,119 : INFO : EPOCH - 30 : training on 9227204 raw words (8223576 effective words) took 17.9s, 459942 effective words/s\n",
            "2021-08-09 10:33:56,186 : INFO : EPOCH 31 - PROGRESS: at 5.21% examples, 406385 words/s, in_qsize 15, out_qsize 0\n",
            "2021-08-09 10:33:57,208 : INFO : EPOCH 31 - PROGRESS: at 11.19% examples, 442514 words/s, in_qsize 15, out_qsize 0\n",
            "2021-08-09 10:33:58,221 : INFO : EPOCH 31 - PROGRESS: at 17.02% examples, 452992 words/s, in_qsize 13, out_qsize 2\n",
            "2021-08-09 10:33:59,325 : INFO : EPOCH 31 - PROGRESS: at 22.87% examples, 448589 words/s, in_qsize 14, out_qsize 7\n",
            "2021-08-09 10:34:00,333 : INFO : EPOCH 31 - PROGRESS: at 29.16% examples, 460953 words/s, in_qsize 14, out_qsize 0\n",
            "2021-08-09 10:34:01,347 : INFO : EPOCH 31 - PROGRESS: at 34.46% examples, 455956 words/s, in_qsize 15, out_qsize 0\n",
            "2021-08-09 10:34:02,372 : INFO : EPOCH 31 - PROGRESS: at 40.08% examples, 455354 words/s, in_qsize 15, out_qsize 0\n",
            "2021-08-09 10:34:03,408 : INFO : EPOCH 31 - PROGRESS: at 46.03% examples, 457514 words/s, in_qsize 15, out_qsize 0\n",
            "2021-08-09 10:34:04,429 : INFO : EPOCH 31 - PROGRESS: at 51.96% examples, 460009 words/s, in_qsize 16, out_qsize 0\n",
            "2021-08-09 10:34:05,466 : INFO : EPOCH 31 - PROGRESS: at 57.71% examples, 459588 words/s, in_qsize 15, out_qsize 0\n",
            "2021-08-09 10:34:06,486 : INFO : EPOCH 31 - PROGRESS: at 63.54% examples, 460635 words/s, in_qsize 16, out_qsize 0\n",
            "2021-08-09 10:34:07,494 : INFO : EPOCH 31 - PROGRESS: at 69.61% examples, 463463 words/s, in_qsize 15, out_qsize 0\n",
            "2021-08-09 10:34:08,519 : INFO : EPOCH 31 - PROGRESS: at 75.14% examples, 461863 words/s, in_qsize 15, out_qsize 1\n",
            "2021-08-09 10:34:09,549 : INFO : EPOCH 31 - PROGRESS: at 81.23% examples, 463465 words/s, in_qsize 16, out_qsize 1\n",
            "2021-08-09 10:34:10,631 : INFO : EPOCH 31 - PROGRESS: at 86.75% examples, 460406 words/s, in_qsize 11, out_qsize 4\n",
            "2021-08-09 10:34:11,674 : INFO : EPOCH 31 - PROGRESS: at 92.94% examples, 462030 words/s, in_qsize 14, out_qsize 1\n",
            "2021-08-09 10:34:12,708 : INFO : EPOCH 31 - PROGRESS: at 99.01% examples, 463234 words/s, in_qsize 10, out_qsize 0\n",
            "2021-08-09 10:34:12,770 : INFO : worker thread finished; awaiting finish of 7 more threads\n",
            "2021-08-09 10:34:12,775 : INFO : worker thread finished; awaiting finish of 6 more threads\n",
            "2021-08-09 10:34:12,776 : INFO : worker thread finished; awaiting finish of 5 more threads\n",
            "2021-08-09 10:34:12,781 : INFO : worker thread finished; awaiting finish of 4 more threads\n",
            "2021-08-09 10:34:12,784 : INFO : worker thread finished; awaiting finish of 3 more threads\n",
            "2021-08-09 10:34:12,787 : INFO : worker thread finished; awaiting finish of 2 more threads\n",
            "2021-08-09 10:34:12,816 : INFO : worker thread finished; awaiting finish of 1 more threads\n",
            "2021-08-09 10:34:12,823 : INFO : worker thread finished; awaiting finish of 0 more threads\n",
            "2021-08-09 10:34:12,824 : INFO : EPOCH - 31 : training on 9227204 raw words (8221847 effective words) took 17.7s, 464787 effective words/s\n",
            "2021-08-09 10:34:13,851 : INFO : EPOCH 32 - PROGRESS: at 4.89% examples, 395150 words/s, in_qsize 15, out_qsize 1\n",
            "2021-08-09 10:34:14,876 : INFO : EPOCH 32 - PROGRESS: at 9.88% examples, 397719 words/s, in_qsize 12, out_qsize 3\n",
            "2021-08-09 10:34:15,921 : INFO : EPOCH 32 - PROGRESS: at 15.08% examples, 404884 words/s, in_qsize 15, out_qsize 0\n",
            "2021-08-09 10:34:16,921 : INFO : EPOCH 32 - PROGRESS: at 19.95% examples, 401371 words/s, in_qsize 16, out_qsize 1\n",
            "2021-08-09 10:34:17,980 : INFO : EPOCH 32 - PROGRESS: at 25.26% examples, 405401 words/s, in_qsize 14, out_qsize 6\n",
            "2021-08-09 10:34:18,964 : INFO : EPOCH 32 - PROGRESS: at 30.56% examples, 410173 words/s, in_qsize 16, out_qsize 0\n",
            "2021-08-09 10:34:19,995 : INFO : EPOCH 32 - PROGRESS: at 35.97% examples, 413329 words/s, in_qsize 15, out_qsize 0\n",
            "2021-08-09 10:34:20,996 : INFO : EPOCH 32 - PROGRESS: at 40.83% examples, 411720 words/s, in_qsize 15, out_qsize 0\n",
            "2021-08-09 10:34:22,036 : INFO : EPOCH 32 - PROGRESS: at 46.24% examples, 413562 words/s, in_qsize 15, out_qsize 0\n",
            "2021-08-09 10:34:23,052 : INFO : EPOCH 32 - PROGRESS: at 51.32% examples, 413464 words/s, in_qsize 15, out_qsize 0\n",
            "2021-08-09 10:34:24,069 : INFO : EPOCH 32 - PROGRESS: at 56.62% examples, 414928 words/s, in_qsize 15, out_qsize 0\n",
            "2021-08-09 10:34:25,072 : INFO : EPOCH 32 - PROGRESS: at 61.82% examples, 415878 words/s, in_qsize 15, out_qsize 0\n",
            "2021-08-09 10:34:26,093 : INFO : EPOCH 32 - PROGRESS: at 67.45% examples, 418759 words/s, in_qsize 15, out_qsize 0\n",
            "2021-08-09 10:34:27,104 : INFO : EPOCH 32 - PROGRESS: at 71.99% examples, 415325 words/s, in_qsize 14, out_qsize 4\n",
            "2021-08-09 10:34:28,116 : INFO : EPOCH 32 - PROGRESS: at 77.64% examples, 418116 words/s, in_qsize 15, out_qsize 0\n",
            "2021-08-09 10:34:29,230 : INFO : EPOCH 32 - PROGRESS: at 83.07% examples, 416867 words/s, in_qsize 11, out_qsize 4\n",
            "2021-08-09 10:34:30,304 : INFO : EPOCH 32 - PROGRESS: at 88.80% examples, 418248 words/s, in_qsize 15, out_qsize 0\n",
            "2021-08-09 10:34:31,348 : INFO : EPOCH 32 - PROGRESS: at 94.25% examples, 418688 words/s, in_qsize 15, out_qsize 0\n",
            "2021-08-09 10:34:32,294 : INFO : worker thread finished; awaiting finish of 7 more threads\n",
            "2021-08-09 10:34:32,305 : INFO : worker thread finished; awaiting finish of 6 more threads\n",
            "2021-08-09 10:34:32,309 : INFO : worker thread finished; awaiting finish of 5 more threads\n",
            "2021-08-09 10:34:32,317 : INFO : worker thread finished; awaiting finish of 4 more threads\n",
            "2021-08-09 10:34:32,326 : INFO : worker thread finished; awaiting finish of 3 more threads\n",
            "2021-08-09 10:34:32,342 : INFO : worker thread finished; awaiting finish of 2 more threads\n",
            "2021-08-09 10:34:32,362 : INFO : EPOCH 32 - PROGRESS: at 99.89% examples, 420707 words/s, in_qsize 1, out_qsize 1\n",
            "2021-08-09 10:34:32,367 : INFO : worker thread finished; awaiting finish of 1 more threads\n",
            "2021-08-09 10:34:32,369 : INFO : worker thread finished; awaiting finish of 0 more threads\n",
            "2021-08-09 10:34:32,370 : INFO : EPOCH - 32 : training on 9227204 raw words (8223627 effective words) took 19.5s, 421002 effective words/s\n",
            "2021-08-09 10:34:32,371 : INFO : training on a 295270528 raw words (263124969 effective words) took 596.0s, 441478 effective words/s\n"
          ],
          "name": "stderr"
        },
        {
          "output_type": "stream",
          "text": [
            "CPU times: user 19min 11s, sys: 5.49 s, total: 19min 16s\n",
            "Wall time: 9min 56s\n"
          ],
          "name": "stdout"
        },
        {
          "output_type": "execute_result",
          "data": {
            "text/plain": [
              "(263124969, 295270528)"
            ]
          },
          "metadata": {
            "tags": []
          },
          "execution_count": 21
        }
      ]
    },
    {
      "cell_type": "code",
      "metadata": {
        "id": "N9OFdgxzn-G4",
        "colab": {
          "base_uri": "https://localhost:8080/"
        },
        "outputId": "2d48d89f-886b-406e-bad8-e6114ae1e941"
      },
      "source": [
        "from gensim.models import Word2Vec\n",
        "\n",
        "w2v_model = Word2Vec.load('/content/drive/My Drive/model.w2v')"
      ],
      "execution_count": null,
      "outputs": [
        {
          "output_type": "stream",
          "text": [
            "2021-08-09 10:34:38,626 : INFO : loading Word2Vec object from /content/drive/My Drive/model.w2v\n",
            "2021-08-09 10:34:43,594 : INFO : loading wv recursively from /content/drive/My Drive/model.w2v.wv.* with mmap=None\n",
            "2021-08-09 10:34:43,596 : INFO : setting ignored attribute vectors_norm to None\n",
            "2021-08-09 10:34:43,601 : INFO : loading vocabulary recursively from /content/drive/My Drive/model.w2v.vocabulary.* with mmap=None\n",
            "2021-08-09 10:34:43,602 : INFO : loading trainables recursively from /content/drive/My Drive/model.w2v.trainables.* with mmap=None\n",
            "2021-08-09 10:34:43,604 : INFO : setting ignored attribute cum_table to None\n",
            "2021-08-09 10:34:43,606 : INFO : loaded /content/drive/My Drive/model.w2v\n"
          ],
          "name": "stderr"
        }
      ]
    },
    {
      "cell_type": "code",
      "metadata": {
        "id": "xiLavdU6H1vy",
        "colab": {
          "base_uri": "https://localhost:8080/"
        },
        "outputId": "98dfbef9-e68f-412b-d8a7-cc3c636d9ebf"
      },
      "source": [
        "w2v_model.most_similar(\"twitter\")"
      ],
      "execution_count": null,
      "outputs": [
        {
          "output_type": "execute_result",
          "data": {
            "text/plain": [
              "[('facebook', 0.5836625099182129),\n",
              " ('twiiter', 0.5476189255714417),\n",
              " ('linkedin', 0.525221049785614),\n",
              " ('tweetdeck', 0.523249089717865),\n",
              " ('tweets', 0.5224666595458984),\n",
              " ('tweet', 0.52085280418396),\n",
              " ('friendfeed', 0.5107216835021973),\n",
              " ('twitted', 0.5070906281471252),\n",
              " ('replies', 0.5020990967750549),\n",
              " ('tweeter', 0.49893391132354736)]"
            ]
          },
          "metadata": {
            "tags": []
          },
          "execution_count": 29
        }
      ]
    },
    {
      "cell_type": "code",
      "metadata": {
        "id": "SaRB0VA1Kp2G",
        "colab": {
          "base_uri": "https://localhost:8080/"
        },
        "outputId": "515c7ef8-14da-439b-ba6c-630b938cc7c8"
      },
      "source": [
        "%%time\n",
        "tokenizer = Tokenizer()\n",
        "tokenizer.fit_on_texts(df_train.text)\n",
        "\n",
        "vocab_size = len(tokenizer.word_index) + 1\n",
        "print(\"Total words\", vocab_size)"
      ],
      "execution_count": null,
      "outputs": [
        {
          "output_type": "stream",
          "text": [
            "Total words 290419\n",
            "CPU times: user 16.3 s, sys: 88.2 ms, total: 16.4 s\n",
            "Wall time: 16.4 s\n"
          ],
          "name": "stdout"
        }
      ]
    },
    {
      "cell_type": "code",
      "metadata": {
        "id": "b-ngc2VjKswx",
        "colab": {
          "base_uri": "https://localhost:8080/"
        },
        "outputId": "c26f2a5f-881b-445a-d3c0-dc05e1714a92"
      },
      "source": [
        "%%time\n",
        "x_train = pad_sequences(tokenizer.texts_to_sequences(df_train.text), maxlen=SEQUENCE_LENGTH)\n",
        "x_test = pad_sequences(tokenizer.texts_to_sequences(df_test.text), maxlen=SEQUENCE_LENGTH)"
      ],
      "execution_count": null,
      "outputs": [
        {
          "output_type": "stream",
          "text": [
            "CPU times: user 24.5 s, sys: 729 ms, total: 25.2 s\n",
            "Wall time: 25 s\n"
          ],
          "name": "stdout"
        }
      ]
    },
    {
      "cell_type": "code",
      "metadata": {
        "id": "x7XQjOydK5Ar",
        "colab": {
          "base_uri": "https://localhost:8080/"
        },
        "outputId": "243738c0-73f0-4a8a-ad80-bf32854e88d1"
      },
      "source": [
        "labels = df_train.target.unique().tolist()\n",
        "labels.append(NEUTRAL)\n",
        "labels"
      ],
      "execution_count": null,
      "outputs": [
        {
          "output_type": "execute_result",
          "data": {
            "text/plain": [
              "['POSITIVE', 'NEGATIVE', 'NEUTRAL']"
            ]
          },
          "metadata": {
            "tags": []
          },
          "execution_count": 37
        }
      ]
    },
    {
      "cell_type": "code",
      "metadata": {
        "id": "pheMnbV3LFog",
        "colab": {
          "base_uri": "https://localhost:8080/"
        },
        "outputId": "f763b46a-cb0a-4715-b39f-a0ba290c81e2"
      },
      "source": [
        "encoder = LabelEncoder()\n",
        "encoder.fit(df_train.target.tolist())\n",
        "\n",
        "y_train = encoder.transform(df_train.target.tolist())\n",
        "y_test = encoder.transform(df_test.target.tolist())\n",
        "\n",
        "y_train = y_train.reshape(-1,1)\n",
        "y_test = y_test.reshape(-1,1)\n",
        "\n",
        "print(\"y_train\",y_train.shape)\n",
        "print(\"y_test\",y_test.shape)"
      ],
      "execution_count": null,
      "outputs": [
        {
          "output_type": "stream",
          "text": [
            "y_train (1280000, 1)\n",
            "y_test (320000, 1)\n"
          ],
          "name": "stdout"
        }
      ]
    },
    {
      "cell_type": "code",
      "metadata": {
        "id": "C6GGzRJTLJXy",
        "colab": {
          "base_uri": "https://localhost:8080/"
        },
        "outputId": "5e247a53-1d0c-4141-95e2-5d5ab25444ae"
      },
      "source": [
        "print(\"x_train\", x_train.shape)\n",
        "print(\"y_train\", y_train.shape)\n",
        "print()\n",
        "print(\"x_test\", x_test.shape)\n",
        "print(\"y_test\", y_test.shape)"
      ],
      "execution_count": null,
      "outputs": [
        {
          "output_type": "stream",
          "text": [
            "x_train (1280000, 300)\n",
            "y_train (1280000, 1)\n",
            "\n",
            "x_test (320000, 300)\n",
            "y_test (320000, 1)\n"
          ],
          "name": "stdout"
        }
      ]
    },
    {
      "cell_type": "code",
      "metadata": {
        "id": "ii-prZpiLRnz",
        "colab": {
          "base_uri": "https://localhost:8080/"
        },
        "outputId": "56a0f749-4374-4aa2-af59-f5d72cdf7765"
      },
      "source": [
        "y_train[:10]"
      ],
      "execution_count": null,
      "outputs": [
        {
          "output_type": "execute_result",
          "data": {
            "text/plain": [
              "array([[1],\n",
              "       [1],\n",
              "       [1],\n",
              "       [0],\n",
              "       [1],\n",
              "       [1],\n",
              "       [1],\n",
              "       [1],\n",
              "       [1],\n",
              "       [1]])"
            ]
          },
          "metadata": {
            "tags": []
          },
          "execution_count": 40
        }
      ]
    },
    {
      "cell_type": "code",
      "metadata": {
        "id": "SCbCxmKla_2X",
        "colab": {
          "base_uri": "https://localhost:8080/"
        },
        "outputId": "e147462f-6725-491b-822d-a96ff807728e"
      },
      "source": [
        "x_train[:5]"
      ],
      "execution_count": null,
      "outputs": [
        {
          "output_type": "execute_result",
          "data": {
            "text/plain": [
              "array([[    0,     0,     0, ...,   712,   118, 24590],\n",
              "       [    0,     0,     0, ...,   452,   378, 32447],\n",
              "       [    0,     0,     0, ...,  2048,     4,  5487],\n",
              "       [    0,     0,     0, ...,     5,     8,     7],\n",
              "       [    0,     0,     0, ...,    63,  1643,  1338]], dtype=int32)"
            ]
          },
          "metadata": {
            "tags": []
          },
          "execution_count": 41
        }
      ]
    },
    {
      "cell_type": "code",
      "metadata": {
        "id": "SoQvjvw-gFO0"
      },
      "source": [
        "import sklearn\n",
        "from sklearn.svm import SVC\n",
        "from sklearn.metrics import accuracy_score, confusion_matrix"
      ],
      "execution_count": null,
      "outputs": []
    },
    {
      "cell_type": "markdown",
      "metadata": {
        "id": "VEzCW442tG9_"
      },
      "source": [
        "# **Support Vector Machine**"
      ]
    },
    {
      "cell_type": "code",
      "metadata": {
        "id": "kAapR3Z_gexf"
      },
      "source": [
        "%%time\n",
        "modal = SVC(kernel='linear')\n",
        "modal.fit(x_train, y_train)\n",
        "y_pred_test = modal.predict(x_test)\n",
        "print(\"Accuracy Of SVM :\",accuracy_score(y_test, y_pred_test))\n",
        "print(\"Confusion Mtrix:\\n\",confusion_matrix(y_test, y_pred_test))\n"
      ],
      "execution_count": null,
      "outputs": []
    },
    {
      "cell_type": "markdown",
      "metadata": {
        "id": "vAlwKtIvtNR1"
      },
      "source": [
        "# **K Means Clustering**"
      ]
    },
    {
      "cell_type": "code",
      "metadata": {
        "id": "ldi1Mcc9hv8y"
      },
      "source": [
        "%%time\n",
        "from sklearn.cluster import KMeans\n",
        "modal = KMeans(n_clusters= 2)\n",
        "modal.fit(x_train, y_train)\n",
        "y_pred_test = modal.predict(x_test)\n",
        "print(\"Accuracy of K Means Clustering\",accuracy_score(y_test, y_pred_test))\n",
        "print(\"Confusion Matix\\n\",confusion_matrix(y_test, y_pred_test))"
      ],
      "execution_count": null,
      "outputs": []
    },
    {
      "cell_type": "markdown",
      "metadata": {
        "id": "YXqK4q-BtTAX"
      },
      "source": [
        "# **Random Forest Classifier**"
      ]
    },
    {
      "cell_type": "code",
      "metadata": {
        "id": "fAPEhsFajiB1",
        "colab": {
          "base_uri": "https://localhost:8080/",
          "height": 119
        },
        "outputId": "d55c7fd6-3f93-4864-e249-0498ad450262"
      },
      "source": [
        "%%time\n",
        "from sklearn.ensemble import RandomForestClassifier\n",
        "modal = RandomForestClassifier(n_estimators = 2)\n",
        "modal.fit(x_train, y_train)\n",
        "y_pred_test = modal.predict(x_test)\n",
        "print(\"Accuracy of Random Forest Classifier\",accuracy_score(y_test, y_pred_test))\n",
        "print(\"Confusion Matrix\\n\",confusion_matrix(y_test, y_pred_test))"
      ],
      "execution_count": null,
      "outputs": [
        {
          "output_type": "stream",
          "text": [
            "Accuracy of Random Forest Classifier 0.56426875\n",
            "Confusion Matrix\n",
            " [[124104  35390]\n",
            " [104044  56462]]\n",
            "CPU times: user 16.5 s, sys: 317 ms, total: 16.8 s\n",
            "Wall time: 16.9 s\n"
          ],
          "name": "stdout"
        }
      ]
    },
    {
      "cell_type": "markdown",
      "metadata": {
        "id": "P6yb-SM7td28"
      },
      "source": [
        "# **Long Short Term Memory**"
      ]
    },
    {
      "cell_type": "code",
      "metadata": {
        "id": "XwuUxX0ALVXx",
        "colab": {
          "base_uri": "https://localhost:8080/"
        },
        "outputId": "6c62ddb1-5143-4cd1-fa09-b7e85f6c7f5c"
      },
      "source": [
        "embedding_matrix = np.zeros((vocab_size, W2V_SIZE))\n",
        "for word, i in tokenizer.word_index.items():\n",
        "  if word in w2v_model.wv:\n",
        "    embedding_matrix[i] = w2v_model.wv[word]\n",
        "print(embedding_matrix.shape)"
      ],
      "execution_count": null,
      "outputs": [
        {
          "output_type": "stream",
          "text": [
            "(290419, 300)\n"
          ],
          "name": "stdout"
        }
      ]
    },
    {
      "cell_type": "code",
      "metadata": {
        "id": "X2s9iIisLZJw"
      },
      "source": [
        "embedding_layer = Embedding(vocab_size, W2V_SIZE, weights=[embedding_matrix], input_length=SEQUENCE_LENGTH, trainable=False)"
      ],
      "execution_count": null,
      "outputs": []
    },
    {
      "cell_type": "code",
      "metadata": {
        "id": "yJnW5zExLcVQ",
        "colab": {
          "base_uri": "https://localhost:8080/"
        },
        "outputId": "47948189-b0db-4118-9dba-73271f8be8ef"
      },
      "source": [
        "model = Sequential()\n",
        "model.add(embedding_layer)\n",
        "model.add(Dropout(0.5))\n",
        "model.add(LSTM(100, dropout=0.2, recurrent_dropout=0.2))\n",
        "model.add(Dense(1, activation='sigmoid'))\n",
        "\n",
        "model.summary()"
      ],
      "execution_count": null,
      "outputs": [
        {
          "output_type": "stream",
          "text": [
            "WARNING:tensorflow:Layer lstm will not use cuDNN kernels since it doesn't meet the criteria. It will use a generic GPU kernel as fallback when running on GPU.\n"
          ],
          "name": "stdout"
        },
        {
          "output_type": "stream",
          "text": [
            "2021-08-09 10:55:30,050 : WARNING : Layer lstm will not use cuDNN kernels since it doesn't meet the criteria. It will use a generic GPU kernel as fallback when running on GPU.\n"
          ],
          "name": "stderr"
        },
        {
          "output_type": "stream",
          "text": [
            "Model: \"sequential\"\n",
            "_________________________________________________________________\n",
            "Layer (type)                 Output Shape              Param #   \n",
            "=================================================================\n",
            "embedding (Embedding)        (None, 300, 300)          87125700  \n",
            "_________________________________________________________________\n",
            "dropout (Dropout)            (None, 300, 300)          0         \n",
            "_________________________________________________________________\n",
            "lstm (LSTM)                  (None, 100)               160400    \n",
            "_________________________________________________________________\n",
            "dense (Dense)                (None, 1)                 101       \n",
            "=================================================================\n",
            "Total params: 87,286,201\n",
            "Trainable params: 160,501\n",
            "Non-trainable params: 87,125,700\n",
            "_________________________________________________________________\n"
          ],
          "name": "stdout"
        }
      ]
    },
    {
      "cell_type": "code",
      "metadata": {
        "id": "HWGQ2hCgLvls"
      },
      "source": [
        "model.compile(loss='binary_crossentropy',\n",
        "              optimizer=\"adam\",\n",
        "              metrics=['accuracy'])"
      ],
      "execution_count": null,
      "outputs": []
    },
    {
      "cell_type": "code",
      "metadata": {
        "id": "epHy7RWWL6YK"
      },
      "source": [
        "callbacks = [ ReduceLROnPlateau(monitor='val_loss', patience=5, cooldown=0),\n",
        "              EarlyStopping(monitor='val_acc', min_delta=1e-4, patience=5)]"
      ],
      "execution_count": null,
      "outputs": []
    },
    {
      "cell_type": "code",
      "metadata": {
        "id": "2c9vR9QIL_N2"
      },
      "source": [
        "%%time\n",
        "history = model.fit(x_train, y_train,\n",
        "                    batch_size=BATCH_SIZE,\n",
        "                    epochs=EPOCHS,\n",
        "                    validation_split=0.1,\n",
        "                    verbose=1,\n",
        "                    callbacks=callbacks)"
      ],
      "execution_count": null,
      "outputs": []
    },
    {
      "cell_type": "code",
      "metadata": {
        "id": "CyIK5seloQdn",
        "colab": {
          "base_uri": "https://localhost:8080/"
        },
        "outputId": "0781a838-397a-4d33-d5e6-1755dc82bb23"
      },
      "source": [
        "model = keras.models.load_model('/content/drive/My Drive/model.h5')"
      ],
      "execution_count": null,
      "outputs": [
        {
          "output_type": "stream",
          "text": [
            "WARNING:tensorflow:Layer lstm_1 will not use cuDNN kernels since it doesn't meet the criteria. It will use a generic GPU kernel as fallback when running on GPU.\n"
          ],
          "name": "stdout"
        },
        {
          "output_type": "stream",
          "text": [
            "2021-08-09 11:42:55,928 : WARNING : Layer lstm_1 will not use cuDNN kernels since it doesn't meet the criteria. It will use a generic GPU kernel as fallback when running on GPU.\n"
          ],
          "name": "stderr"
        }
      ]
    },
    {
      "cell_type": "code",
      "metadata": {
        "id": "tIMeqO34MC2q",
        "colab": {
          "base_uri": "https://localhost:8080/"
        },
        "outputId": "883e70a6-3932-492b-9a2d-f8a0fba293aa"
      },
      "source": [
        "%%time\n",
        "score = model.evaluate(x_test, y_test, batch_size=BATCH_SIZE)\n",
        "print()\n",
        "print(\"ACCURACY:\",score[1])\n",
        "print(\"LOSS:\",score[0])"
      ],
      "execution_count": null,
      "outputs": [
        {
          "output_type": "stream",
          "text": [
            "313/313 [==============================] - 55s 170ms/step - loss: 0.4467 - accuracy: 0.7891\n",
            "\n",
            "ACCURACY: 0.789118766784668\n",
            "LOSS: 0.4466644525527954\n",
            "CPU times: user 51.6 s, sys: 1.65 s, total: 53.3 s\n",
            "Wall time: 54.9 s\n"
          ],
          "name": "stdout"
        }
      ]
    },
    {
      "cell_type": "code",
      "metadata": {
        "id": "o66MpxbMpIbq",
        "colab": {
          "base_uri": "https://localhost:8080/",
          "height": 163
        },
        "outputId": "b1cdab9f-29ae-4e36-aeb7-93cc564adb87"
      },
      "source": [
        " print(history.history['accuracy'])"
      ],
      "execution_count": null,
      "outputs": [
        {
          "output_type": "error",
          "ename": "NameError",
          "evalue": "ignored",
          "traceback": [
            "\u001b[0;31m---------------------------------------------------------------------------\u001b[0m",
            "\u001b[0;31mNameError\u001b[0m                                 Traceback (most recent call last)",
            "\u001b[0;32m<ipython-input-51-3af2e4a2f7ab>\u001b[0m in \u001b[0;36m<module>\u001b[0;34m()\u001b[0m\n\u001b[0;32m----> 1\u001b[0;31m \u001b[0mprint\u001b[0m\u001b[0;34m(\u001b[0m\u001b[0mhistory\u001b[0m\u001b[0;34m.\u001b[0m\u001b[0mhistory\u001b[0m\u001b[0;34m[\u001b[0m\u001b[0;34m'accuracy'\u001b[0m\u001b[0;34m]\u001b[0m\u001b[0;34m)\u001b[0m\u001b[0;34m\u001b[0m\u001b[0;34m\u001b[0m\u001b[0m\n\u001b[0m",
            "\u001b[0;31mNameError\u001b[0m: name 'history' is not defined"
          ]
        }
      ]
    },
    {
      "cell_type": "markdown",
      "metadata": {
        "id": "g6FSN2v-t89L"
      },
      "source": [
        "Accuracy and Loss Graph"
      ]
    },
    {
      "cell_type": "code",
      "metadata": {
        "id": "JZ3XoP4GofRP",
        "colab": {
          "base_uri": "https://localhost:8080/",
          "height": 231
        },
        "outputId": "dc2f62b8-8b06-48d2-b184-26478235248c"
      },
      "source": [
        "acc = history.history['accuracy']\n",
        "val_acc = history.history['val_accuracy']\n",
        "loss = history.history['loss']\n",
        "val_loss = history.history['val_loss']\n",
        " \n",
        "epochs = range(len(acc))\n",
        " \n",
        "plt.plot(epochs, acc, 'b', label='Training acc')\n",
        "plt.plot(epochs, val_acc, 'r', label='Validation acc')\n",
        "plt.title('Training and validation accuracy')\n",
        "plt.legend()\n",
        " \n",
        "plt.figure()\n",
        " \n",
        "plt.plot(epochs, loss, 'b', label='Training loss')\n",
        "plt.plot(epochs, val_loss, 'r', label='Validation loss')\n",
        "plt.title('Training and validation loss')\n",
        "plt.legend()\n",
        "plt.savefig('Epoch_16.png')\n",
        "plt.show()\n"
      ],
      "execution_count": null,
      "outputs": [
        {
          "output_type": "error",
          "ename": "NameError",
          "evalue": "ignored",
          "traceback": [
            "\u001b[0;31m---------------------------------------------------------------------------\u001b[0m",
            "\u001b[0;31mNameError\u001b[0m                                 Traceback (most recent call last)",
            "\u001b[0;32m<ipython-input-52-2a044cbe2457>\u001b[0m in \u001b[0;36m<module>\u001b[0;34m()\u001b[0m\n\u001b[0;32m----> 1\u001b[0;31m \u001b[0macc\u001b[0m \u001b[0;34m=\u001b[0m \u001b[0mhistory\u001b[0m\u001b[0;34m.\u001b[0m\u001b[0mhistory\u001b[0m\u001b[0;34m[\u001b[0m\u001b[0;34m'accuracy'\u001b[0m\u001b[0;34m]\u001b[0m\u001b[0;34m\u001b[0m\u001b[0;34m\u001b[0m\u001b[0m\n\u001b[0m\u001b[1;32m      2\u001b[0m \u001b[0mval_acc\u001b[0m \u001b[0;34m=\u001b[0m \u001b[0mhistory\u001b[0m\u001b[0;34m.\u001b[0m\u001b[0mhistory\u001b[0m\u001b[0;34m[\u001b[0m\u001b[0;34m'val_accuracy'\u001b[0m\u001b[0;34m]\u001b[0m\u001b[0;34m\u001b[0m\u001b[0;34m\u001b[0m\u001b[0m\n\u001b[1;32m      3\u001b[0m \u001b[0mloss\u001b[0m \u001b[0;34m=\u001b[0m \u001b[0mhistory\u001b[0m\u001b[0;34m.\u001b[0m\u001b[0mhistory\u001b[0m\u001b[0;34m[\u001b[0m\u001b[0;34m'loss'\u001b[0m\u001b[0;34m]\u001b[0m\u001b[0;34m\u001b[0m\u001b[0;34m\u001b[0m\u001b[0m\n\u001b[1;32m      4\u001b[0m \u001b[0mval_loss\u001b[0m \u001b[0;34m=\u001b[0m \u001b[0mhistory\u001b[0m\u001b[0;34m.\u001b[0m\u001b[0mhistory\u001b[0m\u001b[0;34m[\u001b[0m\u001b[0;34m'val_loss'\u001b[0m\u001b[0;34m]\u001b[0m\u001b[0;34m\u001b[0m\u001b[0;34m\u001b[0m\u001b[0m\n\u001b[1;32m      5\u001b[0m \u001b[0;34m\u001b[0m\u001b[0m\n",
            "\u001b[0;31mNameError\u001b[0m: name 'history' is not defined"
          ]
        }
      ]
    },
    {
      "cell_type": "code",
      "metadata": {
        "id": "j8VOzDjwovvk"
      },
      "source": [
        "def decode_sentiment(score, include_neutral=True):\n",
        "    if include_neutral:        \n",
        "        label = NEUTRAL\n",
        "        if score <= SENTIMENT_THRESHOLDS[0]:\n",
        "            label = NEGATIVE\n",
        "        elif score >= SENTIMENT_THRESHOLDS[1]:\n",
        "            label = POSITIVE\n",
        "\n",
        "        return label\n",
        "    else:\n",
        "        return NEGATIVE if score < 0.5 else POSITIVE"
      ],
      "execution_count": null,
      "outputs": []
    },
    {
      "cell_type": "code",
      "metadata": {
        "id": "F91l8QgBp7GF"
      },
      "source": [
        "def predict(text, include_neutral=True):\n",
        "    start_at = time.time()\n",
        "    # Tokenize text\n",
        "    x_test = pad_sequences(tokenizer.texts_to_sequences([text]), maxlen=SEQUENCE_LENGTH)\n",
        "    # Predict\n",
        "    score = model.predict([x_test])[0]\n",
        "    # Decode sentiment\n",
        "    label = decode_sentiment(score, include_neutral=include_neutral)\n",
        "\n",
        "    return {\"label\": label, \"score\": float(score),\n",
        "       \"elapsed_time\": time.time()-start_at} "
      ],
      "execution_count": null,
      "outputs": []
    },
    {
      "cell_type": "code",
      "metadata": {
        "id": "6E-kR-4Rp-W8",
        "colab": {
          "base_uri": "https://localhost:8080/"
        },
        "outputId": "1adc33bf-eab3-49f1-fd11-e783c5aaaab3"
      },
      "source": [
        "predict(\"I love cricket\")"
      ],
      "execution_count": null,
      "outputs": [
        {
          "output_type": "execute_result",
          "data": {
            "text/plain": [
              "{'elapsed_time': 0.9035966396331787,\n",
              " 'label': 'POSITIVE',\n",
              " 'score': 0.8638536334037781}"
            ]
          },
          "metadata": {
            "tags": []
          },
          "execution_count": 55
        }
      ]
    },
    {
      "cell_type": "code",
      "metadata": {
        "id": "D5tvAGKkqCnu",
        "colab": {
          "base_uri": "https://localhost:8080/"
        },
        "outputId": "6195caf2-72ca-4186-e374-4fc391a50808"
      },
      "source": [
        "predict(\"best\")"
      ],
      "execution_count": null,
      "outputs": [
        {
          "output_type": "execute_result",
          "data": {
            "text/plain": [
              "{'elapsed_time': 0.11944198608398438,\n",
              " 'label': 'POSITIVE',\n",
              " 'score': 0.9017211198806763}"
            ]
          },
          "metadata": {
            "tags": []
          },
          "execution_count": 67
        }
      ]
    },
    {
      "cell_type": "code",
      "metadata": {
        "id": "xEJKjKgXW-4b"
      },
      "source": [
        "predict(\"this is ball\")"
      ],
      "execution_count": null,
      "outputs": []
    },
    {
      "cell_type": "code",
      "metadata": {
        "id": "Hg7f6e1FqJ9Q"
      },
      "source": [
        "%%time\n",
        "y_pred_1d = []\n",
        "y_test_1d = list(df_test.target)\n",
        "scores = model.predict(x_test, verbose=1, batch_size=8000)\n",
        "y_pred_1d = [decode_sentiment(score, include_neutral=False) for score in scores]"
      ],
      "execution_count": null,
      "outputs": []
    },
    {
      "cell_type": "code",
      "metadata": {
        "id": "1ukbrJryqNzn"
      },
      "source": [
        "def plot_confusion_matrix(cm, classes,\n",
        "                          title='Confusion matrix',\n",
        "                          cmap=plt.cm.Blues):\n",
        "    \"\"\"\n",
        "    This function prints and plots the confusion matrix.\n",
        "    Normalization can be applied by setting `normalize=True`.\n",
        "    \"\"\"\n",
        "\n",
        "    cm = cm.astype('float') / cm.sum(axis=1)[:, np.newaxis]\n",
        "\n",
        "    plt.imshow(cm, interpolation='nearest', cmap=cmap)\n",
        "    plt.title(title, fontsize=30)\n",
        "    plt.colorbar()\n",
        "    tick_marks = np.arange(len(classes))\n",
        "    plt.xticks(tick_marks, classes, rotation=90, fontsize=22)\n",
        "    plt.yticks(tick_marks, classes, fontsize=22)\n",
        "\n",
        "    fmt = '.2f'\n",
        "    thresh = cm.max() / 2.\n",
        "    for i, j in itertools.product(range(cm.shape[0]), range(cm.shape[1])):\n",
        "        plt.text(j, i, format(cm[i, j], fmt),\n",
        "                 horizontalalignment=\"center\",\n",
        "                 color=\"white\" if cm[i, j] > thresh else \"black\")\n",
        "\n",
        "    plt.ylabel('True label', fontsize=25)\n",
        "    plt.xlabel('Predicted label', fontsize=25)\n"
      ],
      "execution_count": null,
      "outputs": []
    },
    {
      "cell_type": "code",
      "metadata": {
        "id": "uF-nH9AJqZKQ"
      },
      "source": [
        "%%time\n",
        "\n",
        "cnf_matrix = confusion_matrix(y_test_1d, y_pred_1d)\n",
        "plt.figure(figsize=(6,6))\n",
        "plot_confusion_matrix(cnf_matrix, classes=df_train.target.unique(), title=\"Confusion matrix\")\n",
        "plt.show()\n"
      ],
      "execution_count": null,
      "outputs": []
    },
    {
      "cell_type": "code",
      "metadata": {
        "id": "TZOGSwOhqfjL"
      },
      "source": [
        "print(classification_report(y_test_1d, y_pred_1d))"
      ],
      "execution_count": null,
      "outputs": []
    },
    {
      "cell_type": "code",
      "metadata": {
        "id": "qR6Po4E6qm5M"
      },
      "source": [
        "accuracy_score(y_test_1d, y_pred_1d)"
      ],
      "execution_count": null,
      "outputs": []
    },
    {
      "cell_type": "markdown",
      "metadata": {
        "id": "unRVaDrkuSRH"
      },
      "source": [
        "# **Saving Trained Model**"
      ]
    },
    {
      "cell_type": "code",
      "metadata": {
        "id": "6wDhd0tVqri5"
      },
      "source": [
        "model.save(KERAS_MODEL)\n",
        "w2v_model.save(WORD2VEC_MODEL)\n",
        "pickle.dump(tokenizer, open(TOKENIZER_MODEL, \"wb\"), protocol=0)\n",
        "pickle.dump(encoder, open(ENCODER_MODEL, \"wb\"), protocol=0)"
      ],
      "execution_count": null,
      "outputs": []
    }
  ]
}